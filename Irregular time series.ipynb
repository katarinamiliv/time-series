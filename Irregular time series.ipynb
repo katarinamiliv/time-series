{
 "cells": [
  {
   "cell_type": "markdown",
   "metadata": {},
   "source": [
    "#### Irregular data: interval between the observations is not fixed.\n",
    "#### On the other hand, most modeling techniques require a regular time series.\n",
    "\n",
    "#### Possible solution: aggregation of the data at a particular unit of time."
   ]
  },
  {
   "cell_type": "code",
   "execution_count": 65,
   "metadata": {},
   "outputs": [
    {
     "data": {
      "text/html": [
       "<table>\n",
       "<thead><tr><th scope=col>V1</th><th scope=col>V2</th></tr></thead>\n",
       "<tbody>\n",
       "\t<tr><td>05/16/17 10:34 AM</td><td>334.5            </td></tr>\n",
       "\t<tr><td>05/17/17 03:23 PM</td><td>385.9            </td></tr>\n",
       "\t<tr><td>05/17/17 08:45 PM</td><td>492.5            </td></tr>\n",
       "\t<tr><td>05/18/17 03:23 AM</td><td>325.8            </td></tr>\n",
       "\t<tr><td>05/18/17 12:34 PM</td><td>372.6            </td></tr>\n",
       "\t<tr><td>05/19/17 11:34 AM</td><td>345.2            </td></tr>\n",
       "\t<tr><td>05/20/17 12:34 PM</td><td>419.5            </td></tr>\n",
       "\t<tr><td>05/21/17 12:34 PM</td><td>352.9            </td></tr>\n",
       "\t<tr><td>05/22/17 05:45 PM</td><td>351.9            </td></tr>\n",
       "\t<tr><td>05/22/17 06:02 AM</td><td>392.5            </td></tr>\n",
       "\t<tr><td>05/23/17 04:45 AM</td><td>401.3            </td></tr>\n",
       "\t<tr><td>05/23/17 12:34 PM</td><td>403.6            </td></tr>\n",
       "\t<tr><td>05/24/17 02:35 AM</td><td>309.5            </td></tr>\n",
       "\t<tr><td>05/25/17 04:27 AM</td><td>382.0            </td></tr>\n",
       "\t<tr><td>05/26/17 03:39 PM</td><td>432.6            </td></tr>\n",
       "\t<tr><td>05/27/17 06:29 AM</td><td>392.6            </td></tr>\n",
       "\t<tr><td>05/28/17 07:29 AM</td><td>391.0            </td></tr>\n",
       "\t<tr><td>05/29/17 05:49 AM</td><td>405.0            </td></tr>\n",
       "\t<tr><td>05/30/17 07:49 AM</td><td>392.5            </td></tr>\n",
       "\t<tr><td>05/30/17 08:34 AM</td><td>372.5            </td></tr>\n",
       "\t<tr><td>05/30/17 01:37 PM</td><td>312.7            </td></tr>\n",
       "\t<tr><td>05/30/17 03:45 PM</td><td>402.1            </td></tr>\n",
       "\t<tr><td>05/31/17 05:37 AM</td><td>305.1            </td></tr>\n",
       "\t<tr><td>05/31/17 08:38 AM</td><td>402.5            </td></tr>\n",
       "\t<tr><td>05/31/17 04:45 PM</td><td>307.1            </td></tr>\n",
       "</tbody>\n",
       "</table>\n"
      ],
      "text/latex": [
       "\\begin{tabular}{r|ll}\n",
       " V1 & V2\\\\\n",
       "\\hline\n",
       "\t 05/16/17 10:34 AM & 334.5            \\\\\n",
       "\t 05/17/17 03:23 PM & 385.9            \\\\\n",
       "\t 05/17/17 08:45 PM & 492.5            \\\\\n",
       "\t 05/18/17 03:23 AM & 325.8            \\\\\n",
       "\t 05/18/17 12:34 PM & 372.6            \\\\\n",
       "\t 05/19/17 11:34 AM & 345.2            \\\\\n",
       "\t 05/20/17 12:34 PM & 419.5            \\\\\n",
       "\t 05/21/17 12:34 PM & 352.9            \\\\\n",
       "\t 05/22/17 05:45 PM & 351.9            \\\\\n",
       "\t 05/22/17 06:02 AM & 392.5            \\\\\n",
       "\t 05/23/17 04:45 AM & 401.3            \\\\\n",
       "\t 05/23/17 12:34 PM & 403.6            \\\\\n",
       "\t 05/24/17 02:35 AM & 309.5            \\\\\n",
       "\t 05/25/17 04:27 AM & 382.0            \\\\\n",
       "\t 05/26/17 03:39 PM & 432.6            \\\\\n",
       "\t 05/27/17 06:29 AM & 392.6            \\\\\n",
       "\t 05/28/17 07:29 AM & 391.0            \\\\\n",
       "\t 05/29/17 05:49 AM & 405.0            \\\\\n",
       "\t 05/30/17 07:49 AM & 392.5            \\\\\n",
       "\t 05/30/17 08:34 AM & 372.5            \\\\\n",
       "\t 05/30/17 01:37 PM & 312.7            \\\\\n",
       "\t 05/30/17 03:45 PM & 402.1            \\\\\n",
       "\t 05/31/17 05:37 AM & 305.1            \\\\\n",
       "\t 05/31/17 08:38 AM & 402.5            \\\\\n",
       "\t 05/31/17 04:45 PM & 307.1            \\\\\n",
       "\\end{tabular}\n"
      ],
      "text/markdown": [
       "\n",
       "| V1 | V2 |\n",
       "|---|---|\n",
       "| 05/16/17 10:34 AM | 334.5             |\n",
       "| 05/17/17 03:23 PM | 385.9             |\n",
       "| 05/17/17 08:45 PM | 492.5             |\n",
       "| 05/18/17 03:23 AM | 325.8             |\n",
       "| 05/18/17 12:34 PM | 372.6             |\n",
       "| 05/19/17 11:34 AM | 345.2             |\n",
       "| 05/20/17 12:34 PM | 419.5             |\n",
       "| 05/21/17 12:34 PM | 352.9             |\n",
       "| 05/22/17 05:45 PM | 351.9             |\n",
       "| 05/22/17 06:02 AM | 392.5             |\n",
       "| 05/23/17 04:45 AM | 401.3             |\n",
       "| 05/23/17 12:34 PM | 403.6             |\n",
       "| 05/24/17 02:35 AM | 309.5             |\n",
       "| 05/25/17 04:27 AM | 382.0             |\n",
       "| 05/26/17 03:39 PM | 432.6             |\n",
       "| 05/27/17 06:29 AM | 392.6             |\n",
       "| 05/28/17 07:29 AM | 391.0             |\n",
       "| 05/29/17 05:49 AM | 405.0             |\n",
       "| 05/30/17 07:49 AM | 392.5             |\n",
       "| 05/30/17 08:34 AM | 372.5             |\n",
       "| 05/30/17 01:37 PM | 312.7             |\n",
       "| 05/30/17 03:45 PM | 402.1             |\n",
       "| 05/31/17 05:37 AM | 305.1             |\n",
       "| 05/31/17 08:38 AM | 402.5             |\n",
       "| 05/31/17 04:45 PM | 307.1             |\n",
       "\n"
      ],
      "text/plain": [
       "   V1                V2   \n",
       "1  05/16/17 10:34 AM 334.5\n",
       "2  05/17/17 03:23 PM 385.9\n",
       "3  05/17/17 08:45 PM 492.5\n",
       "4  05/18/17 03:23 AM 325.8\n",
       "5  05/18/17 12:34 PM 372.6\n",
       "6  05/19/17 11:34 AM 345.2\n",
       "7  05/20/17 12:34 PM 419.5\n",
       "8  05/21/17 12:34 PM 352.9\n",
       "9  05/22/17 05:45 PM 351.9\n",
       "10 05/22/17 06:02 AM 392.5\n",
       "11 05/23/17 04:45 AM 401.3\n",
       "12 05/23/17 12:34 PM 403.6\n",
       "13 05/24/17 02:35 AM 309.5\n",
       "14 05/25/17 04:27 AM 382.0\n",
       "15 05/26/17 03:39 PM 432.6\n",
       "16 05/27/17 06:29 AM 392.6\n",
       "17 05/28/17 07:29 AM 391.0\n",
       "18 05/29/17 05:49 AM 405.0\n",
       "19 05/30/17 07:49 AM 392.5\n",
       "20 05/30/17 08:34 AM 372.5\n",
       "21 05/30/17 01:37 PM 312.7\n",
       "22 05/30/17 03:45 PM 402.1\n",
       "23 05/31/17 05:37 AM 305.1\n",
       "24 05/31/17 08:38 AM 402.5\n",
       "25 05/31/17 04:45 PM 307.1"
      ]
     },
     "metadata": {},
     "output_type": "display_data"
    }
   ],
   "source": [
    "# importing some irregular data file\n",
    "irregular_sensor = read.csv('irregular-sensor.csv', header = FALSE, sep = ',')\n",
    "irregular_sensor # we see irregularity of date and time - not fixed intervals between observations\n",
    "# we will regularize the data set by making it daily - there has to be at least one observation a day\n",
    "# but, it is not too bad if we have very few missing data, that we can later impute\n",
    "# for too many missing data, we should change the time window from daily to maybe weekly, monthly, etc."
   ]
  },
  {
   "cell_type": "code",
   "execution_count": 66,
   "metadata": {},
   "outputs": [
    {
     "data": {
      "text/html": [
       "'factor'"
      ],
      "text/latex": [
       "'factor'"
      ],
      "text/markdown": [
       "'factor'"
      ],
      "text/plain": [
       "[1] \"factor\""
      ]
     },
     "metadata": {},
     "output_type": "display_data"
    },
    {
     "data": {
      "text/html": [
       "'numeric'"
      ],
      "text/latex": [
       "'numeric'"
      ],
      "text/markdown": [
       "'numeric'"
      ],
      "text/plain": [
       "[1] \"numeric\""
      ]
     },
     "metadata": {},
     "output_type": "display_data"
    }
   ],
   "source": [
    "class(irregular_sensor$V1) # does not recognize date and time format\n",
    "class(irregular_sensor$V2)"
   ]
  },
  {
   "cell_type": "code",
   "execution_count": 72,
   "metadata": {},
   "outputs": [],
   "source": [
    "# we will need a library for irregular time series\n",
    "library('zoo')"
   ]
  },
  {
   "cell_type": "markdown",
   "metadata": {},
   "source": [
    "### Method 1: Separating the date and time components"
   ]
  },
  {
   "cell_type": "code",
   "execution_count": 73,
   "metadata": {},
   "outputs": [
    {
     "data": {
      "text/html": [
       "<table>\n",
       "<thead><tr><th scope=col>date</th><th scope=col>time</th><th scope=col>V2</th></tr></thead>\n",
       "<tbody>\n",
       "\t<tr><td>05/16/17 </td><td> 10:34 AM</td><td>334.5    </td></tr>\n",
       "\t<tr><td>05/17/17 </td><td> 03:23 PM</td><td>385.9    </td></tr>\n",
       "\t<tr><td>05/17/17 </td><td> 08:45 PM</td><td>492.5    </td></tr>\n",
       "\t<tr><td>05/18/17 </td><td> 03:23 AM</td><td>325.8    </td></tr>\n",
       "\t<tr><td>05/18/17 </td><td> 12:34 PM</td><td>372.6    </td></tr>\n",
       "\t<tr><td>05/19/17 </td><td> 11:34 AM</td><td>345.2    </td></tr>\n",
       "</tbody>\n",
       "</table>\n"
      ],
      "text/latex": [
       "\\begin{tabular}{r|lll}\n",
       " date & time & V2\\\\\n",
       "\\hline\n",
       "\t 05/16/17  &  10:34 AM & 334.5    \\\\\n",
       "\t 05/17/17  &  03:23 PM & 385.9    \\\\\n",
       "\t 05/17/17  &  08:45 PM & 492.5    \\\\\n",
       "\t 05/18/17  &  03:23 AM & 325.8    \\\\\n",
       "\t 05/18/17  &  12:34 PM & 372.6    \\\\\n",
       "\t 05/19/17  &  11:34 AM & 345.2    \\\\\n",
       "\\end{tabular}\n"
      ],
      "text/markdown": [
       "\n",
       "| date | time | V2 |\n",
       "|---|---|---|\n",
       "| 05/16/17  |  10:34 AM | 334.5     |\n",
       "| 05/17/17  |  03:23 PM | 385.9     |\n",
       "| 05/17/17  |  08:45 PM | 492.5     |\n",
       "| 05/18/17  |  03:23 AM | 325.8     |\n",
       "| 05/18/17  |  12:34 PM | 372.6     |\n",
       "| 05/19/17  |  11:34 AM | 345.2     |\n",
       "\n"
      ],
      "text/plain": [
       "  date     time      V2   \n",
       "1 05/16/17  10:34 AM 334.5\n",
       "2 05/17/17  03:23 PM 385.9\n",
       "3 05/17/17  08:45 PM 492.5\n",
       "4 05/18/17  03:23 AM 325.8\n",
       "5 05/18/17  12:34 PM 372.6\n",
       "6 05/19/17  11:34 AM 345.2"
      ]
     },
     "metadata": {},
     "output_type": "display_data"
    }
   ],
   "source": [
    "# as we want to aggregate by date, ignoring time, we should separate date and time data in column V1\n",
    "library(tidyr) # for function separate\n",
    "irreg_split = separate(irregular_sensor, col = V1, \n",
    "                    into = c('date', 'time'),\n",
    "                    sep = 8, remove = T) \n",
    "# sep: positive nr is for separating from the left side, and negative for separating from the right side\n",
    "# 'remove = T' for removing the initial column V1\n",
    "head(irreg_split)"
   ]
  },
  {
   "cell_type": "code",
   "execution_count": 74,
   "metadata": {},
   "outputs": [
    {
     "data": {
      "text/html": [
       "<ol class=list-inline>\n",
       "\t<li>'POSIXlt'</li>\n",
       "\t<li>'POSIXt'</li>\n",
       "</ol>\n"
      ],
      "text/latex": [
       "\\begin{enumerate*}\n",
       "\\item 'POSIXlt'\n",
       "\\item 'POSIXt'\n",
       "\\end{enumerate*}\n"
      ],
      "text/markdown": [
       "1. 'POSIXlt'\n",
       "2. 'POSIXt'\n",
       "\n",
       "\n"
      ],
      "text/plain": [
       "[1] \"POSIXlt\" \"POSIXt\" "
      ]
     },
     "metadata": {},
     "output_type": "display_data"
    },
    {
     "data": {
      "text/plain": [
       "[1] \"2017-05-16 CEST\" \"2017-05-17 CEST\" \"2017-05-17 CEST\" \"2017-05-18 CEST\"\n",
       "[5] \"2017-05-18 CEST\" \"2017-05-19 CEST\""
      ]
     },
     "metadata": {},
     "output_type": "display_data"
    }
   ],
   "source": [
    "# converting text date column into a date/time format\n",
    "# ?strptime => Date-time Conversion Functions to and from Character\n",
    "sensor_date = strptime(irreg_split$date, '%m/%d/%y')\n",
    "class(sensor_date) # POSIXlt class with components of time and time zone\n",
    "head(sensor_date)"
   ]
  },
  {
   "cell_type": "code",
   "execution_count": 99,
   "metadata": {},
   "outputs": [
    {
     "data": {
      "text/html": [
       "'Date'"
      ],
      "text/latex": [
       "'Date'"
      ],
      "text/markdown": [
       "'Date'"
      ],
      "text/plain": [
       "[1] \"Date\""
      ]
     },
     "metadata": {},
     "output_type": "display_data"
    },
    {
     "data": {
      "text/html": [
       "<table>\n",
       "<thead><tr><th scope=col>date</th><th scope=col>measurement</th></tr></thead>\n",
       "<tbody>\n",
       "\t<tr><td>2017-05-16</td><td>334.5     </td></tr>\n",
       "\t<tr><td>2017-05-17</td><td>385.9     </td></tr>\n",
       "\t<tr><td>2017-05-17</td><td>492.5     </td></tr>\n",
       "\t<tr><td>2017-05-18</td><td>325.8     </td></tr>\n",
       "\t<tr><td>2017-05-18</td><td>372.6     </td></tr>\n",
       "\t<tr><td>2017-05-19</td><td>345.2     </td></tr>\n",
       "</tbody>\n",
       "</table>\n"
      ],
      "text/latex": [
       "\\begin{tabular}{r|ll}\n",
       " date & measurement\\\\\n",
       "\\hline\n",
       "\t 2017-05-16 & 334.5     \\\\\n",
       "\t 2017-05-17 & 385.9     \\\\\n",
       "\t 2017-05-17 & 492.5     \\\\\n",
       "\t 2017-05-18 & 325.8     \\\\\n",
       "\t 2017-05-18 & 372.6     \\\\\n",
       "\t 2017-05-19 & 345.2     \\\\\n",
       "\\end{tabular}\n"
      ],
      "text/markdown": [
       "\n",
       "| date | measurement |\n",
       "|---|---|\n",
       "| 2017-05-16 | 334.5      |\n",
       "| 2017-05-17 | 385.9      |\n",
       "| 2017-05-17 | 492.5      |\n",
       "| 2017-05-18 | 325.8      |\n",
       "| 2017-05-18 | 372.6      |\n",
       "| 2017-05-19 | 345.2      |\n",
       "\n"
      ],
      "text/plain": [
       "  date       measurement\n",
       "1 2017-05-16 334.5      \n",
       "2 2017-05-17 385.9      \n",
       "3 2017-05-17 492.5      \n",
       "4 2017-05-18 325.8      \n",
       "5 2017-05-18 372.6      \n",
       "6 2017-05-19 345.2      "
      ]
     },
     "metadata": {},
     "output_type": "display_data"
    }
   ],
   "source": [
    "# creating a data.frame with info that we need: date in a date/time format, and measurement\n",
    "irregts_df = data.frame(date = as.Date(sensor_date), # converting sensor_date to a proper date format (Date class)\n",
    "                         measurement = irregular_sensor$V2)\n",
    "# as I see, we did not have to convert POSIXt to Date class\n",
    "class(irregts_df[, c('date')])\n",
    "head(irregts_df)"
   ]
  },
  {
   "cell_type": "code",
   "execution_count": 100,
   "metadata": {},
   "outputs": [
    {
     "name": "stderr",
     "output_type": "stream",
     "text": [
      "Warning message in zoo(irregts_df$measurement, order.by = irregts_df$date):\n",
      "\"some methods for \"zoo\" objects do not work if the index entries in 'order.by' are not unique\""
     ]
    },
    {
     "data": {
      "text/html": [
       "'zoo'"
      ],
      "text/latex": [
       "'zoo'"
      ],
      "text/markdown": [
       "'zoo'"
      ],
      "text/plain": [
       "[1] \"zoo\""
      ]
     },
     "metadata": {},
     "output_type": "display_data"
    },
    {
     "data": {
      "text/html": [
       "25"
      ],
      "text/latex": [
       "25"
      ],
      "text/markdown": [
       "25"
      ],
      "text/plain": [
       "[1] 25"
      ]
     },
     "metadata": {},
     "output_type": "display_data"
    },
    {
     "name": "stderr",
     "output_type": "stream",
     "text": [
      "Warning message in zoo(rval[i], index(x)[i]):\n",
      "\"some methods for \"zoo\" objects do not work if the index entries in 'order.by' are not unique\""
     ]
    },
    {
     "data": {
      "text/plain": [
       "2017-05-16 2017-05-17 2017-05-17 2017-05-18 2017-05-18 2017-05-19 \n",
       "     334.5      385.9      492.5      325.8      372.6      345.2 "
      ]
     },
     "metadata": {},
     "output_type": "display_data"
    }
   ],
   "source": [
    "# converting irregts_df to a zoo object, which enables aggregation\n",
    "irreg_dates = zoo(irregts_df$measurement,\n",
    "                  order.by = irregts_df$date)\n",
    "class(irreg_dates) # allows irregular time stamp\n",
    "length(irreg_dates)\n",
    "head(irreg_dates)"
   ]
  },
  {
   "cell_type": "code",
   "execution_count": 101,
   "metadata": {},
   "outputs": [
    {
     "data": {
      "text/html": [
       "'zoo'"
      ],
      "text/latex": [
       "'zoo'"
      ],
      "text/markdown": [
       "'zoo'"
      ],
      "text/plain": [
       "[1] \"zoo\""
      ]
     },
     "metadata": {},
     "output_type": "display_data"
    },
    {
     "data": {
      "text/html": [
       "16"
      ],
      "text/latex": [
       "16"
      ],
      "text/markdown": [
       "16"
      ],
      "text/plain": [
       "[1] 16"
      ]
     },
     "metadata": {},
     "output_type": "display_data"
    },
    {
     "data": {
      "text/plain": [
       "2017-05-16 2017-05-17 2017-05-18 2017-05-19 2017-05-20 2017-05-21 \n",
       "     334.5      439.2      349.2      345.2      419.5      352.9 "
      ]
     },
     "metadata": {},
     "output_type": "display_data"
    }
   ],
   "source": [
    "# regularizing with aggregate - which gives a mean of each day, and we have exactly one observation a day\n",
    "ag_irreg_dates = aggregate(irreg_dates, as.Date, mean)\n",
    "class(ag_irreg_dates)\n",
    "length(ag_irreg_dates)\n",
    "head(ag_irreg_dates)"
   ]
  },
  {
   "cell_type": "markdown",
   "metadata": {},
   "source": [
    "### Method 2: Keeping the date and time components as a unit"
   ]
  },
  {
   "cell_type": "code",
   "execution_count": 102,
   "metadata": {},
   "outputs": [
    {
     "data": {
      "text/html": [
       "<ol class=list-inline>\n",
       "\t<li>'POSIXlt'</li>\n",
       "\t<li>'POSIXt'</li>\n",
       "</ol>\n"
      ],
      "text/latex": [
       "\\begin{enumerate*}\n",
       "\\item 'POSIXlt'\n",
       "\\item 'POSIXt'\n",
       "\\end{enumerate*}\n"
      ],
      "text/markdown": [
       "1. 'POSIXlt'\n",
       "2. 'POSIXt'\n",
       "\n",
       "\n"
      ],
      "text/plain": [
       "[1] \"POSIXlt\" \"POSIXt\" "
      ]
     },
     "metadata": {},
     "output_type": "display_data"
    },
    {
     "data": {
      "text/plain": [
       "[1] \"2017-05-16 10:34:00 CEST\" \"2017-05-17 15:23:00 CEST\"\n",
       "[3] \"2017-05-17 20:45:00 CEST\" \"2017-05-18 03:23:00 CEST\"\n",
       "[5] \"2017-05-18 12:34:00 CEST\" \"2017-05-19 11:34:00 CEST\""
      ]
     },
     "metadata": {},
     "output_type": "display_data"
    }
   ],
   "source": [
    "sensor_date1 = strptime(irregular_sensor$V1,\n",
    "                        '%m/%d/%y %I:%M %p')\n",
    "class(sensor_date1) # POSIXlt class as well\n",
    "head(sensor_date1)"
   ]
  },
  {
   "cell_type": "code",
   "execution_count": 103,
   "metadata": {},
   "outputs": [
    {
     "data": {
      "text/html": [
       "'zoo'"
      ],
      "text/latex": [
       "'zoo'"
      ],
      "text/markdown": [
       "'zoo'"
      ],
      "text/plain": [
       "[1] \"zoo\""
      ]
     },
     "metadata": {},
     "output_type": "display_data"
    },
    {
     "data": {
      "text/html": [
       "25"
      ],
      "text/latex": [
       "25"
      ],
      "text/markdown": [
       "25"
      ],
      "text/plain": [
       "[1] 25"
      ]
     },
     "metadata": {},
     "output_type": "display_data"
    },
    {
     "data": {
      "text/plain": [
       "2017-05-16 10:34:00 2017-05-17 15:23:00 2017-05-17 20:45:00 2017-05-18 03:23:00 \n",
       "              334.5               385.9               492.5               325.8 \n",
       "2017-05-18 12:34:00 2017-05-19 11:34:00 \n",
       "              372.6               345.2 "
      ]
     },
     "metadata": {},
     "output_type": "display_data"
    }
   ],
   "source": [
    "# creating the zoo object\n",
    "irreg_dates1 = zoo(irregular_sensor$V2, \n",
    "                   order.by = sensor_date1)\n",
    "class(irreg_dates1)\n",
    "length(irreg_dates)\n",
    "head(irreg_dates1)"
   ]
  },
  {
   "cell_type": "code",
   "execution_count": 104,
   "metadata": {},
   "outputs": [
    {
     "data": {
      "image/png": "[encoded data removed]",
      "text/plain": [
       "Plot with title \"\""
      ]
     },
     "metadata": {},
     "output_type": "display_data"
    }
   ],
   "source": [
    "plot(irreg_dates1)"
   ]
  },
  {
   "cell_type": "code",
   "execution_count": 112,
   "metadata": {},
   "outputs": [
    {
     "data": {
      "text/html": [
       "'zoo'"
      ],
      "text/latex": [
       "'zoo'"
      ],
      "text/markdown": [
       "'zoo'"
      ],
      "text/plain": [
       "[1] \"zoo\""
      ]
     },
     "metadata": {},
     "output_type": "display_data"
    },
    {
     "data": {
      "text/html": [
       "16"
      ],
      "text/latex": [
       "16"
      ],
      "text/markdown": [
       "16"
      ],
      "text/plain": [
       "[1] 16"
      ]
     },
     "metadata": {},
     "output_type": "display_data"
    },
    {
     "data": {
      "text/plain": [
       "2017-05-16 2017-05-17 2017-05-18 2017-05-19 2017-05-20 2017-05-21 \n",
       "     334.5      439.2      349.2      345.2      419.5      352.9 "
      ]
     },
     "metadata": {},
     "output_type": "display_data"
    }
   ],
   "source": [
    "# regularizing with aggregate\n",
    "ag_irreg_dates1 = aggregate(irreg_dates1, as.Date, mean)\n",
    "class(ag_irreg_dates1)\n",
    "length(ag_irreg_dates1)\n",
    "head(ag_irreg_dates1)"
   ]
  },
  {
   "cell_type": "code",
   "execution_count": 107,
   "metadata": {},
   "outputs": [
    {
     "data": {
      "image/png": "[encoded data removed]",
      "text/plain": [
       "Plot with title \"\""
      ]
     },
     "metadata": {},
     "output_type": "display_data"
    }
   ],
   "source": [
    "plot(ag_irreg_dates1)"
   ]
  },
  {
   "cell_type": "code",
   "execution_count": 109,
   "metadata": {},
   "outputs": [
    {
     "data": {
      "text/html": [
       "'ts'"
      ],
      "text/latex": [
       "'ts'"
      ],
      "text/markdown": [
       "'ts'"
      ],
      "text/plain": [
       "[1] \"ts\""
      ]
     },
     "metadata": {},
     "output_type": "display_data"
    },
    {
     "data": {
      "text/html": [
       "<ol class=list-inline>\n",
       "\t<li>334.5</li>\n",
       "\t<li>439.2</li>\n",
       "\t<li>349.2</li>\n",
       "\t<li>345.2</li>\n",
       "\t<li>419.5</li>\n",
       "\t<li>352.9</li>\n",
       "</ol>\n"
      ],
      "text/latex": [
       "\\begin{enumerate*}\n",
       "\\item 334.5\n",
       "\\item 439.2\n",
       "\\item 349.2\n",
       "\\item 345.2\n",
       "\\item 419.5\n",
       "\\item 352.9\n",
       "\\end{enumerate*}\n"
      ],
      "text/markdown": [
       "1. 334.5\n",
       "2. 439.2\n",
       "3. 349.2\n",
       "4. 345.2\n",
       "5. 419.5\n",
       "6. 352.9\n",
       "\n",
       "\n"
      ],
      "text/plain": [
       "[1] 334.5 439.2 349.2 345.2 419.5 352.9"
      ]
     },
     "metadata": {},
     "output_type": "display_data"
    }
   ],
   "source": [
    "# converting to a standard ts, the days start at 1\n",
    "myts = ts(ag_irreg_dates1) \n",
    "class(myts)\n",
    "head(myts)"
   ]
  },
  {
   "cell_type": "code",
   "execution_count": 110,
   "metadata": {},
   "outputs": [
    {
     "data": {
      "image/png": "[encoded data removed]",
      "text/plain": [
       "plot without title"
      ]
     },
     "metadata": {},
     "output_type": "display_data"
    }
   ],
   "source": [
    "plot(myts)"
   ]
  }
 ],
 "metadata": {
  "kernelspec": {
   "display_name": "R",
   "language": "R",
   "name": "ir"
  },
  "language_info": {
   "codemirror_mode": "r",
   "file_extension": ".r",
   "mimetype": "text/x-r-source",
   "name": "R",
   "pygments_lexer": "r",
   "version": "3.6.1"
  }
 },
 "nbformat": 4,
 "nbformat_minor": 4
}
