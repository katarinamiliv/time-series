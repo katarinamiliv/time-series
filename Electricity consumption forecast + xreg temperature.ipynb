{
 "cells": [
  {
   "cell_type": "markdown",
   "metadata": {},
   "source": [
    "# INTRODUCTION"
   ]
  },
  {
   "cell_type": "markdown",
   "metadata": {},
   "source": [
    "## About the data"
   ]
  },
  {
   "cell_type": "markdown",
   "metadata": {},
   "source": [
    "#### This dataset included:\n",
    "#### - the power usage data (in kW), measured between 01/01/2010 at 1:15 and 16/02/2010 at 23:45, and \n",
    "#### - the outdoor temperature (in Celsius), measured between 01/01/2010 at 1:15 and 17/02/2010 at 23:45.\n",
    "#### Both variables were measured every 15 minutes, therefore, 96 times a day (24 hours * 4 measurements per hour).\n",
    "#### In the Excel sheet there were three columns, one for the timestamp, one for the power, and one for the temperature."
   ]
  },
  {
   "cell_type": "markdown",
   "metadata": {},
   "source": [
    "## About the analysis"
   ]
  },
  {
   "cell_type": "markdown",
   "metadata": {},
   "source": [
    "#### The goal of this time series analysis is to forecast the power usage for 17/02/2010 first only based on the previous power time series data, and after that including the external regressor of the temperature.\n",
    "#### Therefore, we will use a time series analysis with an external regressor, and NOT a multivariate time series analysis, as the relationship between power and outdoor temperature is clearly unidirectional - outdoor temperature probably affects the power usage, but the power usage does not affect outdoor temperature. "
   ]
  },
  {
   "cell_type": "markdown",
   "metadata": {},
   "source": [
    "# 1. EXPLORATORY DATA ANALYSIS"
   ]
  },
  {
   "cell_type": "markdown",
   "metadata": {},
   "source": [
    "## 1.1. Data preprocessing"
   ]
  },
  {
   "cell_type": "markdown",
   "metadata": {},
   "source": [
    "### Loading and observing the data"
   ]
  },
  {
   "cell_type": "code",
   "execution_count": 3,
   "metadata": {},
   "outputs": [],
   "source": [
    "library('forecast')\n",
    "library('xts')\n",
    "library('ggplot2')\n",
    "library('tseries')\n",
    "library('zoo')\n",
    "library('TSstudio')\n",
    "library('xlsx')"
   ]
  },
  {
   "cell_type": "markdown",
   "metadata": {},
   "source": [
    "#### This excel sheet included three columns: Timestamp, Power (kW) and Temperature (C)"
   ]
  },
  {
   "cell_type": "code",
   "execution_count": 4,
   "metadata": {},
   "outputs": [
    {
     "data": {
      "text/html": [
       "<table>\n",
       "<thead><tr><th scope=col>V1</th><th scope=col>V2</th><th scope=col>V3</th></tr></thead>\n",
       "<tbody>\n",
       "\t<tr><td>1/1/2010 1:15</td><td>165.1        </td><td>10.6         </td></tr>\n",
       "\t<tr><td>1/1/2010 1:30</td><td>151.6        </td><td>10.6         </td></tr>\n",
       "\t<tr><td>1/1/2010 1:45</td><td>146.9        </td><td>10.6         </td></tr>\n",
       "\t<tr><td>1/1/2010 2:00</td><td>153.7        </td><td>10.6         </td></tr>\n",
       "\t<tr><td>1/1/2010 2:15</td><td>153.8        </td><td>10.6         </td></tr>\n",
       "\t<tr><td>1/1/2010 2:30</td><td>159.0        </td><td>10.6         </td></tr>\n",
       "</tbody>\n",
       "</table>\n"
      ],
      "text/latex": [
       "\\begin{tabular}{r|lll}\n",
       " V1 & V2 & V3\\\\\n",
       "\\hline\n",
       "\t 1/1/2010 1:15 & 165.1         & 10.6         \\\\\n",
       "\t 1/1/2010 1:30 & 151.6         & 10.6         \\\\\n",
       "\t 1/1/2010 1:45 & 146.9         & 10.6         \\\\\n",
       "\t 1/1/2010 2:00 & 153.7         & 10.6         \\\\\n",
       "\t 1/1/2010 2:15 & 153.8         & 10.6         \\\\\n",
       "\t 1/1/2010 2:30 & 159.0         & 10.6         \\\\\n",
       "\\end{tabular}\n"
      ],
      "text/markdown": [
       "\n",
       "| V1 | V2 | V3 |\n",
       "|---|---|---|\n",
       "| 1/1/2010 1:15 | 165.1         | 10.6          |\n",
       "| 1/1/2010 1:30 | 151.6         | 10.6          |\n",
       "| 1/1/2010 1:45 | 146.9         | 10.6          |\n",
       "| 1/1/2010 2:00 | 153.7         | 10.6          |\n",
       "| 1/1/2010 2:15 | 153.8         | 10.6          |\n",
       "| 1/1/2010 2:30 | 159.0         | 10.6          |\n",
       "\n"
      ],
      "text/plain": [
       "  V1            V2    V3  \n",
       "1 1/1/2010 1:15 165.1 10.6\n",
       "2 1/1/2010 1:30 151.6 10.6\n",
       "3 1/1/2010 1:45 146.9 10.6\n",
       "4 1/1/2010 2:00 153.7 10.6\n",
       "5 1/1/2010 2:15 153.8 10.6\n",
       "6 1/1/2010 2:30 159.0 10.6"
      ]
     },
     "metadata": {},
     "output_type": "display_data"
    },
    {
     "data": {
      "text/html": [
       "<table>\n",
       "<thead><tr><th></th><th scope=col>V1</th><th scope=col>V2</th><th scope=col>V3</th></tr></thead>\n",
       "<tbody>\n",
       "\t<tr><th scope=row>4598</th><td>2/17/2010 22:30</td><td>NA             </td><td>13.9           </td></tr>\n",
       "\t<tr><th scope=row>4599</th><td>2/17/2010 22:45</td><td>NA             </td><td>13.9           </td></tr>\n",
       "\t<tr><th scope=row>4600</th><td>2/17/2010 23:00</td><td>NA             </td><td>13.9           </td></tr>\n",
       "\t<tr><th scope=row>4601</th><td>2/17/2010 23:15</td><td>NA             </td><td>12.8           </td></tr>\n",
       "\t<tr><th scope=row>4602</th><td>2/17/2010 23:30</td><td>NA             </td><td>12.8           </td></tr>\n",
       "\t<tr><th scope=row>4603</th><td>2/17/2010 23:45</td><td>NA             </td><td>12.8           </td></tr>\n",
       "</tbody>\n",
       "</table>\n"
      ],
      "text/latex": [
       "\\begin{tabular}{r|lll}\n",
       "  & V1 & V2 & V3\\\\\n",
       "\\hline\n",
       "\t4598 & 2/17/2010 22:30 & NA              & 13.9           \\\\\n",
       "\t4599 & 2/17/2010 22:45 & NA              & 13.9           \\\\\n",
       "\t4600 & 2/17/2010 23:00 & NA              & 13.9           \\\\\n",
       "\t4601 & 2/17/2010 23:15 & NA              & 12.8           \\\\\n",
       "\t4602 & 2/17/2010 23:30 & NA              & 12.8           \\\\\n",
       "\t4603 & 2/17/2010 23:45 & NA              & 12.8           \\\\\n",
       "\\end{tabular}\n"
      ],
      "text/markdown": [
       "\n",
       "| <!--/--> | V1 | V2 | V3 |\n",
       "|---|---|---|---|\n",
       "| 4598 | 2/17/2010 22:30 | NA              | 13.9            |\n",
       "| 4599 | 2/17/2010 22:45 | NA              | 13.9            |\n",
       "| 4600 | 2/17/2010 23:00 | NA              | 13.9            |\n",
       "| 4601 | 2/17/2010 23:15 | NA              | 12.8            |\n",
       "| 4602 | 2/17/2010 23:30 | NA              | 12.8            |\n",
       "| 4603 | 2/17/2010 23:45 | NA              | 12.8            |\n",
       "\n"
      ],
      "text/plain": [
       "     V1              V2 V3  \n",
       "4598 2/17/2010 22:30 NA 13.9\n",
       "4599 2/17/2010 22:45 NA 13.9\n",
       "4600 2/17/2010 23:00 NA 13.9\n",
       "4601 2/17/2010 23:15 NA 12.8\n",
       "4602 2/17/2010 23:30 NA 12.8\n",
       "4603 2/17/2010 23:45 NA 12.8"
      ]
     },
     "metadata": {},
     "output_type": "display_data"
    }
   ],
   "source": [
    "data = read.csv('Elec-train.csv', skip = 1, header = F)\n",
    "head(data)\n",
    "tail(data)"
   ]
  },
  {
   "cell_type": "code",
   "execution_count": 5,
   "metadata": {},
   "outputs": [
    {
     "name": "stdout",
     "output_type": "stream",
     "text": [
      "'data.frame':\t4603 obs. of  3 variables:\n",
      " $ V1: Factor w/ 4603 levels \"1/1/2010 1:15\",..: 1 2 3 44 45 46 47 64 65 66 ...\n",
      " $ V2: num  165 152 147 154 154 ...\n",
      " $ V3: num  10.6 10.6 10.6 10.6 10.6 10.6 10.6 10.6 10 10 ...\n"
     ]
    }
   ],
   "source": [
    "# checking the structure of the dataframe data\n",
    "str(data)"
   ]
  },
  {
   "cell_type": "code",
   "execution_count": 6,
   "metadata": {},
   "outputs": [
    {
     "data": {
      "text/html": [
       "'integer'"
      ],
      "text/latex": [
       "'integer'"
      ],
      "text/markdown": [
       "'integer'"
      ],
      "text/plain": [
       "[1] \"integer\""
      ]
     },
     "metadata": {},
     "output_type": "display_data"
    },
    {
     "data": {
      "text/html": [
       "'double'"
      ],
      "text/latex": [
       "'double'"
      ],
      "text/markdown": [
       "'double'"
      ],
      "text/plain": [
       "[1] \"double\""
      ]
     },
     "metadata": {},
     "output_type": "display_data"
    },
    {
     "data": {
      "text/html": [
       "'double'"
      ],
      "text/latex": [
       "'double'"
      ],
      "text/markdown": [
       "'double'"
      ],
      "text/plain": [
       "[1] \"double\""
      ]
     },
     "metadata": {},
     "output_type": "display_data"
    }
   ],
   "source": [
    "# checking the type of the timestamp variable V1, power V2 and temperature V3\n",
    "typeof(data$V1)\n",
    "typeof(data$V2)\n",
    "typeof(data$V3)"
   ]
  },
  {
   "cell_type": "markdown",
   "metadata": {},
   "source": [
    "#### For different purposes, we will create both a 'xts' time series with rows of power and temperature indexed by the timestamp, and the 'ts' objects for daily power usage, weekly power usage and daily temperature fluctuations.\n",
    "#### As the timestamp column V1 is an integer of a 'factor' class, we will first convert it to the date and time format of a 'POSIXct' class. We see that columns V2 and V3 are doubles of a 'num' class, so there is no need to transform them.\n"
   ]
  },
  {
   "cell_type": "markdown",
   "metadata": {},
   "source": [
    "### Converting V1 to a date and time format"
   ]
  },
  {
   "cell_type": "code",
   "execution_count": 7,
   "metadata": {},
   "outputs": [],
   "source": [
    "# converting \n",
    "timestamp = strptime(data$V1, format = '%m/%d/%Y %H:%M')"
   ]
  },
  {
   "cell_type": "code",
   "execution_count": 8,
   "metadata": {},
   "outputs": [
    {
     "data": {
      "text/html": [
       "<ol class=list-inline>\n",
       "\t<li>'POSIXlt'</li>\n",
       "\t<li>'POSIXt'</li>\n",
       "</ol>\n"
      ],
      "text/latex": [
       "\\begin{enumerate*}\n",
       "\\item 'POSIXlt'\n",
       "\\item 'POSIXt'\n",
       "\\end{enumerate*}\n"
      ],
      "text/markdown": [
       "1. 'POSIXlt'\n",
       "2. 'POSIXt'\n",
       "\n",
       "\n"
      ],
      "text/plain": [
       "[1] \"POSIXlt\" \"POSIXt\" "
      ]
     },
     "metadata": {},
     "output_type": "display_data"
    }
   ],
   "source": [
    "class(timestamp)"
   ]
  },
  {
   "cell_type": "markdown",
   "metadata": {},
   "source": [
    "### Making the dataframe with rows indexed by the timestamp and converting it to a 'xts' time series object"
   ]
  },
  {
   "cell_type": "code",
   "execution_count": 9,
   "metadata": {},
   "outputs": [
    {
     "data": {
      "text/html": [
       "<table>\n",
       "<thead><tr><th></th><th scope=col>Power</th><th scope=col>Temperature</th></tr></thead>\n",
       "<tbody>\n",
       "\t<tr><th scope=row>2010-01-01 01:15:00</th><td>165.1</td><td>10.6 </td></tr>\n",
       "\t<tr><th scope=row>2010-01-01 01:30:00</th><td>151.6</td><td>10.6 </td></tr>\n",
       "\t<tr><th scope=row>2010-01-01 01:45:00</th><td>146.9</td><td>10.6 </td></tr>\n",
       "\t<tr><th scope=row>2010-01-01 02:00:00</th><td>153.7</td><td>10.6 </td></tr>\n",
       "\t<tr><th scope=row>2010-01-01 02:15:00</th><td>153.8</td><td>10.6 </td></tr>\n",
       "\t<tr><th scope=row>2010-01-01 02:30:00</th><td>159.0</td><td>10.6 </td></tr>\n",
       "</tbody>\n",
       "</table>\n"
      ],
      "text/latex": [
       "\\begin{tabular}{r|ll}\n",
       "  & Power & Temperature\\\\\n",
       "\\hline\n",
       "\t2010-01-01 01:15:00 & 165.1 & 10.6 \\\\\n",
       "\t2010-01-01 01:30:00 & 151.6 & 10.6 \\\\\n",
       "\t2010-01-01 01:45:00 & 146.9 & 10.6 \\\\\n",
       "\t2010-01-01 02:00:00 & 153.7 & 10.6 \\\\\n",
       "\t2010-01-01 02:15:00 & 153.8 & 10.6 \\\\\n",
       "\t2010-01-01 02:30:00 & 159.0 & 10.6 \\\\\n",
       "\\end{tabular}\n"
      ],
      "text/markdown": [
       "\n",
       "| <!--/--> | Power | Temperature |\n",
       "|---|---|---|\n",
       "| 2010-01-01 01:15:00 | 165.1 | 10.6  |\n",
       "| 2010-01-01 01:30:00 | 151.6 | 10.6  |\n",
       "| 2010-01-01 01:45:00 | 146.9 | 10.6  |\n",
       "| 2010-01-01 02:00:00 | 153.7 | 10.6  |\n",
       "| 2010-01-01 02:15:00 | 153.8 | 10.6  |\n",
       "| 2010-01-01 02:30:00 | 159.0 | 10.6  |\n",
       "\n"
      ],
      "text/plain": [
       "                    Power Temperature\n",
       "2010-01-01 01:15:00 165.1 10.6       \n",
       "2010-01-01 01:30:00 151.6 10.6       \n",
       "2010-01-01 01:45:00 146.9 10.6       \n",
       "2010-01-01 02:00:00 153.7 10.6       \n",
       "2010-01-01 02:15:00 153.8 10.6       \n",
       "2010-01-01 02:30:00 159.0 10.6       "
      ]
     },
     "metadata": {},
     "output_type": "display_data"
    },
    {
     "data": {
      "text/html": [
       "<table>\n",
       "<thead><tr><th></th><th scope=col>Power</th><th scope=col>Temperature</th></tr></thead>\n",
       "<tbody>\n",
       "\t<tr><th scope=row>2010-02-17 22:30:00</th><td>NA  </td><td>13.9</td></tr>\n",
       "\t<tr><th scope=row>2010-02-17 22:45:00</th><td>NA  </td><td>13.9</td></tr>\n",
       "\t<tr><th scope=row>2010-02-17 23:00:00</th><td>NA  </td><td>13.9</td></tr>\n",
       "\t<tr><th scope=row>2010-02-17 23:15:00</th><td>NA  </td><td>12.8</td></tr>\n",
       "\t<tr><th scope=row>2010-02-17 23:30:00</th><td>NA  </td><td>12.8</td></tr>\n",
       "\t<tr><th scope=row>2010-02-17 23:45:00</th><td>NA  </td><td>12.8</td></tr>\n",
       "</tbody>\n",
       "</table>\n"
      ],
      "text/latex": [
       "\\begin{tabular}{r|ll}\n",
       "  & Power & Temperature\\\\\n",
       "\\hline\n",
       "\t2010-02-17 22:30:00 & NA   & 13.9\\\\\n",
       "\t2010-02-17 22:45:00 & NA   & 13.9\\\\\n",
       "\t2010-02-17 23:00:00 & NA   & 13.9\\\\\n",
       "\t2010-02-17 23:15:00 & NA   & 12.8\\\\\n",
       "\t2010-02-17 23:30:00 & NA   & 12.8\\\\\n",
       "\t2010-02-17 23:45:00 & NA   & 12.8\\\\\n",
       "\\end{tabular}\n"
      ],
      "text/markdown": [
       "\n",
       "| <!--/--> | Power | Temperature |\n",
       "|---|---|---|\n",
       "| 2010-02-17 22:30:00 | NA   | 13.9 |\n",
       "| 2010-02-17 22:45:00 | NA   | 13.9 |\n",
       "| 2010-02-17 23:00:00 | NA   | 13.9 |\n",
       "| 2010-02-17 23:15:00 | NA   | 12.8 |\n",
       "| 2010-02-17 23:30:00 | NA   | 12.8 |\n",
       "| 2010-02-17 23:45:00 | NA   | 12.8 |\n",
       "\n"
      ],
      "text/plain": [
       "                    Power Temperature\n",
       "2010-02-17 22:30:00 NA    13.9       \n",
       "2010-02-17 22:45:00 NA    13.9       \n",
       "2010-02-17 23:00:00 NA    13.9       \n",
       "2010-02-17 23:15:00 NA    12.8       \n",
       "2010-02-17 23:30:00 NA    12.8       \n",
       "2010-02-17 23:45:00 NA    12.8       "
      ]
     },
     "metadata": {},
     "output_type": "display_data"
    }
   ],
   "source": [
    "elec_consum_df <- data.frame(\"Power\" = data$V2, \"Temperature\" = data$V3)\n",
    "rownames(elec_consum_df) = timestamp\n",
    "head(elec_consum_df)\n",
    "tail(elec_consum_df)"
   ]
  },
  {
   "cell_type": "code",
   "execution_count": 10,
   "metadata": {},
   "outputs": [
    {
     "name": "stdout",
     "output_type": "stream",
     "text": [
      "'data.frame':\t4603 obs. of  2 variables:\n",
      " $ Power      : num  165 152 147 154 154 ...\n",
      " $ Temperature: num  10.6 10.6 10.6 10.6 10.6 10.6 10.6 10.6 10 10 ...\n"
     ]
    }
   ],
   "source": [
    "# checking the structure of the dataframe elec_consum_df\n",
    "str(elec_consum_df)"
   ]
  },
  {
   "cell_type": "code",
   "execution_count": 11,
   "metadata": {},
   "outputs": [],
   "source": [
    "# converting to a 'xts' object\n",
    "elec_consum = as.xts(elec_consum_df)"
   ]
  },
  {
   "cell_type": "code",
   "execution_count": 12,
   "metadata": {},
   "outputs": [
    {
     "name": "stdout",
     "output_type": "stream",
     "text": [
      "An 'xts' object on 2010-01-01 01:15:00/2010-02-17 23:45:00 containing:\n",
      "  Data: num [1:4603, 1:2] 165 152 147 154 154 ...\n",
      " - attr(*, \"dimnames\")=List of 2\n",
      "  ..$ : NULL\n",
      "  ..$ : chr [1:2] \"Power\" \"Temperature\"\n",
      "  Indexed by objects of class: [POSIXct,POSIXt] TZ: \n",
      "  xts Attributes:  \n",
      " NULL\n"
     ]
    }
   ],
   "source": [
    "str(elec_consum)"
   ]
  },
  {
   "cell_type": "code",
   "execution_count": 13,
   "metadata": {},
   "outputs": [
    {
     "data": {
      "text/plain": [
       "                    Power Temperature\n",
       "2010-01-01 01:15:00 165.1        10.6\n",
       "2010-01-01 01:30:00 151.6        10.6\n",
       "2010-01-01 01:45:00 146.9        10.6\n",
       "2010-01-01 02:00:00 153.7        10.6\n",
       "2010-01-01 02:15:00 153.8        10.6\n",
       "2010-01-01 02:30:00 159.0        10.6"
      ]
     },
     "metadata": {},
     "output_type": "display_data"
    },
    {
     "data": {
      "text/plain": [
       "                    Power Temperature\n",
       "2010-02-17 22:30:00    NA        13.9\n",
       "2010-02-17 22:45:00    NA        13.9\n",
       "2010-02-17 23:00:00    NA        13.9\n",
       "2010-02-17 23:15:00    NA        12.8\n",
       "2010-02-17 23:30:00    NA        12.8\n",
       "2010-02-17 23:45:00    NA        12.8"
      ]
     },
     "metadata": {},
     "output_type": "display_data"
    }
   ],
   "source": [
    "head(elec_consum)\n",
    "tail(elec_consum)"
   ]
  },
  {
   "cell_type": "markdown",
   "metadata": {},
   "source": [
    "### Making ts objects for daily and weekly power consumption, as well as for daily temperature"
   ]
  },
  {
   "cell_type": "code",
   "execution_count": 14,
   "metadata": {},
   "outputs": [
    {
     "data": {
      "text/html": [
       "4507"
      ],
      "text/latex": [
       "4507"
      ],
      "text/markdown": [
       "4507"
      ],
      "text/plain": [
       "[1] 4507"
      ]
     },
     "metadata": {},
     "output_type": "display_data"
    }
   ],
   "source": [
    "power_ts_daily = ts(data$V2[1:4507], start = 5, frequency = 96)\n",
    "# start = 5 as the first unit was measured at 1:15, which is 5 * 15 minutes\n",
    "length(power_ts_daily)"
   ]
  },
  {
   "cell_type": "code",
   "execution_count": 15,
   "metadata": {},
   "outputs": [],
   "source": [
    "power_ts_weekly = ts(data$V2[1:4507], start = 389, frequency = 672) \n",
    "# start = 389 for Friday (4*96 measurements for first four days in a week + 5 as it was at 1:15)"
   ]
  },
  {
   "cell_type": "code",
   "execution_count": 16,
   "metadata": {},
   "outputs": [],
   "source": [
    "temp_ts_daily = ts(data$V3, start = 5, frequency = 96)"
   ]
  },
  {
   "cell_type": "markdown",
   "metadata": {},
   "source": [
    "## 1.2. Time series plots and stationarity testing"
   ]
  },
  {
   "cell_type": "code",
   "execution_count": 17,
   "metadata": {},
   "outputs": [
    {
     "data": {
      "image/png": "[encoded data removed]",
      "text/plain": [
       "plot without title"
      ]
     },
     "metadata": {},
     "output_type": "display_data"
    }
   ],
   "source": [
    "autoplot(elec_consum) + ggtitle('Power usage and temperature on the whole data') + xlab('Time')"
   ]
  },
  {
   "cell_type": "code",
   "execution_count": 18,
   "metadata": {},
   "outputs": [
    {
     "data": {
      "image/png": "[encoded data removed]",
      "text/plain": [
       "plot without title"
      ]
     },
     "metadata": {},
     "output_type": "display_data"
    }
   ],
   "source": [
    "ggseasonplot(power_ts_daily, main = 'Daily plot of power consumption') + \n",
    "xlab('Quarter of an hour during the day') + ylab('Power') + labs(color = 'Day')"
   ]
  },
  {
   "cell_type": "code",
   "execution_count": 19,
   "metadata": {},
   "outputs": [
    {
     "data": {
      "image/png": "[encoded data removed]",
      "text/plain": [
       "plot without title"
      ]
     },
     "metadata": {},
     "output_type": "display_data"
    }
   ],
   "source": [
    "ggseasonplot(power_ts_weekly, main = 'Seasonal plot of weekly power consumption') + \n",
    "xlab('Quarter of an hour during the day') + ylab('Power') + labs(color = 'Week') +\n",
    "scale_color_manual(labels = c(\"1\", \"2\", '3', '4', '5', '6', '7'), values = c(\"red\", \"darkorange\", 'gold', 'green3', 'cyan3', 'mediumblue', 'mediumorchid'))"
   ]
  },
  {
   "cell_type": "code",
   "execution_count": 20,
   "metadata": {},
   "outputs": [
    {
     "data": {
      "image/png": "[encoded data removed]",
      "text/plain": [
       "plot without title"
      ]
     },
     "metadata": {},
     "output_type": "display_data"
    }
   ],
   "source": [
    "ggseasonplot(temp_ts_daily, main = 'Daily plot of temperature') + \n",
    "xlab('Quarter of an hour during the day') + ylab('Temperature') + labs(color = 'Day')"
   ]
  },
  {
   "cell_type": "markdown",
   "metadata": {},
   "source": [
    "### Interpretation of the plots:\n",
    "#### MEAN remains constant along the time both for power and for temperature.\n",
    "#### VARIANCE along the time remains mostly constant for both measures.\n",
    "#### The data does not follow any TREND along the time for both measures.\n",
    "#### Strong daily SEASONALITY of the power, and no weekly seasonality. Mostly a daily seasonality in temperature along the time.\n",
    "#### Power and temperature seem to follow the same daily pattern of increasing around the morning towards the middle of the daylight, and then decreasing towards and, again, after midnight, until the morning."
   ]
  },
  {
   "cell_type": "markdown",
   "metadata": {},
   "source": [
    "# 2. CONFIRMATORY DATA ANALYSIS"
   ]
  },
  {
   "cell_type": "markdown",
   "metadata": {},
   "source": [
    "## Identification"
   ]
  },
  {
   "cell_type": "code",
   "execution_count": 21,
   "metadata": {},
   "outputs": [
    {
     "data": {
      "image/png": "[encoded data removed]",
      "text/plain": [
       "Plot with title \"\""
      ]
     },
     "metadata": {},
     "output_type": "display_data"
    }
   ],
   "source": [
    "tsdisplay(power_ts_daily)"
   ]
  },
  {
   "cell_type": "markdown",
   "metadata": {},
   "source": [
    "### Interpretation of the plots for power:\n",
    "#### With the first power_ts_daily plot we can see that the power time series looks stationary, i.e. the statistical properties do not change over time, as the pulse of the dataset remains pretty much the same over time. \n",
    "#### On the autocorrelation (ACF) plot, we can see many lags represented with the vertical bars are outside of the horizontal dotted treshold line, which implies strong autocorrelation present in the daily power time series. \n",
    "#### On the partial autocorrelation (PACF) plot, although very dense, we can see that the first few (three or four) lags have significant partial autocorrelations (vertical bars outside of the horizontal dotted line). This implies that this is going to be an AR model (including the autoregressive component).\n",
    "#### From these graphs we can not say for sure if the model should include the MA component or not, although it seems that PACF decreases much faster than ACF. However, this should be further investigated."
   ]
  },
  {
   "cell_type": "code",
   "execution_count": 22,
   "metadata": {},
   "outputs": [
    {
     "data": {
      "image/png": "[encoded data removed]",
      "text/plain": [
       "Plot with title \"\""
      ]
     },
     "metadata": {},
     "output_type": "display_data"
    }
   ],
   "source": [
    "tsdisplay(temp_ts_daily)"
   ]
  },
  {
   "cell_type": "markdown",
   "metadata": {},
   "source": [
    "### Interpretation of the plots for temperature:\n",
    "#### With the first plot we confirm again that the temperature time series looks stationary.\n",
    "#### ACF plot: highly autocorrelated time series. \n",
    "#### PACF plot: first four autocorrelations significant, and therefore the model will have AR component of order at least 3.\n",
    "#### From these graphs it looks like the model should include the MA component, as PACF decreases much faster than ACF."
   ]
  },
  {
   "cell_type": "markdown",
   "metadata": {},
   "source": [
    "### Testing stationarity using the Augmented Dickey-Fuller test"
   ]
  },
  {
   "cell_type": "code",
   "execution_count": 23,
   "metadata": {},
   "outputs": [
    {
     "name": "stderr",
     "output_type": "stream",
     "text": [
      "Warning message in adf.test(power_ts_daily):\n",
      "\"p-value smaller than printed p-value\""
     ]
    },
    {
     "data": {
      "text/plain": [
       "\n",
       "\tAugmented Dickey-Fuller Test\n",
       "\n",
       "data:  power_ts_daily\n",
       "Dickey-Fuller = -14.169, Lag order = 16, p-value = 0.01\n",
       "alternative hypothesis: stationary\n"
      ]
     },
     "metadata": {},
     "output_type": "display_data"
    }
   ],
   "source": [
    "adf.test(power_ts_daily)"
   ]
  },
  {
   "cell_type": "code",
   "execution_count": 24,
   "metadata": {},
   "outputs": [
    {
     "name": "stderr",
     "output_type": "stream",
     "text": [
      "Warning message in adf.test(temp_ts_daily):\n",
      "\"p-value smaller than printed p-value\""
     ]
    },
    {
     "data": {
      "text/plain": [
       "\n",
       "\tAugmented Dickey-Fuller Test\n",
       "\n",
       "data:  temp_ts_daily\n",
       "Dickey-Fuller = -11.288, Lag order = 16, p-value = 0.01\n",
       "alternative hypothesis: stationary\n"
      ]
     },
     "metadata": {},
     "output_type": "display_data"
    }
   ],
   "source": [
    "adf.test(temp_ts_daily)"
   ]
  },
  {
   "cell_type": "markdown",
   "metadata": {},
   "source": [
    "#### For both measures, power and temperature, we reject the null hypothesis that the data is non-stationary (p < .05), and classify both time series as STATIONARY. We can expect the same statistical properties (mean, variance, autocorrelation) for all the days along the time. Therefore, none of these two time series require differencing."
   ]
  },
  {
   "cell_type": "markdown",
   "metadata": {},
   "source": [
    "## Seasonal decomposition"
   ]
  },
  {
   "cell_type": "markdown",
   "metadata": {},
   "source": [
    "#### Furthermore, to reconfirm the absence of trend graphically, we will decompose both power and temperature time series.\n",
    "#### Both time series appear to have constant seasonality, which will be confirmed by R automatically choosing to perform additive decomposition of both time series (although we could also set decomposition manually to 'additive' or 'multiplicative' with the 'type' argument)."
   ]
  },
  {
   "cell_type": "code",
   "execution_count": 25,
   "metadata": {},
   "outputs": [
    {
     "data": {
      "image/png": "[encoded data removed]",
      "text/plain": [
       "plot without title"
      ]
     },
     "metadata": {},
     "output_type": "display_data"
    }
   ],
   "source": [
    "plot(decompose(power_ts_daily))"
   ]
  },
  {
   "cell_type": "markdown",
   "metadata": {},
   "source": [
    "#### The plot above shows variations in the trend curve, and therefore there is no clear trend in the power time series.\n",
    "#### Additionally, we can detect seasonality in the random component (i.e. the random component is not really random), which confirms that decomposition would not be an appropriate model for the power time series."
   ]
  },
  {
   "cell_type": "code",
   "execution_count": 26,
   "metadata": {},
   "outputs": [
    {
     "data": {
      "image/png": "[encoded data removed]",
      "text/plain": [
       "plot without title"
      ]
     },
     "metadata": {},
     "output_type": "display_data"
    }
   ],
   "source": [
    "plot(decompose(temp_ts_daily))"
   ]
  },
  {
   "cell_type": "markdown",
   "metadata": {},
   "source": [
    "#### The temperature seasonal decomposition plot also presents variations of the trend component, and hence temperature also does not have any trend."
   ]
  },
  {
   "cell_type": "markdown",
   "metadata": {},
   "source": [
    "# 3. UNIVARIATE TIME SERIES ANALYSIS OF POWER CONSUMPTION"
   ]
  },
  {
   "cell_type": "markdown",
   "metadata": {},
   "source": [
    "## 3.1. CHOICE OF MODEL"
   ]
  },
  {
   "cell_type": "markdown",
   "metadata": {},
   "source": [
    "## Parameter estimation"
   ]
  },
  {
   "cell_type": "markdown",
   "metadata": {},
   "source": [
    "#### First we will make a training and test subset, with the test being of a length of ten day's measurements (around 80% of the data)."
   ]
  },
  {
   "cell_type": "code",
   "execution_count": 28,
   "metadata": {},
   "outputs": [
    {
     "data": {
      "text/html": [
       "'The total length of the power time series: 4507'"
      ],
      "text/latex": [
       "'The total length of the power time series: 4507'"
      ],
      "text/markdown": [
       "'The total length of the power time series: 4507'"
      ],
      "text/plain": [
       "[1] \"The total length of the power time series: 4507\""
      ]
     },
     "metadata": {},
     "output_type": "display_data"
    },
    {
     "data": {
      "text/html": [
       "'The length of the power training time series: 3547'"
      ],
      "text/latex": [
       "'The length of the power training time series: 3547'"
      ],
      "text/markdown": [
       "'The length of the power training time series: 3547'"
      ],
      "text/plain": [
       "[1] \"The length of the power training time series: 3547\""
      ]
     },
     "metadata": {},
     "output_type": "display_data"
    },
    {
     "data": {
      "text/html": [
       "'The length of the power test time series: 960'"
      ],
      "text/latex": [
       "'The length of the power test time series: 960'"
      ],
      "text/markdown": [
       "'The length of the power test time series: 960'"
      ],
      "text/plain": [
       "[1] \"The length of the power test time series: 960\""
      ]
     },
     "metadata": {},
     "output_type": "display_data"
    }
   ],
   "source": [
    "split_power <- ts_split(ts.obj = power_ts_daily, sample.out = 960)\n",
    "\n",
    "power_ts_train <- split_power$train\n",
    "power_ts_test <- split_power$test\n",
    "\n",
    "sprintf('The total length of the power time series: %d', length(power_ts_daily))\n",
    "sprintf('The length of the power training time series: %d', length(power_ts_train))\n",
    "sprintf('The length of the power test time series: %d', length(power_ts_test))"
   ]
  },
  {
   "cell_type": "markdown",
   "metadata": {},
   "source": [
    "### ARIMA models\n",
    "#### The parameters will first be estimated using the auto.arima() function on the training set of power time series, which will indicate the orders of autoregressive, differencing and moving average component of the time series. This function was used with stepwise = FALSE for going over all possible models for selection."
   ]
  },
  {
   "cell_type": "code",
   "execution_count": 29,
   "metadata": {},
   "outputs": [
    {
     "name": "stdout",
     "output_type": "stream",
     "text": [
      "\n",
      " Fitting models using approximations to speed things up...\n",
      "\n",
      " ARIMA(0,0,0)(0,1,0)[96]                    : 28119.5\n",
      " ARIMA(0,0,0)(0,1,0)[96] with drift         : 28118.99\n",
      " ARIMA(0,0,0)(0,1,1)[96]                    : Inf\n",
      " ARIMA(0,0,0)(0,1,1)[96] with drift         : Inf\n",
      " ARIMA(0,0,0)(0,1,2)[96]                    : Inf\n",
      " ARIMA(0,0,0)(0,1,2)[96] with drift         : Inf\n",
      " ARIMA(0,0,0)(1,1,0)[96]                    : Inf\n",
      " ARIMA(0,0,0)(1,1,0)[96] with drift         : Inf\n",
      " ARIMA(0,0,0)(1,1,1)[96]                    : Inf\n",
      " ARIMA(0,0,0)(1,1,1)[96] with drift         : Inf\n",
      " ARIMA(0,0,0)(1,1,2)[96]                    : Inf\n",
      " ARIMA(0,0,0)(1,1,2)[96] with drift         : Inf\n",
      " ARIMA(0,0,0)(2,1,0)[96]                    : Inf\n",
      " ARIMA(0,0,0)(2,1,0)[96] with drift         : Inf\n",
      " ARIMA(0,0,0)(2,1,1)[96]                    : Inf\n",
      " ARIMA(0,0,0)(2,1,1)[96] with drift         : Inf\n",
      " ARIMA(0,0,0)(2,1,2)[96]                    : Inf\n",
      " ARIMA(0,0,0)(2,1,2)[96] with drift         : Inf\n",
      " ARIMA(0,0,1)(0,1,0)[96]                    : 26204.23\n",
      " ARIMA(0,0,1)(0,1,0)[96] with drift         : 26204.6\n",
      " ARIMA(0,0,1)(0,1,1)[96]                    : Inf\n",
      " ARIMA(0,0,1)(0,1,1)[96] with drift         : Inf\n",
      " ARIMA(0,0,1)(0,1,2)[96]                    : Inf\n",
      " ARIMA(0,0,1)(0,1,2)[96] with drift         : Inf\n",
      " ARIMA(0,0,1)(1,1,0)[96]                    : Inf\n",
      " ARIMA(0,0,1)(1,1,0)[96] with drift         : Inf\n",
      " ARIMA(0,0,1)(1,1,1)[96]                    : Inf\n",
      " ARIMA(0,0,1)(1,1,1)[96] with drift         : Inf\n",
      " ARIMA(0,0,1)(1,1,2)[96]                    : Inf\n",
      " ARIMA(0,0,1)(1,1,2)[96] with drift         : Inf\n",
      " ARIMA(0,0,1)(2,1,0)[96]                    : Inf\n",
      " ARIMA(0,0,1)(2,1,0)[96] with drift         : Inf\n",
      " ARIMA(0,0,1)(2,1,1)[96]                    : Inf\n",
      " ARIMA(0,0,1)(2,1,1)[96] with drift         : Inf\n",
      " ARIMA(0,0,1)(2,1,2)[96]                    : Inf\n",
      " ARIMA(0,0,1)(2,1,2)[96] with drift         : Inf\n",
      " ARIMA(0,0,2)(0,1,0)[96]                    : 25680.1\n",
      " ARIMA(0,0,2)(0,1,0)[96] with drift         : 25680.81\n",
      " ARIMA(0,0,2)(0,1,1)[96]                    : Inf\n",
      " ARIMA(0,0,2)(0,1,1)[96] with drift         : Inf\n",
      " ARIMA(0,0,2)(0,1,2)[96]                    : Inf\n",
      " ARIMA(0,0,2)(0,1,2)[96] with drift         : Inf\n",
      " ARIMA(0,0,2)(1,1,0)[96]                    : Inf\n",
      " ARIMA(0,0,2)(1,1,0)[96] with drift         : Inf\n",
      " ARIMA(0,0,2)(1,1,1)[96]                    : Inf\n",
      " ARIMA(0,0,2)(1,1,1)[96] with drift         : Inf\n",
      " ARIMA(0,0,2)(1,1,2)[96]                    : Inf\n",
      " ARIMA(0,0,2)(1,1,2)[96] with drift         : Inf\n",
      " ARIMA(0,0,2)(2,1,0)[96]                    : Inf\n",
      " ARIMA(0,0,2)(2,1,0)[96] with drift         : Inf\n",
      " ARIMA(0,0,2)(2,1,1)[96]                    : Inf\n",
      " ARIMA(0,0,2)(2,1,1)[96] with drift         : Inf\n",
      " ARIMA(0,0,3)(0,1,0)[96]                    : 24950.31\n",
      " ARIMA(0,0,3)(0,1,0)[96] with drift         : 24951.45\n",
      " ARIMA(0,0,3)(0,1,1)[96]                    : Inf\n",
      " ARIMA(0,0,3)(0,1,1)[96] with drift         : Inf\n",
      " ARIMA(0,0,3)(0,1,2)[96]                    : Inf\n",
      " ARIMA(0,0,3)(0,1,2)[96] with drift         : Inf\n",
      " ARIMA(0,0,3)(1,1,0)[96]                    : Inf\n",
      " ARIMA(0,0,3)(1,1,0)[96] with drift         : Inf\n",
      " ARIMA(0,0,3)(1,1,1)[96]                    : Inf\n",
      " ARIMA(0,0,3)(1,1,1)[96] with drift         : Inf\n",
      " ARIMA(0,0,3)(2,1,0)[96]                    : Inf\n",
      " ARIMA(0,0,3)(2,1,0)[96] with drift         : Inf\n",
      " ARIMA(0,0,4)(0,1,0)[96]                    : 24918.77\n",
      " ARIMA(0,0,4)(0,1,0)[96] with drift         : 24920.01\n",
      " ARIMA(0,0,4)(0,1,1)[96]                    : Inf\n",
      " ARIMA(0,0,4)(0,1,1)[96] with drift         : Inf\n",
      " ARIMA(0,0,4)(1,1,0)[96]                    : Inf\n",
      " ARIMA(0,0,4)(1,1,0)[96] with drift         : Inf\n",
      " ARIMA(0,0,5)(0,1,0)[96]                    : 24870.47\n",
      " ARIMA(0,0,5)(0,1,0)[96] with drift         : 24871.82\n",
      " ARIMA(1,0,0)(0,1,0)[96]                    : 25048.21\n",
      " ARIMA(1,0,0)(0,1,0)[96] with drift         : 25049.89\n",
      " ARIMA(1,0,0)(0,1,1)[96]                    : Inf\n",
      " ARIMA(1,0,0)(0,1,1)[96] with drift         : Inf\n",
      " ARIMA(1,0,0)(0,1,2)[96]                    : Inf\n",
      " ARIMA(1,0,0)(0,1,2)[96] with drift         : Inf\n",
      " ARIMA(1,0,0)(1,1,0)[96]                    : Inf\n",
      " ARIMA(1,0,0)(1,1,0)[96] with drift         : Inf\n",
      " ARIMA(1,0,0)(1,1,1)[96]                    : Inf\n",
      " ARIMA(1,0,0)(1,1,1)[96] with drift         : Inf\n",
      " ARIMA(1,0,0)(1,1,2)[96]                    : Inf\n",
      " ARIMA(1,0,0)(1,1,2)[96] with drift         : Inf\n",
      " ARIMA(1,0,0)(2,1,0)[96]                    : Inf\n",
      " ARIMA(1,0,0)(2,1,0)[96] with drift         : Inf\n",
      " ARIMA(1,0,0)(2,1,1)[96]                    : Inf\n",
      " ARIMA(1,0,0)(2,1,1)[96] with drift         : Inf\n",
      " ARIMA(1,0,0)(2,1,2)[96]                    : Inf\n",
      " ARIMA(1,0,0)(2,1,2)[96] with drift         : Inf\n",
      " ARIMA(1,0,1)(0,1,0)[96]                    : 25048.09\n",
      " ARIMA(1,0,1)(0,1,0)[96] with drift         : 25049.78\n",
      " ARIMA(1,0,1)(0,1,1)[96]                    : Inf\n",
      " ARIMA(1,0,1)(0,1,1)[96] with drift         : Inf\n",
      " ARIMA(1,0,1)(0,1,2)[96]                    : Inf\n",
      " ARIMA(1,0,1)(0,1,2)[96] with drift         : Inf\n",
      " ARIMA(1,0,1)(1,1,0)[96]                    : Inf\n",
      " ARIMA(1,0,1)(1,1,0)[96] with drift         : Inf\n",
      " ARIMA(1,0,1)(1,1,1)[96]                    : Inf\n",
      " ARIMA(1,0,1)(1,1,1)[96] with drift         : Inf\n",
      " ARIMA(1,0,1)(1,1,2)[96]                    : Inf\n",
      " ARIMA(1,0,1)(1,1,2)[96] with drift         : Inf\n",
      " ARIMA(1,0,1)(2,1,0)[96]                    : Inf\n",
      " ARIMA(1,0,1)(2,1,0)[96] with drift         : Inf\n",
      " ARIMA(1,0,1)(2,1,1)[96]                    : Inf\n",
      " ARIMA(1,0,1)(2,1,1)[96] with drift         : Inf\n",
      " ARIMA(1,0,2)(0,1,0)[96]                    : 24990.19\n",
      " ARIMA(1,0,2)(0,1,0)[96] with drift         : 24991.83\n",
      " ARIMA(1,0,2)(0,1,1)[96]                    : Inf\n",
      " ARIMA(1,0,2)(0,1,1)[96] with drift         : Inf\n",
      " ARIMA(1,0,2)(0,1,2)[96]                    : Inf\n",
      " ARIMA(1,0,2)(0,1,2)[96] with drift         : Inf\n",
      " ARIMA(1,0,2)(1,1,0)[96]                    : Inf\n",
      " ARIMA(1,0,2)(1,1,0)[96] with drift         : Inf\n",
      " ARIMA(1,0,2)(1,1,1)[96]                    : Inf\n",
      " ARIMA(1,0,2)(1,1,1)[96] with drift         : Inf\n",
      " ARIMA(1,0,2)(2,1,0)[96]                    : Inf\n",
      " ARIMA(1,0,2)(2,1,0)[96] with drift         : Inf\n",
      " ARIMA(1,0,3)(0,1,0)[96]                    : 24886.84\n",
      " ARIMA(1,0,3)(0,1,0)[96] with drift         : 24888.31\n",
      " ARIMA(1,0,3)(0,1,1)[96]                    : Inf\n",
      " ARIMA(1,0,3)(0,1,1)[96] with drift         : Inf\n",
      " ARIMA(1,0,3)(1,1,0)[96]                    : Inf\n",
      " ARIMA(1,0,3)(1,1,0)[96] with drift         : Inf\n",
      " ARIMA(1,0,4)(0,1,0)[96]                    : 24835.25\n",
      " ARIMA(1,0,4)(0,1,0)[96] with drift         : 24836.94\n",
      " ARIMA(2,0,0)(0,1,0)[96]                    : 25048.21\n",
      " ARIMA(2,0,0)(0,1,0)[96] with drift         : 25049.9\n",
      " ARIMA(2,0,0)(0,1,1)[96]                    : Inf\n",
      " ARIMA(2,0,0)(0,1,1)[96] with drift         : Inf\n",
      " ARIMA(2,0,0)(0,1,2)[96]                    : Inf\n",
      " ARIMA(2,0,0)(0,1,2)[96] with drift         : Inf\n",
      " ARIMA(2,0,0)(1,1,0)[96]                    : Inf\n",
      " ARIMA(2,0,0)(1,1,0)[96] with drift         : Inf\n",
      " ARIMA(2,0,0)(1,1,1)[96]                    : Inf\n",
      " ARIMA(2,0,0)(1,1,1)[96] with drift         : Inf\n",
      " ARIMA(2,0,0)(1,1,2)[96]                    : Inf\n",
      " ARIMA(2,0,0)(1,1,2)[96] with drift         : Inf\n",
      " ARIMA(2,0,0)(2,1,0)[96]                    : Inf\n",
      " ARIMA(2,0,0)(2,1,0)[96] with drift         : Inf\n",
      " ARIMA(2,0,0)(2,1,1)[96]                    : Inf\n",
      " ARIMA(2,0,0)(2,1,1)[96] with drift         : Inf\n",
      " ARIMA(2,0,1)(0,1,0)[96]                    : 25047.77\n",
      " ARIMA(2,0,1)(0,1,0)[96] with drift         : 25049.47\n",
      " ARIMA(2,0,1)(0,1,1)[96]                    : Inf\n",
      " ARIMA(2,0,1)(0,1,1)[96] with drift         : Inf\n",
      " ARIMA(2,0,1)(0,1,2)[96]                    : Inf\n",
      " ARIMA(2,0,1)(0,1,2)[96] with drift         : Inf\n",
      " ARIMA(2,0,1)(1,1,0)[96]                    : Inf\n",
      " ARIMA(2,0,1)(1,1,0)[96] with drift         : Inf\n",
      " ARIMA(2,0,1)(1,1,1)[96]                    : Inf\n",
      " ARIMA(2,0,1)(1,1,1)[96] with drift         : Inf\n",
      " ARIMA(2,0,1)(2,1,0)[96]                    : Inf\n",
      " ARIMA(2,0,1)(2,1,0)[96] with drift         : Inf\n",
      " ARIMA(2,0,2)(0,1,0)[96]                    : 24972.31\n",
      " ARIMA(2,0,2)(0,1,0)[96] with drift         : 24973.86\n",
      " ARIMA(2,0,2)(0,1,1)[96]                    : Inf\n",
      " ARIMA(2,0,2)(0,1,1)[96] with drift         : Inf\n",
      " ARIMA(2,0,2)(1,1,0)[96]                    : Inf\n",
      " ARIMA(2,0,2)(1,1,0)[96] with drift         : Inf\n",
      " ARIMA(2,0,3)(0,1,0)[96]                    : 24848.73\n",
      " ARIMA(2,0,3)(0,1,0)[96] with drift         : 24850.33\n",
      " ARIMA(3,0,0)(0,1,0)[96]                    : 25020.26\n",
      " ARIMA(3,0,0)(0,1,0)[96] with drift         : 25021.86\n",
      " ARIMA(3,0,0)(0,1,1)[96]                    : Inf\n",
      " ARIMA(3,0,0)(0,1,1)[96] with drift         : Inf\n",
      " ARIMA(3,0,0)(0,1,2)[96]                    : Inf\n",
      " ARIMA(3,0,0)(0,1,2)[96] with drift         : Inf\n",
      " ARIMA(3,0,0)(1,1,0)[96]                    : Inf\n",
      " ARIMA(3,0,0)(1,1,0)[96] with drift         : Inf\n",
      " ARIMA(3,0,0)(1,1,1)[96]                    : Inf\n",
      " ARIMA(3,0,0)(1,1,1)[96] with drift         : Inf\n",
      " ARIMA(3,0,0)(2,1,0)[96]                    : Inf\n",
      " ARIMA(3,0,0)(2,1,0)[96] with drift         : Inf\n",
      " ARIMA(3,0,1)(0,1,0)[96]                    : 25011.15\n",
      " ARIMA(3,0,1)(0,1,0)[96] with drift         : 25012.71\n",
      " ARIMA(3,0,1)(0,1,1)[96]                    : Inf\n",
      " ARIMA(3,0,1)(0,1,1)[96] with drift         : Inf\n",
      " ARIMA(3,0,1)(1,1,0)[96]                    : Inf\n",
      " ARIMA(3,0,1)(1,1,0)[96] with drift         : Inf\n",
      " ARIMA(3,0,2)(0,1,0)[96]                    : 24917.88\n",
      " ARIMA(3,0,2)(0,1,0)[96] with drift         : 24919.49\n",
      " ARIMA(4,0,0)(0,1,0)[96]                    : 24968.21\n",
      " ARIMA(4,0,0)(0,1,0)[96] with drift         : 24969.71\n",
      " ARIMA(4,0,0)(0,1,1)[96]                    : Inf\n",
      " ARIMA(4,0,0)(0,1,1)[96] with drift         : Inf\n",
      " ARIMA(4,0,0)(1,1,0)[96]                    : Inf\n",
      " ARIMA(4,0,0)(1,1,0)[96] with drift         : Inf\n",
      " ARIMA(4,0,1)(0,1,0)[96]                    : 24893.27\n",
      " ARIMA(4,0,1)(0,1,0)[96] with drift         : 24894.79\n",
      " ARIMA(5,0,0)(0,1,0)[96]                    : 24845.31\n",
      " ARIMA(5,0,0)(0,1,0)[96] with drift         : 24846.99\n",
      "\n",
      " Now re-fitting the best model(s) without approximations...\n",
      "\n",
      "\n",
      "\n",
      "\n",
      " Best model: ARIMA(1,0,4)(0,1,0)[96]                    \n",
      "\n"
     ]
    },
    {
     "data": {
      "text/plain": [
       "Series: power_ts_train \n",
       "ARIMA(1,0,4)(0,1,0)[96] \n",
       "\n",
       "Coefficients:\n",
       "         ar1      ma1     ma2     ma3      ma4\n",
       "      0.8383  -0.0715  0.0451  0.0123  -0.2588\n",
       "s.e.  0.0348   0.0405  0.0336  0.0310   0.0277\n",
       "\n",
       "sigma^2 estimated as 90.77:  log likelihood=-12673.88\n",
       "AIC=25359.76   AICc=25359.79   BIC=25396.64"
      ]
     },
     "metadata": {},
     "output_type": "display_data"
    }
   ],
   "source": [
    "auto.arima(power_ts_train, trace = TRUE, stepwise = FALSE)"
   ]
  },
  {
   "cell_type": "markdown",
   "metadata": {},
   "source": [
    "#### The best model was chosen automatically using The Akaike information criterion (AIC).\n",
    "#### This recommended model is the model with the autoregressive component of order 1, and the absence of differencing, and the moving average component of order 4. The model also indicates the presence of the seasonal components, as we have assumed when plotting ACF and PACF. Specifically, it includes the seasonal differencing component.\n",
    "#### To conclude, the best model on the training subset chosen by auto.arma() function is the ARMA model with seasonal differencing."
   ]
  },
  {
   "cell_type": "markdown",
   "metadata": {},
   "source": [
    "### Seasonal and trend decomposition using Loess"
   ]
  },
  {
   "cell_type": "code",
   "execution_count": 30,
   "metadata": {},
   "outputs": [
    {
     "data": {
      "text/plain": [
       "         Point Forecast       Lo 80    Hi 80        Lo 95    Hi 95\n",
       "41.94792       153.8713 145.2483174 162.4943  140.6835945 167.0590\n",
       "41.95833       153.2922 142.0890176 164.4954  136.1584140 170.4260\n",
       "41.96875       148.7884 135.4968209 162.0800  128.4606698 169.1162\n",
       "41.97917       154.2110 139.1172049 169.3048  131.1270369 177.2949\n",
       "41.98958       158.3983 141.6956869 175.1010  132.8538462 183.9428\n",
       "42.00000       156.5357 138.3661062 174.7053  128.7477118 184.3237\n",
       "42.01042       146.6980 127.1713284 166.2246  116.8345555 176.5614\n",
       "42.02083       151.0575 130.2621432 171.8528  119.2537720 182.8611\n",
       "42.03125       152.7501 130.7591699 174.7410  119.1178813 186.3823\n",
       "42.04167       150.6970 127.5721757 173.8218  115.3306495 186.0633\n",
       "42.05208       152.8092 128.6036041 177.0148  115.7899268 189.8285\n",
       "42.06250       150.4142 125.1740451 175.6544  111.8126945 189.0158\n",
       "42.07292       150.1224 123.8884189 176.3564  110.0009766 190.2439\n",
       "42.08333       146.9278 119.7362747 174.1193  105.3419558 188.5136\n",
       "42.09375       146.2458 118.1293576 174.3622  103.2454140 189.2462\n",
       "42.10417       150.6395 121.6275844 179.6514  106.2696177 195.0093\n",
       "42.11458       151.0245 121.1439782 180.9050  105.3261874 196.7228\n",
       "42.12500       149.7695 119.0449045 180.4941  102.7802844 196.7587\n",
       "42.13542       150.8900 119.3438567 182.4361  102.6443587 199.1356\n",
       "42.14583       151.5662 119.2194792 183.9130  102.0961444 201.0363\n",
       "42.15625       152.5122 119.3841342 185.6402  101.8472030 203.1772\n",
       "42.16667       152.4457 118.5543958 186.3371  100.6134003 204.2781\n",
       "42.17708       153.2098 118.5719786 187.8476  100.2358207 206.1838\n",
       "42.18750       156.6007 121.2321925 191.9693  102.5092107 210.6923\n",
       "42.19792       157.2944 121.2099497 193.3789  102.1079757 212.4809\n",
       "42.20833       160.2618 123.4753090 197.0483  104.0017173 216.5219\n",
       "42.21875       169.3956 131.9202897 206.8710  112.0820404 226.7092\n",
       "42.22917       170.2724 132.1206144 208.4241  111.9242905 228.6205\n",
       "42.23958       172.8297 134.0133416 211.6461  113.4651820 232.1943\n",
       "42.25000       173.1499 133.6800201 212.6197  112.7859485 233.5138\n",
       "42.26042       165.6741 125.5615084 205.7868  104.3271591 227.0211\n",
       "42.27083       166.1637 125.4183680 206.9090  103.8491086 228.4782\n",
       "42.28125       168.8659 127.4976091 210.2342  105.5985608 232.1332\n",
       "42.29167       251.9100 209.9279662 293.8920  187.7040224 316.1160\n",
       "42.30208       250.7598 208.1728546 293.3467  185.6286970 315.8909\n",
       "42.31250       246.9411 203.7576978 290.1244  180.8978115 312.9843\n",
       "42.32292       247.0852 203.3135505 290.8569  180.1422370 314.0282\n",
       "42.33333       249.9445 205.5923189 294.2966  182.1137088 317.7752\n",
       "42.34375       246.4682 201.5430710 291.3934  177.7611347 315.1753\n",
       "42.35417       248.6275 203.1365364 294.1184  179.0550942 318.1998\n",
       "42.36458       251.1053 205.0555502 297.1551  180.6782816 321.5323\n",
       "42.37500       246.9434 200.3414684 293.5452  175.6719206 318.2148\n",
       "42.38542       248.5693 201.4217932 295.7169  176.4633889 320.6753\n",
       "42.39583       253.3568 205.6698192 301.0438  180.4258632 326.2877\n",
       "42.40625       250.6431 202.4227804 298.8635  176.8964671 324.3898\n",
       "42.41667       251.7301 202.9822215 300.4780  177.1766400 326.2836\n",
       "42.42708       249.5565 200.2866926 298.8263  174.2048330 324.9082\n",
       "42.43750       247.7047 197.9184605 297.4909  171.5632189 323.8462\n",
       "42.44792       250.2216 199.9242802 300.5190  173.2984632 327.1448\n",
       "42.45833       249.4021 198.5987782 300.2055  171.7051082 327.0992\n",
       "42.46875       256.2248 204.9204964 307.5292  177.7616147 334.6881\n",
       "42.47917       258.1405 206.3399925 309.9410  178.9184642 337.3625\n",
       "42.48958       252.1958 199.9038113 304.4877  172.2221282 332.1694\n",
       "42.50000       254.6507 201.8718623 307.4295  173.9324467 335.3689\n",
       "42.51042       255.9354 202.6741366 309.1966  174.4793445 337.3914\n",
       "42.52083       252.6514 198.9120725 306.3907  170.4641962 334.8386\n",
       "42.53125       252.5067 198.2935435 306.7199  169.5948148 335.4187\n",
       "42.54167       254.5798 199.8968676 309.2628  170.9494602 338.2102\n",
       "42.55208       255.2043 200.0556148 310.3531  170.8616469 339.5470\n",
       "42.56250       254.9094 199.2987708 310.5199  169.8603075 339.9584\n",
       "42.57292       252.6359 196.5672545 308.7045  166.8863097 338.3855\n",
       "42.58333       251.5012 194.9782161 308.0242  165.0567548 337.9456\n",
       "42.59375       251.8543 194.8806365 308.8281  164.7205766 338.9881\n",
       "42.60417       251.9979 194.5770455 309.4188  164.1802600 339.8156\n",
       "42.61458       251.4799 193.6152339 309.3445  162.9835520 339.9762\n",
       "42.62500       252.6592 194.3542607 310.9642  163.4894701 341.8290\n",
       "42.63542       252.3690 193.6269710 311.1110  162.5308191 342.2072\n",
       "42.64583       249.2033 190.0274307 308.3791  158.7016262 339.7049\n",
       "42.65625       247.4171 187.8106267 307.0237  156.2568410 338.5775\n",
       "42.66667       251.1380 191.1038885 311.1721  159.3237571 342.9522\n",
       "42.67708       267.5758 207.1171770 328.0345  175.1123006 360.0394\n",
       "42.68750       302.6093 241.7290093 363.4895  209.5009551 395.7176\n",
       "42.69792       301.7404 240.4414906 363.0394  207.9917935 395.4891\n",
       "42.70833       299.5264 237.8116256 361.2412  205.1417893 393.9110\n",
       "42.71875       296.6659 234.5380069 358.7937  201.6495049 391.6822\n",
       "42.72917       295.1294 232.5911939 357.6676  199.4854704 390.7733\n",
       "42.73958       296.4385 233.4926501 359.3844  200.1711212 392.7059\n",
       "42.75000       301.0364 237.6855017 364.3873  204.1495560 397.9233\n",
       "42.76042       296.3905 232.6370854 360.1438  198.8880851 393.8928\n",
       "42.77083       297.6112 233.4578952 361.7645  199.4971769 395.7253\n",
       "42.78125       295.1847 230.6339309 359.7355  196.4628064 393.9066\n",
       "42.79167       294.3489 229.4030929 359.2947  195.0228499 393.6750\n",
       "42.80208       294.2133 228.8748088 359.5518  194.2867115 394.1398\n",
       "42.81250       292.4671 226.7382793 358.1958  191.9435694 392.9905\n",
       "42.82292       289.7990 223.6822273 355.9158  188.6821244 390.9159\n",
       "42.83333       289.6771 223.1746091 356.1796  187.9703116 391.3839\n",
       "42.84375       287.8401 220.9540595 354.7261  185.5467449 390.1334\n",
       "42.85417       285.5973 218.3299308 352.8646  182.7207566 388.4738\n",
       "42.86458       283.6287 215.9821566 351.2752  180.1722606 387.0851\n",
       "42.87500       273.7834 205.7598508 341.8070  169.7503519 377.8165\n",
       "42.88542       271.8491 203.4505124 340.2476  167.2425108 376.4556\n",
       "42.89583       267.4744 198.7029700 336.2459  162.2975481 372.6513\n",
       "42.90625       268.3647 199.2222692 337.5071  162.6204919 374.1089\n",
       "42.91667       189.6132 120.1018324 259.1245   83.3047473 295.9216\n",
       "42.92708       190.4668 120.5884608 260.3452   83.5970992 297.3365\n",
       "42.93750       155.8388  85.5953259 226.0822   48.4107028 263.2668\n",
       "42.94792       153.8713  83.2646670 224.4779   45.8877817 261.8548\n",
       "42.95833       153.2922  82.3242439 224.2601   44.7560802 261.8283\n",
       "42.96875       148.7884  77.4609732 220.1159   39.7025002 257.8744\n",
       "42.97917       154.2110  82.5258381 225.8961   44.5780101 263.8440\n",
       "42.98958       158.3983  86.3572443 230.4394   48.2210015 268.5756\n",
       "43.00000       156.5357  84.1404342 228.9309   45.8167030 267.2547\n",
       "43.01042       146.6980  73.9502558 219.4457   35.4399490 257.9560\n",
       "43.02083       151.0575  77.9589996 224.1559   39.2630166 262.8519\n",
       "43.03125       152.7501  79.3025602 226.1976   40.4217878 265.0784\n",
       "43.04167       150.6970  76.9020174 224.4919   37.8373297 263.5566\n",
       "43.05208       152.8092  78.6684688 226.9500   39.4207276 266.1977\n",
       "43.06250       150.4142  75.9292983 224.8992   36.4993535 264.3291\n",
       "43.07292       150.1224  75.2948752 224.9500   35.6835647 264.5613\n",
       "43.08333       146.9278  71.7591975 222.0964   31.9673481 261.8882\n",
       "43.09375       146.2458  70.7376979 221.7539   30.7661250 261.7255\n",
       "43.10417       150.6395  74.7933894 226.4856   34.6428975 266.6361\n",
       "43.11458       151.0245  74.8419249 227.2071   34.5133077 267.5357\n",
       "43.12500       149.7695  73.2519250 226.2871   32.7459658 266.7930\n",
       "43.13542       150.8900  74.0388343 227.7411   33.3563061 268.4236\n",
       "43.14583       151.5662  74.3829984 228.7495   33.5246644 269.6078\n",
       "43.15625       152.5122  74.9982734 230.0261   33.9648868 271.0595\n",
       "43.16667       152.4457  74.6025531 230.2889   33.3948574 271.4966\n",
       "43.17708       153.2098  75.0387245 231.3809   33.6574540 272.7622\n",
       "43.18750       156.6007  78.1031453 235.0983   36.5490251 276.6525\n",
       "43.19792       157.2944  78.4716675 236.1172   36.7454135 277.8435\n",
       "43.20833       160.2618  81.1151968 239.4084   39.2175163 281.3061\n",
       "43.21875       169.3956  89.9265193 248.8648   47.8581108 290.9332\n",
       "43.22917       170.2724  90.4820537 250.0627   48.2436072 292.3011\n",
       "43.23958       172.8297  92.7194930 252.9400   50.3116903 295.3478\n",
       "43.25000       173.1499  92.7209658 253.5788   50.1444806 296.1552\n",
       "43.26042       165.6741  84.9278626 246.4204   42.1833606 289.1649\n",
       "43.27083       166.1637  85.1012339 247.2261   42.1893729 290.1380\n",
       "43.28125       168.8659  87.4885405 250.2433   44.4099707 293.3218\n",
       "43.29167       251.9100 170.2189334 333.6011  126.9742975 376.8457\n",
       "43.30208       250.7598 168.7562138 332.7634  125.3461469 376.1734\n",
       "43.31250       246.9411 164.6261629 329.2559  121.0512932 372.8308\n",
       "43.32292       247.0852 164.4601684 329.7102  120.7211169 373.4493\n",
       "43.33333       249.9445 167.0104468 332.8785  123.1078273 376.7811\n",
       "43.34375       246.4682 163.2263557 329.7101  119.1607755 373.7757\n",
       "43.35417       248.6275 165.0788952 332.1760  120.8509547 376.4040\n",
       "43.36458       251.1053 167.2511541 334.9595  122.8614472 379.3492\n",
       "43.37500       246.9434 162.7847263 331.1020  118.2338402 375.6529\n",
       "43.38542       248.5693 164.1073374 333.0313  119.3958533 377.7428\n",
       "43.39583       253.3568 168.5924919 338.1211  123.7209845 382.9926\n",
       "43.40625       250.6431 165.5776221 335.7086  120.5466602 380.7396\n",
       "43.41667       251.7301 166.3644592 337.0958  121.1746052 382.2856\n",
       "43.42708       249.5565 163.8917296 335.2213  118.5435404 380.5695\n",
       "43.43750       247.7047 161.7418669 333.6675  116.2358934 379.1735\n",
       "43.44792       250.2216 163.9617836 336.4815  118.2985709 382.1447\n",
       "43.45833       249.4021 162.8462558 335.9580  117.0263436 381.7779\n",
       "43.46875       256.2248 169.3739670 343.0757  123.3978894 389.0518\n",
       "43.47917       258.1405 170.9956096 345.2854  124.8638951 391.4171\n",
       "43.48958       252.1958 164.7578561 339.6337  118.4710281 385.9205\n",
       "43.50000       254.6507 166.9207375 342.3806  120.4793142 388.8220\n",
       "43.51042       255.9354 167.9143610 343.9564  121.3188551 390.5519\n",
       "43.52083       252.6514 164.3402748 340.9625  117.5911943 387.7116\n",
       "43.53125       252.5067 163.9064578 341.1070  117.0043055 388.0092\n",
       "43.54167       254.5798 165.6913281 343.4683  118.6366019 390.5230\n",
       "43.55208       255.2043 166.0285517 344.3801  118.8217448 391.5869\n",
       "43.56250       254.9094 165.4472059 344.3715  118.0888066 391.7299\n",
       "43.57292       252.6359 162.8882970 342.3835  115.3787890 389.8930\n",
       "43.58333       251.5012 161.4690591 341.5333  113.8089216 389.1935\n",
       "43.59375       251.8543 161.5385532 342.1701  113.7282607 389.9804\n",
       "43.60417       251.9979 161.3993863 342.5965  113.4394089 390.5565\n",
       "43.61458       251.4799 160.5994227 342.3603  112.4902261 390.4695\n",
       "43.62500       252.6592 161.4977922 343.8207  113.2398378 392.0786\n",
       "43.63542       252.3690 160.9274078 343.8106  112.5211528 392.2168\n",
       "43.64583       249.2033 157.4824007 340.9242  108.9282980 389.4783\n",
       "43.65625       247.4171 155.4178203 339.4165  106.7163188 388.1180\n",
       "43.66667       251.1380 158.8610566 343.4149  110.0126010 392.2634\n",
       "43.67708       267.5758 175.0221283 360.1295  126.0271594 409.1245\n",
       "43.68750       302.6093 209.7796084 395.4389  160.6385631 444.5799\n",
       "43.69792       301.7404 208.6356560 394.8452  159.3489671 444.1319\n",
       "43.70833       299.5264 206.1473273 392.9055  156.7154240 442.3374\n",
       "43.71875       296.6659 203.0132650 390.3185  153.4365726 439.8952\n",
       "43.72917       295.1294 201.2040765 389.0547  151.4830166 438.7758\n",
       "43.73958       296.4385 202.2412719 390.6358  152.3762625 440.5008\n",
       "43.75000       301.0364 206.5680220 395.5048  156.5594776 445.5133\n",
       "43.76042       296.3905 201.6517071 391.1292  151.5000383 441.2809\n",
       "43.77083       297.6112 202.6028626 392.6196  152.3084768 442.9140\n",
       "43.78125       295.1847 199.9075291 390.4619  149.4708301 440.8986\n",
       "43.79167       294.3489 198.8036459 389.8942  148.2250341 440.4728\n",
       "43.80208       294.2133 198.4006783 390.0259  147.6805508 440.7460\n",
       "43.81250       292.4671 196.3878635 388.5462  145.5266140 439.4075\n",
       "43.82292       289.7990 193.4539600 386.1440  142.4519790 437.1460\n",
       "43.83333       289.6771 193.0669581 386.2873  141.9246329 437.4296\n",
       "43.84375       287.8401 190.9655259 384.7146  139.6832406 435.9969\n",
       "43.85417       285.5973 188.4590478 382.7355  137.0371833 434.1573\n",
       "43.86458       283.6287 186.2274885 381.0298  134.6664226 432.5909\n",
       "43.87500       273.7834 176.1199920 371.4468  124.4200996 423.1467\n",
       "43.88542       271.8491 173.9240867 369.7740  122.0857395 421.6124\n",
       "43.89583       267.4744 169.2886295 365.6603  117.3121963 417.6367\n",
       "43.90625       268.3647 169.9186936 366.8107  117.8045404 418.9248\n",
       "43.91667       189.6132  90.9077281 288.3186   38.6562178 340.5701\n",
       "43.92708       190.4668  91.5025602 289.4311   39.1140529 341.8196\n",
       "43.93750       155.8388  56.6163866 255.0611    4.0912397 307.5863\n",
       "43.94792       153.8713  54.3914711 253.3511    1.7300391 306.0125\n",
       "43.95833       153.2922  53.5555971 253.0288    0.7582318 305.8262\n",
       "43.96875       148.7884  48.7957047 248.7811   -4.1372448 301.7141\n",
       "43.97917       154.2110  53.9627993 254.4592    0.8946119 307.5274\n",
       "43.98958       158.3983  57.8953085 258.9013    4.6922271 312.1044\n",
       "44.00000       156.5357  55.7784961 257.2929    2.4408618 310.6305\n",
       "44.01042       146.6980  45.6872307 247.7087   -7.7846180 301.1805\n",
       "44.02083       151.0575  49.7938228 252.3211   -3.8119042 305.9268\n",
       "44.03125       152.7501  51.2341868 254.2660   -2.5050849 308.0053\n",
       "44.04167       150.6970  48.9294216 252.4645   -4.9430638 306.3370\n",
       "44.05208       152.8092  50.7906433 254.8278   -3.2147273 308.8332\n",
       "44.06250       150.4142  48.1452539 252.6832   -5.9926756 306.8212\n",
       "44.07292       150.1224  47.6036403 252.6412   -6.6665244 306.9114\n",
       "44.08333       146.9278  44.1598178 249.6958  -10.2422606 304.0978\n",
       "44.09375       146.2458  43.2292358 249.2624  -11.3044373 303.7960\n",
       "44.10417       150.6395  47.3749237 253.9040   -7.2900273 308.5690\n",
       "44.11458       151.0245  47.5125501 254.5364   -7.2833642 309.3324\n",
       "44.12500       149.7695  46.0107513 253.5283   -8.9158141 308.4548\n",
       "44.13542       150.8900  46.8849871 254.8949   -8.1719194 309.9518\n",
       "44.14583       151.5662  47.3156179 255.8168   -7.8713219 311.0038\n",
       "44.15625       152.5122  48.0165140 257.0079   -7.3001533 312.3245\n",
       "44.16667       152.4457  47.7055834 257.1859   -7.7405079 312.6320\n",
       "44.17708       153.2098  48.2257270 258.1939   -7.3494870 313.7691\n",
       "44.18750       156.6007  51.3733157 261.8282   -4.3307216 317.5322\n",
       "44.19792       157.2944  51.8242147 262.7647   -4.0083487 318.5972\n",
       "44.20833       160.2618  54.5493426 265.9743   -1.4114517 321.9351\n",
       "44.21875       169.3956  63.4414978 275.3498    7.3527658 331.4385\n",
       "44.22917       170.2724  64.0771114 276.4676    7.8607328 332.6840\n",
       "44.23958       172.8297  66.3938882 279.2656   10.0501522 335.6093\n",
       "44.25000       173.1499  66.4739686 279.8258   10.0031624 336.2966\n",
       "44.26042       165.6741  58.7587545 272.5895    2.1611634 329.1871\n",
       "44.27083       166.1637  59.0093074 273.3180    2.2852149 330.0421\n",
       "44.28125       168.8659  61.4730992 276.2587    4.6227866 333.1090\n",
       "44.29167       251.9100 144.2792915 359.5407   87.3030385 416.5170\n",
       "44.30208       250.7598 142.8916958 358.6279   85.7897802 415.7298\n",
       "44.31250       246.9411 138.8361038 355.0460   81.6088015 412.2733\n",
       "44.32292       247.0852 138.7439129 355.4265   81.3914981 412.7789\n",
       "44.33333       249.9445 141.3673496 358.5216   83.8900945 415.9988\n",
       "44.34375       246.4682 137.6557809 355.2807   80.0539562 412.8825\n",
       "44.35417       248.6275 139.5802165 357.6747   81.8540908 415.4008\n",
       "44.36458       251.1053 141.8237541 360.3869   83.9735947 418.2370\n",
       "44.37500       246.9434 137.4279967 356.4587   79.4540689 414.4326\n",
       "44.38542       248.5693 138.8206787 358.3180   80.7232462 416.4154\n",
       "44.39583       253.3568 143.3753134 363.3383   85.1546380 421.5589\n",
       "44.40625       250.6431 140.4293412 360.8569   82.0856835 419.2006\n",
       "44.41667       251.7301 141.2845017 362.1757   82.8181202 420.6421\n",
       "44.42708       249.5565 138.8795295 360.2335   80.2906814 418.8223\n",
       "44.43750       247.7047 136.7968660 358.6125   78.0858067 417.3236\n",
       "44.44792       250.2216 139.0834316 361.3599   80.2504149 420.1929\n",
       "44.45833       249.4021 138.0340099 360.7703   79.0792882 419.7250\n",
       "44.46875       256.2248 144.6272920 367.8224   85.5511160 426.8986\n",
       "44.47917       258.1405 146.3139776 369.9670   87.1165964 429.1644\n",
       "44.48958       252.1958 140.1407463 364.2508   80.8224076 423.5691\n",
       "44.50000       254.6507 142.3676363 366.9337   82.9285863 426.3728\n",
       "44.51042       255.9354 143.4247616 368.4460   83.8652449 428.0055\n",
       "44.52083       252.6514 139.9136772 365.3891   80.2339370 425.0688\n",
       "44.53125       252.5067 139.5423687 365.4711   79.7426466 425.2708\n",
       "44.54167       254.5798 141.3892607 367.7704   81.4697971 427.6898\n",
       "44.55208       255.2043 141.7880255 368.6206   81.7490592 428.6596\n",
       "44.56250       254.9094 141.2677468 368.5510   81.1095151 428.7092\n",
       "44.57292       252.6359 138.7694371 366.5024   78.4921760 426.7796\n",
       "44.58333       251.5012 137.4103365 365.5921   77.0142806 425.9881\n",
       "44.59375       251.8543 137.5395121 366.1692   77.0248945 426.6838\n",
       "44.60417       251.9979 137.4595764 366.5363   76.8266291 427.1693\n",
       "44.61458       251.4799 136.7183996 366.2413   75.9673531 426.9924\n",
       "44.62500       252.6592 137.6751173 367.6434   76.8062005 428.5123\n",
       "44.63542       252.3690 137.1626478 367.5754   76.1760887 428.5619\n",
       "44.64583       249.2033 133.7751277 364.6314   72.6711528 425.7354\n",
       "44.65625       247.4171 131.7676120 363.0667   70.5464464 424.2878\n",
       "44.66667       251.1380 135.2674957 367.0085   73.9293634 428.3466\n",
       "44.67708       267.5758 151.4848027 383.6669   90.0299262 445.1217\n",
       "44.68750       302.6093 186.2981111 418.9204  124.7267118 480.4918\n",
       "44.69792       301.7404 185.2095848 418.2713  123.5218829 479.9590\n",
       "44.70833       299.5264 182.7762852 416.2765  120.9724994 478.0803\n",
       "44.71875       296.6659 179.6968594 413.6349  117.7772075 475.5545\n",
       "44.72917       295.1294 177.9419199 412.3169  115.9066182 474.3522\n",
       "44.73958       296.4385 179.0329812 413.8441  116.8822450 475.9948\n",
       "44.75000       301.0364 183.4132189 418.6596  121.1472620 480.9256\n",
       "44.76042       296.3905 178.5500174 414.2309  116.1690528 476.6119\n",
       "44.77083       297.6112 179.5539168 415.6685  117.0581561 478.1643\n",
       "44.78125       295.1847 176.9109619 413.4585  114.3006155 476.0688\n",
       "44.79167       294.3489 175.8590963 412.8387  113.1343736 475.5635\n",
       "44.80208       294.2133 175.5077895 412.9188  112.6688987 475.7577\n",
       "44.81250       292.4671 173.5462829 411.3878  110.5934310 474.3407\n",
       "44.82292       289.7990 170.6633388 408.9347  107.5967318 472.0013\n",
       "44.83333       289.6771 170.3269518 409.0273  107.1467944 472.2074\n",
       "44.84375       287.8401 168.2757937 407.4043  104.9822897 470.6978\n",
       "44.85417       285.5973 165.8192529 405.3753  102.4126049 468.7819\n",
       "44.86458       283.6287 163.6372977 403.6200  100.1177072 467.1396\n",
       "44.87500       273.7834 153.5790762 393.9878   89.9467437 457.6201\n",
       "44.88542       271.8491 151.4321201 392.2660   87.6872450 456.0109\n",
       "44.89583       267.4744 146.8452901 388.1036   82.9880707 451.9608\n",
       "44.90625       268.3647 147.5236630 389.2057   83.5542966 453.1750\n",
       "44.91667       189.6132  68.5606913 310.6657    4.4793742 374.7470\n",
       "44.92708       190.4668  69.2032057 311.7304    5.0101332 375.9235\n",
       "44.93750       155.8388  34.3644063 277.3131  -29.9402274 341.6177\n",
       "44.94792       153.8713  32.1865603 275.5560  -32.2294415 339.9720\n",
       "44.95833       153.2922  31.3974543 275.1869  -33.1297232 339.7141\n",
       "44.96875       148.7884  26.6840317 270.8928  -37.9541305 335.5310\n",
       "44.97917       154.2110  31.8973011 276.5247  -32.8516555 341.2736\n",
       "44.98958       158.3983  35.8756932 280.9210  -28.9838684 345.7805\n",
       "45.00000       156.5357  33.8044750 279.2669  -31.1655034 344.2369\n",
       "45.01042       146.6980  23.7585181 269.6374  -41.3216898 334.7176\n",
       "45.02083       151.0575  27.9101360 274.2048  -37.2801150 339.3950\n",
       "45.03125       152.7501  29.3952460 276.1049  -35.9048626 341.4050\n",
       "45.04167       150.6970  27.1349501 274.2590  -38.2748317 339.6688\n",
       "45.05208       152.8092  29.0403670 276.5781  -36.4789043 342.0973\n",
       "45.06250       150.4142  26.4389019 274.3896  -39.1896763 340.0182\n",
       "45.07292       150.1224  25.9409442 274.3039  -39.7967591 340.0416\n",
       "45.08333       146.9278  22.5405120 271.3151  -43.3061356 337.1617\n",
       "45.09375       146.2458  21.6530575 270.8385  -44.3023544 336.7939\n",
       "45.10417       150.6395  25.8416128 275.4373  -40.2223845 341.5013\n",
       "45.11458       151.0245  26.0218490 276.0271  -40.1505553 342.1995\n",
       "45.12500       149.7695  24.5624051 274.9766  -41.7182290 341.2572\n",
       "45.13542       150.8900  25.4787434 276.3012  -40.9099440 342.6899\n",
       "45.14583       151.5662  25.9512269 277.1812  -40.5453383 343.6778\n",
       "45.15625       152.5122  26.6937283 278.3306  -39.9105399 344.9349\n",
       "45.16667       152.4457  26.4241581 278.4673  -40.2876392 345.1791\n",
       "45.17708       153.2098  26.9854197 279.4342  -39.8337338 346.2533\n",
       "45.18750       156.6007  30.1738863 283.0276  -36.7524511 349.9539\n",
       "45.19792       157.2944  30.6654254 283.9234  -36.3679245 350.9568\n",
       "45.20833       160.2618  33.4309580 287.0926  -33.7092339 354.2328\n",
       "45.21875       169.3956  42.3632847 296.4280  -24.8835793 363.6748\n",
       "45.22917       170.2724  43.0388390 297.5059  -24.3145283 364.8593\n",
       "45.23958       172.8297  45.3953278 300.2642  -22.0643746 367.7239\n",
       "45.25000       173.1499  45.5148938 300.7848  -22.0509764 368.3507\n",
       "45.26042       165.6741  37.8389410 293.5094  -29.8329304 361.1812\n",
       "45.27083       166.1637  38.1285331 294.1988  -29.6491737 361.9765\n",
       "45.28125       168.8659  40.6311440 297.1006  -27.2522332 364.9840\n",
       "45.29167       251.9100 123.4759374 380.3441   55.4870540 448.3329\n",
       "45.30208       250.7598 122.1267270 379.3928   54.0325009 447.4871\n",
       "45.31250       246.9411 118.1093063 375.7728   49.9099002 443.9722\n",
       "45.32292       247.0852 118.0550750 376.1153   49.7506509 444.4198\n",
       "45.33333       249.9445 120.7162612 379.1727   52.3069803 447.5820\n",
       "45.34375       246.4682 117.0422342 375.8942   48.5282570 444.4082\n",
       "45.35417       248.6275 119.0040053 378.2509   50.3854915 446.8694\n",
       "45.36458       251.1053 121.2846744 380.9259   52.5617830 449.6488\n",
       "45.37500       246.9434 116.9258462 376.9609   48.0987355 445.7880\n",
       "45.38542       248.5693 118.3552570 378.7834   49.4240846 447.7146\n",
       "45.39583       253.3568 122.9464217 383.7672   53.9113445 452.8022\n",
       "45.40625       250.6431 120.0367829 381.2495   50.8979569 450.3883\n",
       "45.41667       251.7301 120.9280817 382.5322   51.6856625 451.7746\n",
       "45.42708       249.5565 118.5590546 380.5539   49.2131969 449.8998\n",
       "45.43750       247.7047 116.5121447 378.8972   47.0630025 448.3464\n",
       "45.44792       250.2216 118.8342739 381.6090   49.2820007 451.1613\n",
       "45.45833       249.4021 117.8202278 380.9840   48.1649762 450.6393\n",
       "45.46875       256.2248 124.4486990 388.0010   54.6906211 457.7591\n",
       "45.47917       258.1405 126.1703888 390.1106   56.3096359 459.9713\n",
       "45.48958       252.1958 120.0319786 384.3595   50.0687014 454.3228\n",
       "45.50000       254.6507 122.2935082 387.0078   52.2278566 457.0735\n",
       "45.51042       255.9354 123.3850929 388.4856   53.2172164 458.6535\n",
       "45.52083       252.6514 119.9082896 385.3945   49.6383369 455.6644\n",
       "45.53125       252.5067 119.5710852 385.4424   49.1992044 455.8143\n",
       "45.54167       254.5798 121.4519060 387.7077   50.9782444 458.1814\n",
       "45.55208       255.2043 121.8844259 388.5242   51.3091303 459.0995\n",
       "45.56250       254.9094 121.3977298 388.4210   50.7209465 459.0978\n",
       "45.57292       252.6359 118.9328318 386.3390   48.1547062 457.1171\n",
       "45.58333       251.5012 117.6069736 385.3954   46.7276505 456.2748\n",
       "45.59375       251.8543 117.7692234 385.9395   46.7888473 456.9198\n",
       "45.60417       251.9979 117.7221956 386.2737   46.6409100 457.3550\n",
       "45.61458       251.4799 117.0137614 385.9460   45.8317095 457.1280\n",
       "45.62500       252.6592 118.0030579 387.3154   46.7203820 458.5981\n",
       "45.63542       252.3690 117.5230049 387.2150   46.1398468 458.5982\n",
       "45.64583       249.2033 114.1677402 384.2388   42.6842413 455.7223\n",
       "45.65625       247.4171 112.1923202 382.6420   40.6086211 454.2257\n",
       "45.66667       251.1380 115.7241412 386.5518   44.0403820 458.2356\n",
       "45.67708       267.5758 131.9732285 403.1784   60.1895486 474.9621\n",
       "45.68750       302.6093 166.8181614 438.4003   94.9346997 510.2838\n",
       "45.69792       301.7404 165.7611051 437.7198   93.7780000 509.7029\n",
       "45.70833       299.5264 163.3591222 435.6937   91.2765114 507.7763\n",
       "45.71875       296.6659 160.3108613 433.0209   88.1288819 505.2029\n",
       "45.72917       295.1294 158.5869358 431.6719   86.3057244 503.9531\n",
       "45.73958       296.4385 159.7088616 433.1682   87.3285544 505.5485\n",
       "45.75000       301.0364 164.1198155 437.9530   91.6405478 510.4323\n",
       "45.76042       296.3905 159.2871830 433.4937   86.7090898 506.0718\n",
       "45.77083       297.6112 160.3215055 434.9009   87.6447213 507.5777\n",
       "45.78125       295.1847 157.7088289 432.6606   84.9334874 505.4360\n",
       "45.79167       294.3489 156.6870980 432.0107   83.8133325 504.8845\n",
       "45.80208       294.2133 156.3657834 432.0608   83.3937267 505.0328\n",
       "45.81250       292.4671 154.4341277 430.5000   81.3639120 503.5702\n",
       "45.82292       289.7990 151.5808942 428.0171   78.4126512 501.1853\n",
       "45.83333       289.6771 151.2740786 428.0801   78.0079395 501.3463\n",
       "45.84375       287.8401 149.2523540 426.4278   75.8884493 499.7917\n",
       "45.85417       285.5973 146.8251096 424.3694   73.3635695 497.8310\n",
       "45.86458       283.6287 144.6723149 422.5850   71.1132690 496.1441\n",
       "45.87500       273.7834 134.6431191 412.9237   60.9866964 486.5801\n",
       "45.88542       271.8491 132.5250548 411.1731   58.7713840 484.9267\n",
       "45.89583       267.4744 127.9669839 406.9819   54.1161930 480.8327\n",
       "45.90625       268.3647 128.6739842 408.0554   54.7262006 482.0031\n",
       "45.91667       189.6132  49.7395090 329.4869  -24.3051400 403.5315\n",
       "45.92708       190.4668  50.4103903 330.5232  -23.7309977 404.6646\n",
       "45.93750       155.8388  15.5998290 296.0777  -58.6381719 370.3157\n",
       "45.94792       153.8713  13.4500933 294.2925  -60.8843950 368.6270\n",
       "45.95833       153.2922  12.6889708 293.8954  -61.7418797 368.3263\n",
       "45.96875       148.7884   8.0034058 289.5734  -66.5236824 364.1005\n",
       "45.97917       154.2110  13.2444079 295.1776  -61.3787938 369.8008\n",
       "45.98958       158.3983  17.2504088 299.5462  -57.4687828 374.2654\n",
       "46.00000       156.5357  15.2066763 297.8647  -59.6083821 372.6798\n",
       "46.01042       146.6980   5.1880829 288.2078  -69.7227195 363.1186\n",
       "46.02083       151.0575   9.3669432 292.7480  -65.6394811 367.7544\n",
       "46.03125       152.7501  10.8791753 294.6210  -64.2227491 369.7229\n",
       "46.04167       150.6970   8.6458819 292.7481  -66.5514213 367.9454\n",
       "46.05208       152.8092  10.5781829 295.0403  -64.7143783 370.3328\n",
       "46.06250       150.4142   8.0034841 292.8250  -67.3842147 368.2127\n",
       "46.07292       150.1224   7.5321760 292.7127  -67.9505406 368.1954\n",
       "46.08333       146.9278   4.1582774 289.6973  -71.4193374 365.2749\n",
       "46.09375       146.2458   3.2972413 289.1944  -72.3751528 364.8667\n",
       "46.10417       150.6395   7.5121007 293.7668  -68.2549541 369.5339\n",
       "46.11458       151.0245   7.7185277 294.3305  -68.1430697 370.1921\n",
       "46.12500       149.7695   6.2851618 293.2538  -69.6708605 369.2099\n",
       "46.13542       150.8900   7.2274663 294.5525  -68.8228636 370.6028\n",
       "46.14583       151.5662   7.7258049 295.4067  -68.4187158 371.5512\n",
       "46.15625       152.5122   8.4940513 296.5303  -67.7445439 372.7689\n",
       "46.16667       152.4457   8.2501166 296.6414  -68.0824372 372.9739\n",
       "46.17708       153.2098   8.8369050 297.5827  -67.5894919 374.0091\n",
       "46.18750       156.6007  12.0507904 301.1507  -64.4693343 377.6708\n",
       "46.19792       157.2944  12.5676413 302.0212  -64.0460967 378.6350\n",
       "46.20833       160.2618  15.3583793 305.1652  -61.3488578 381.8725\n",
       "46.21875       169.3956  24.3158058 314.4755  -52.4848165 391.2761\n",
       "46.22917       170.2724  25.0163549 315.5284  -51.8775392 392.4223\n",
       "46.23958       172.8297  27.3977344 318.2617  -49.5893185 395.2488\n",
       "46.25000       173.1499  27.5420876 318.7576  -49.5380115 395.8377\n",
       "46.26042       165.6741  19.8908193 311.4575  -57.2822138 388.6305\n",
       "46.27083       166.1637  20.2049938 312.1223  -57.0608615 389.3882\n",
       "46.28125       168.8659  22.7320859 314.9997  -54.6264803 392.3583\n",
       "46.29167       251.9100 105.6012599 398.2187   28.1500939 475.6699\n",
       "46.30208       250.7598 104.2763302 397.2432   26.7326748 474.7869\n",
       "46.31250       246.9411 100.2830909 393.5990   22.6470564 471.2350\n",
       "46.32292       247.0852 100.2529425 393.9175   22.5246386 471.6458\n",
       "46.33333       249.9445 102.9381137 396.9508   25.1176499 474.7713\n",
       "46.34375       246.4682  99.2879744 393.6485   21.3754598 471.5610\n",
       "46.35417       248.6275 101.2735368 395.9814   23.2690798 473.9858\n",
       "46.36458       251.1053 103.5779011 398.6327   25.4816101 476.7290\n",
       "46.37500       246.9434  99.2426729 394.6440   21.0546558 472.8321\n",
       "46.38542       248.5693 100.6955891 396.4431   22.4159533 474.7227\n",
       "46.39583       253.3568 105.3101653 401.4034   26.9390178 479.7746\n",
       "46.40625       250.6431 102.4238446 398.8624   23.9612922 477.3250\n",
       "46.41667       251.7301 103.3383687 400.1219   24.7845179 478.6757\n",
       "46.42708       249.5565 100.9924748 398.1205   22.3474314 476.7656\n",
       "46.43750       247.7047  98.9686065 396.4408   20.2324763 475.1769\n",
       "46.44792       250.2216 101.3136866 399.1296   22.4865746 477.9567\n",
       "46.45833       249.4021 100.3225010 398.4818   21.4045123 477.3997\n",
       "46.46875       256.2248 106.9737429 405.4759   27.9649820 484.4847\n",
       "46.47917       258.1405 108.7181144 407.5629   29.6186854 486.6623\n",
       "46.48958       252.1958 102.6022973 401.7892   23.4123041 480.9792\n",
       "46.50000       254.6507 104.8863320 404.4150   25.6058779 483.6955\n",
       "46.51042       255.9354 106.0003345 405.8704   26.6295227 485.2412\n",
       "46.52083       252.6514 102.5458621 402.7569   23.0847954 482.2180\n",
       "46.53125       252.5067 102.2309023 402.7826   22.6796831 482.3338\n",
       "46.54167       254.5798 104.1338821 405.0258   24.4926124 484.6670\n",
       "46.55208       255.2043 104.5884757 405.8202   24.8572572 485.5514\n",
       "46.56250       254.9094 104.1237688 405.6949   24.3027029 485.5160\n",
       "46.57292       252.6359 101.6807760 403.5910   21.7699636 483.5018\n",
       "46.58333       251.5012 100.3767393 402.6257   20.3762812 482.6261\n",
       "46.59375       251.8543 100.5607277 403.1480   20.4707243 483.2380\n",
       "46.60417       251.9979 100.5353560 403.4605   20.3559071 483.6400\n",
       "46.61458       251.4799  99.8484960 403.1112   19.5797014 483.3800\n",
       "46.62500       252.6592 100.8592852 404.4592   20.5012443 484.8172\n",
       "46.63542       252.3690 100.4006440 404.3374   19.9534557 484.7845\n",
       "46.64583       249.2033  97.0667108 401.3399   16.5304738 481.8761\n",
       "46.65625       247.4171  95.1125422 399.7218   14.4873549 480.3469\n",
       "46.66667       251.1380  98.6655354 403.6104   17.9514958 484.3245\n",
       "46.67708       267.5758 114.9357159 420.2159   34.1329216 501.0187\n",
       "46.68750       302.6093 149.8016635 455.4168   68.9102120 536.3083\n",
       "46.69792       301.7404 148.7655441 454.7153   67.7855325 535.6953\n",
       "46.70833       299.5264 146.3844207 452.6684   65.3159456 533.7369\n",
       "46.71875       296.6659 143.3569422 449.9748   62.2001001 531.1316\n",
       "46.72917       295.1294 141.6537226 448.6051   60.4086097 529.8502\n",
       "46.73958       296.4385 142.7962784 450.0808   61.4629903 531.4140\n",
       "46.75000       301.0364 147.2277866 454.8450   65.8064189 536.2664\n",
       "46.76042       296.3905 142.4156334 450.3653   60.9062813 531.8746\n",
       "46.77083       297.6112 143.4703606 451.7521   61.8731190 533.3493\n",
       "46.78125       295.1847 140.8780144 449.4914   59.1929778 531.1765\n",
       "46.79167       294.3489 139.8765402 448.8213   58.1038029 530.5940\n",
       "46.80208       294.2133 139.5754090 448.8512   57.7150650 530.7115\n",
       "46.81250       292.4671 137.6638638 447.2702   55.7160067 529.2181\n",
       "46.82292       289.7990 134.8306686 444.7673   52.7953917 526.8026\n",
       "46.83333       289.6771 134.5438192 444.8104   52.4212157 526.9330\n",
       "46.84375       287.8401 132.5419892 443.1381   50.3321518 525.3480\n",
       "46.85417       285.5973 130.1345684 441.0600   47.8375895 523.3569\n",
       "46.86458       283.6287 128.0015266 439.2558   45.6174985 521.6398\n",
       "46.87500       273.7834 117.9920134 429.5748   35.5210278 512.0458\n",
       "46.88542       271.8491 115.8935619 427.8045   33.3357105 510.3624\n",
       "46.89583       267.4744 111.3550343 423.5939   28.7104085 506.2385\n",
       "46.90625       268.3647 112.0815089 424.6478   29.3501995 507.3791\n",
       "46.91667       189.6132  33.1664395 346.0599  -49.6514627 428.8778\n",
       "46.92708       190.4668  33.8566582 347.0770  -49.0477463 429.9814\n",
       "46.93750       155.8388  -0.9346334 312.6121  -83.9254500 395.6030\n",
       "46.94792       153.8713  -3.0651669 310.8077  -86.1423058 393.8849\n",
       "46.95833       153.2922  -3.8071541 310.3915  -86.9705257 393.5549\n",
       "46.96875       148.7884  -8.4736506 306.0505  -91.7231655 389.3000\n",
       "46.97917       154.2110  -3.2136461 311.6356  -86.5492153 394.9712\n",
       "46.98958       158.3983   0.8112913 315.9854  -82.6102434 399.4069\n",
       "47.00000       156.5357  -1.2135702 314.2849  -84.7209819 397.7924\n",
       "47.01042       146.6980 -11.2133576 304.6093  -94.8065582 388.2025\n",
       "47.02083       151.0575  -7.0157561 309.1307  -90.6946576 392.8096\n",
       "47.03125       152.7501  -5.4848472 310.9850  -89.2493618 394.7495\n",
       "47.04167       150.6970  -7.6995277 309.0935  -91.5495681 392.9435\n",
       "47.05208       152.8092  -5.7486774 311.3671  -89.6841564 395.3026\n",
       "47.06250       150.4142  -8.3048902 309.1334  -92.3257210 393.1542\n",
       "47.07292       150.1224  -8.7577753 309.0026  -92.8638711 393.1087\n",
       "47.08333       146.9278 -12.1133133 305.9689  -96.3045880 390.1602\n",
       "47.09375       146.2458 -12.9560510 305.4476  -97.2324183 389.7240\n",
       "47.10417       150.6395  -8.7229551 310.0019  -93.0843293 394.3633\n",
       "47.11458       151.0245  -8.4983531 310.5473  -92.9446485 394.9936\n",
       "47.12500       149.7695  -9.9136050 309.4526  -94.4447364 393.9837\n",
       "47.13542       150.8900  -8.9532474 310.7332  -93.5691297 395.3490\n",
       "47.14583       151.5662  -8.4369161 311.5694  -93.1374645 396.2699\n",
       "47.15625       152.5122  -7.6507371 312.6751  -92.4358671 397.4602\n",
       "47.16667       152.4457  -7.8767990 312.7683  -92.7464263 397.6379\n",
       "47.17708       153.2098  -7.2721974 313.6918  -92.2262378 398.6458\n",
       "47.18750       156.6007  -4.0405577 317.2421  -89.0789276 402.2804\n",
       "47.19792       157.2944  -3.5060114 318.0949  -88.6286272 403.2175\n",
       "47.20833       160.2618  -0.6976364 321.2212  -85.9044148 406.4280\n",
       "47.21875       169.3956   8.2773689 330.5139  -77.0134891 415.8048\n",
       "47.22917       170.2724   8.9954390 331.5493  -76.3794157 416.9242\n",
       "47.23958       172.8297  11.3942819 334.2652  -74.0644869 419.7240\n",
       "47.25000       173.1499  11.5560415 334.7437  -73.9865592 420.2863\n",
       "47.26042       165.6741   3.9221226 327.4262  -81.7042279 413.0525\n",
       "47.27083       166.1637   4.2535900 328.0737  -81.4564284 413.7838\n",
       "47.28125       168.8659   6.7979187 330.9339  -78.9956861 416.7275\n",
       "47.29167       251.9100  89.6842733 414.1357    3.8071635 500.0128\n",
       "47.30208       250.7598  88.3764686 413.1431    2.4159349 499.1036\n",
       "47.31250       246.9411  84.4002990 409.4818   -1.6435777 495.5257\n",
       "47.32292       247.0852  84.3871651 409.7832   -1.7399739 495.9104\n",
       "47.33333       249.9445  87.0892962 412.7996    0.8789752 499.0100\n",
       "47.34375       246.4682  83.4560623 409.4804   -2.8373604 495.7738\n",
       "47.35417       248.6275  85.4584758 411.7965   -0.9179687 498.1729\n",
       "47.36458       251.1053  87.7796375 414.4310    1.3202509 500.8904\n",
       "47.37500       246.9434  83.4611530 410.4256   -3.0810961 496.9678\n",
       "47.38542       248.5693  84.9307597 412.2079   -1.6942728 498.8330\n",
       "47.39583       253.3568  89.5619732 417.1516    2.8542365 503.8593\n",
       "47.40625       250.6431  86.6922372 414.5940   -0.0981251 501.3844\n",
       "47.41667       251.7301  87.6232935 415.8370    0.7503843 502.7099\n",
       "47.42708       249.5565  85.2938796 413.8191   -1.6614981 500.7745\n",
       "47.43750       247.7047  83.2864394 412.1230   -3.7513286 499.1607\n",
       "47.44792       250.2216  85.6478959 414.7954   -1.4721847 501.9155\n",
       "47.45833       249.4021  84.6730354 414.1312   -2.5292799 501.3335\n",
       "47.46875       256.2248  91.3405514 421.1091    4.0560787 508.3936\n",
       "47.47917       258.1405  93.1011460 423.1798    5.7345933 510.5464\n",
       "47.48958       252.1958  87.0015015 417.3900   -0.4470542 504.8386\n",
       "47.50000       254.6507  89.3016584 419.9997    1.7711766 507.5302\n",
       "47.51042       255.9354  90.4317332 421.4390    2.8194018 509.0513\n",
       "47.52083       252.6514  86.9932832 418.3095   -0.7008214 506.0036\n",
       "47.53125       252.5067  86.6942964 418.3192   -1.0815051 506.0950\n",
       "47.54167       254.5798  88.6131999 420.5464    0.7557773 508.4039\n",
       "47.55208       255.2043  89.0836681 421.3250    1.1447003 509.2640\n",
       "47.56250       254.9094  88.6347871 421.1839    0.6143496 509.2044\n",
       "47.57292       252.6359  86.2075716 419.0642   -1.8942603 507.1660\n",
       "47.58333       251.5012  84.9192640 418.0831   -3.2638872 506.2663\n",
       "47.59375       251.8543  85.1189336 418.5898   -3.1454620 506.8542\n",
       "47.60417       251.9979  85.1091951 418.8867   -3.2363700 507.2323\n",
       "47.61458       251.4799  84.4379209 418.5218   -3.9887394 506.9485\n",
       "47.62500       252.6592  85.4642486 419.8542   -3.0434325 508.3619\n",
       "47.63542       252.3690  85.0210988 419.7169   -3.5675290 508.3055\n",
       "47.64583       249.2033  81.7026102 416.7040   -6.9668904 505.3735\n",
       "47.65625       247.4171  79.7638397 415.0705   -8.9864601 503.8208\n",
       "47.66667       251.1380  83.3321845 418.9438   -5.4988408 507.7748\n",
       "47.67708       267.5758  99.6176705 435.5340   10.7059929 524.4457\n",
       "47.68750       302.6093 134.4988779 470.7196   45.5066210 559.7119\n",
       "47.69792       301.7404 133.4779725 470.0029   44.4052093 559.0756\n",
       "47.70833       299.5264 131.1120176 467.9408   41.9588208 557.0940\n",
       "47.71875       296.6659 128.0996626 465.2321   38.8661045 554.4656\n",
       "47.72917       295.1294 126.4115215 463.8473   37.0976746 553.1611\n",
       "47.73958       296.4385 127.5691109 465.3079   38.1750473 554.7020\n",
       "47.75000       301.0364 132.0156082 470.0572   42.5413999 559.5314\n",
       "47.76042       296.3905 127.2183999 465.5625   37.6641184 555.1168\n",
       "47.77083       297.6112 128.2880278 466.9344   38.6537448 556.5687\n",
       "47.78125       295.1847 125.7105386 464.6589   35.9963253 554.3731\n",
       "47.79167       294.3489 124.7238776 463.9740   34.9298053 553.7680\n",
       "47.80208       294.2133 124.4375162 463.9890   34.5636558 553.8629\n",
       "47.81250       292.4671 122.5406976 462.3934   32.5871199 552.3470\n",
       "47.82292       289.7990 119.7221859 459.8758   29.6889614 549.9090\n",
       "47.83333       289.6771 119.4499772 459.9042   29.3371764 550.0170\n",
       "47.84375       287.8401 117.4627454 458.2174   27.2704384 548.4097\n",
       "47.85417       285.5973 115.0698803 456.1246   24.7981372 546.3964\n",
       "47.86458       283.6287 112.9513521 454.3060   22.6002427 544.6571\n",
       "47.87500       273.7834 102.9563104 444.6105   12.5259044 535.0409\n",
       "47.88542       271.8491 100.8722887 442.8258   10.3626555 533.3355\n",
       "47.89583       267.4744  96.3481493 438.6007    5.7593583 529.1895\n",
       "47.90625       268.3647  97.0889706 439.6404    6.4210909 530.3083\n",
       "47.91667       189.6132  18.1882068 361.0382  -72.5586927 451.7851\n",
       "47.92708       190.4668  18.8926902 362.0409  -71.9331604 452.8668\n",
       "47.93750       155.8388 -15.8843776 327.5619 -106.7891107 418.4666\n",
       "47.94792       153.8713 -18.0007278 325.7433 -108.9842750 416.7268\n",
       "47.95833       153.2922 -18.7285722 325.3130 -109.7908653 416.3753\n",
       "47.96875       148.7884 -23.3809660 320.9578 -114.5219370 412.0988\n",
       "47.97917       154.2110 -18.1068989 326.5289 -109.3264799 417.7485\n",
       "47.98958       158.3983 -14.0679387 330.8646 -105.3660620 422.1627\n",
       "48.00000       156.5357 -16.0788170 329.1502 -107.4554151 420.5268\n",
       "48.01042       146.6980 -26.0646608 319.4606 -117.5196663 410.9156\n",
       "48.02083       151.0575 -21.8531549 323.9681 -113.3865008 415.5014\n",
       "48.03125       152.7501 -20.3083806 325.8086 -111.9199998 417.4202\n",
       "48.04167       150.6970 -22.5092346 323.9032 -114.1990603 415.5930\n",
       "48.05208       152.8092 -20.5445967 326.1630 -112.3125622 417.9310\n",
       "48.06250       150.4142 -23.0870603 323.9155 -114.9330992 415.7616\n",
       "48.07292       150.1224 -23.5262345 323.7711 -115.4502805 415.6951\n",
       "48.08333       146.9278 -26.8680999 320.7237 -118.8700868 412.7257\n",
       "48.09375       146.2458 -27.6972030 320.1888 -119.7770648 412.2687\n",
       "48.10417       150.6395 -23.4505103 324.7295 -115.6081812 416.8871\n",
       "48.11458       151.0245 -23.2123491 325.2613 -115.4477635 417.4968\n",
       "48.12500       149.7695 -24.6140794 324.1531 -116.9271718 416.4662\n",
       "48.13542       150.8900 -23.6402374 325.4202 -116.0309425 417.8109\n",
       "48.14583       151.5662 -23.1104588 326.2429 -115.5787116 418.7112\n",
       "48.15625       152.5122 -22.3108696 327.3352 -114.8566049 419.8810\n",
       "48.16667       152.4457 -22.5235580 327.4150 -115.1467111 420.0382\n",
       "48.17708       153.2098 -21.9056195 328.3252 -114.6061257 421.0257\n",
       "48.18750       156.6007 -18.6606794 331.8622 -111.4384743 424.6400\n",
       "48.19792       157.2944 -18.1128690 332.7017 -110.9678882 425.5568\n",
       "48.20833       160.2618 -15.2912661 335.8149 -108.2234454 428.7470\n",
       "48.21875       169.3956  -6.3030688 345.0943  -99.3123442 438.1036\n",
       "48.22917       170.2724  -5.5718425 346.1166  -98.6581501 439.2029\n",
       "48.23958       172.8297  -3.1598789 348.8194  -96.3231551 441.9826\n",
       "48.25000       173.1499  -2.9850343 349.2848  -96.2252155 442.5249\n",
       "48.26042       165.6741 -10.6059034 341.9542 -103.9229263 435.2712\n",
       "48.27083       166.1637 -10.2614213 342.5888 -103.6552227 435.9826\n",
       "48.28125       168.8659  -7.7041131 345.4359 -101.1746297 438.9064\n",
       "48.29167       251.9100  75.1951864 428.6248  -18.3519827 522.1720\n",
       "48.30208       250.7598  73.9002917 427.6193  -19.7234671 521.2430\n",
       "48.31250       246.9411  69.9369977 423.9451  -23.7632882 517.6454\n",
       "48.32292       247.0852  69.9367050 424.2337  -23.8400455 518.0105\n",
       "48.33333       249.9445  72.6516430 427.2373  -21.2015098 521.0904\n",
       "48.34375       246.4682  69.0311820 423.9053  -24.8983110 517.8347\n",
       "48.35417       248.6275  71.0463345 426.2086  -22.9594367 520.2144\n",
       "48.36458       251.1053  73.3802014 428.8304  -20.7017862 522.9124\n",
       "48.37500       246.9434  69.0743885 424.8123  -25.0837537 518.9705\n",
       "48.38542       248.5693  70.5566333 426.5820  -23.6776021 520.8163\n",
       "48.39583       253.3568  75.2004516 431.5131  -19.1098155 525.8234\n",
       "48.40625       250.6431  72.3432871 428.9430  -22.0429504 523.3292\n",
       "48.41667       251.7301  73.2868820 430.1734  -21.1752649 524.6355\n",
       "48.42708       249.5565  70.9699738 428.1430  -23.5680216 522.6810\n",
       "48.43750       247.7047  68.9750066 426.4344  -25.6387764 521.0482\n",
       "48.44792       250.2216  71.3489034 429.0944  -23.3406066 523.7839\n",
       "48.45833       249.4021  70.3864507 428.4178  -24.3787257 523.1830\n",
       "48.46875       256.2248  77.0663422 435.3833  -17.7744402 530.2241\n",
       "48.47917       258.1405  78.8392802 437.4417  -16.0770481 532.3580\n",
       "48.48958       252.1958  72.7519470 431.6396  -22.2398671 526.6314\n",
       "48.50000       254.6507  75.0643834 434.2370  -20.0028565 529.3042\n",
       "48.51042       255.9354  76.2067058 435.6640  -18.9359002 530.8066\n",
       "48.52083       252.6514  72.7804719 432.5223  -22.4374404 527.7402\n",
       "48.53125       252.5067  72.4936697 432.5198  -22.7994896 527.8130\n",
       "48.54167       254.5798  74.4247263 434.7349  -20.9436204 530.1033\n",
       "48.55208       255.2043  74.9073166 435.5013  -20.5361584 530.9448\n",
       "48.56250       254.9094  74.4705265 435.3482  -21.0480177 530.8667\n",
       "48.57292       252.6359  72.0553709 433.2164  -23.5381835 528.8100\n",
       "48.58333       251.5012  70.7790925 432.2233  -24.8894134 527.8918\n",
       "48.59375       251.8543  70.9907604 432.7179  -24.7526382 528.4613\n",
       "48.60417       251.9979  70.9929898 433.0029  -24.8252430 528.8211\n",
       "48.61458       251.4799  70.3336531 432.6261  -25.5593556 528.5191\n",
       "48.62500       252.6592  71.3718879 433.9466  -24.5958383 529.9143\n",
       "48.63542       252.3690  70.9406151 433.7974  -25.1017705 529.8398\n",
       "48.64583       249.2033  67.6339734 430.7726  -28.4830137 526.8896\n",
       "48.65625       247.4171  65.7070199 429.1273  -30.4845107 525.3188\n",
       "48.66667       251.1380  69.2871520 432.9888  -26.9788645 529.2548\n",
       "48.67708       267.5758  85.5843956 449.5673  -10.7560492 545.9077\n",
       "48.68750       302.6093 120.4773309 484.7412   24.0625154 581.1560\n",
       "48.69792       301.7404 119.4681241 484.0127   22.9789951 580.5019\n",
       "48.70833       299.5264 117.1138386 481.9390   20.5504533 578.5024\n",
       "48.71875       296.6659 114.1131236 479.2186   17.4755391 575.8562\n",
       "48.72917       295.1294 112.4365936 477.8222   15.7248668 574.5339\n",
       "48.73958       296.4385 113.6057652 479.2713   16.8199528 576.0571\n",
       "48.75000       301.0364 118.0638158 484.0090   21.2039747 580.8688\n",
       "48.76042       296.3905 113.2781321 479.5028   16.3443187 576.4366\n",
       "48.77083       297.6112 114.3592562 480.8632   17.3515268 577.8709\n",
       "48.78125       295.1847 111.7932345 478.5762   14.7116455 575.6578\n",
       "48.79167       294.3489 110.8180128 477.8798   13.6626204 575.0352\n",
       "48.80208       294.2133 110.5430625 477.8835   13.3139226 575.1126\n",
       "48.81250       292.4671 108.6576268 476.2765   11.3547954 573.5793\n",
       "48.82292       289.7990 105.8504701 473.7475    8.4740029 571.1240\n",
       "48.83333       289.6771 105.5895886 473.7646    8.1395412 571.2147\n",
       "48.84375       287.8401 103.6136560 472.0665    6.0900840 569.5901\n",
       "48.85417       285.5973 101.2320626 469.9625    3.6350214 567.5595\n",
       "48.86458       283.6287  99.1247786 468.1325    1.4543234 565.8030\n",
       "48.87500       273.7834  89.1409536 458.4259   -8.6028604 556.1697\n",
       "48.88542       271.8491  87.0681214 456.6300  -10.7489965 554.4471\n",
       "48.89583       267.4744  82.5551442 452.3938  -15.3352226 550.2841\n",
       "48.90625       268.3647  83.3071007 453.4222  -14.6564603 551.3858\n",
       "48.91667       189.6132   4.4174451 374.8089  -93.6192554 472.8456\n",
       "48.92708       190.4668   5.1330097 375.8006  -92.9767757 473.9104\n",
       "48.93750       155.8388 -29.6330035 341.3105 -127.8158195 439.4933\n",
       "48.94792       153.8713 -31.7383258 339.4809 -129.9941182 437.7367\n",
       "48.95833       153.2922 -32.4551689 339.0396 -130.7838834 437.3683\n",
       "48.96875       148.7884 -37.0965878 334.6734 -135.4981703 433.0750\n",
       "48.97917       154.2110 -31.8115721 340.2336 -130.2859688 438.7080\n",
       "48.98958       158.3983 -27.7616896 344.5583 -126.3088467 443.1055\n",
       "49.00000       156.5357 -29.7616717 342.8330 -128.3815355 441.4529\n",
       "49.01042       146.6980 -39.7366452 333.1326 -138.4291622 431.8251\n",
       "49.02083       151.0575 -35.5142951 337.6292 -134.2794118 436.3943\n",
       "49.03125       152.7501 -33.9587023 339.4589 -132.7963654 438.2965\n",
       "49.04167       150.6970 -36.1487636 337.5427 -135.0589198 436.4529\n",
       "49.05208       152.8092 -34.1733585 339.7918 -133.1559548 438.7744\n",
       "49.06250       150.4142 -36.7050805 337.5336 -135.7600638 436.5885\n",
       "49.07292       150.1224 -37.1335385 337.3784 -136.2608561 436.5057\n",
       "49.08333       146.9278 -40.4647130 334.3203 -139.6643120 433.5199\n",
       "49.09375       146.2458 -41.2831503 333.7747 -140.5549782 433.0466\n",
       "49.10417       150.6395 -37.0258170 338.3048 -136.3698212 437.6488\n",
       "49.11458       151.0245 -36.7770402 338.8260 -136.1931684 438.2422\n",
       "49.12500       149.7695 -38.1681798 337.7072 -137.6563796 437.1954\n",
       "49.13542       150.8900 -37.1837719 338.9637 -136.7439912 438.5239\n",
       "49.14583       151.5662 -36.6434522 339.7759 -136.2756389 439.4081\n",
       "49.15625       152.5122 -35.8333464 340.8577 -135.5374486 440.5618\n",
       "49.16667       152.4457 -36.0355429 340.9270 -135.8115087 440.7030\n",
       "49.17708       153.2098 -35.4071367 341.8267 -135.2549145 441.6745\n",
       "49.18750       156.6007 -32.1517534 345.3532 -132.0712914 445.2728\n",
       "49.19792       157.2944 -31.5935240 346.1824 -131.5847708 446.1736\n",
       "49.20833       160.2618 -28.7615262 349.2851 -128.8244305 449.3480\n",
       "49.21875       169.3956 -19.7629581 358.5542 -119.8974685 458.6887\n",
       "49.22917       170.2724 -19.0213849 359.5661 -119.2274503 459.7722\n",
       "49.23958       172.8297 -16.5990984 362.2586 -116.8766676 462.5361\n",
       "49.25000       173.1499 -16.4139546 362.7137 -116.7629768 463.0627\n",
       "49.26042       165.6741 -24.0245481 355.3728 -124.4449725 455.7933\n",
       "49.27083       166.1637 -23.6698142 355.9972 -124.1615899 456.4889\n",
       "49.28125       168.8659 -21.1022774 358.8341 -121.6653539 459.3971\n",
       "49.29167       251.9100  61.8072270 442.0128  -38.8270997 542.6471\n",
       "49.30208       250.7598  60.5225140 440.9971  -40.1830125 541.7026\n",
       "49.31250       246.9411  56.5693784 437.3127  -44.2072976 538.0894\n",
       "49.32292       247.0852  56.5792211 437.5912  -44.2685543 538.4390\n",
       "49.33333       249.9445  59.3042713 440.5847  -41.6145533 541.5035\n",
       "49.34375       246.4682  55.6938996 437.2425  -45.2959243 538.2324\n",
       "49.35417       248.6275  57.7191185 439.5358  -43.3416548 540.5966\n",
       "49.36458       251.1053  60.0630290 442.1476  -41.0686439 543.2793\n",
       "49.37500       246.9434  55.7672370 438.1195  -45.4352858 539.3220\n",
       "49.38542       248.5693  57.2594800 439.8792  -44.0138432 541.1525\n",
       "49.39583       253.3568  61.9132740 444.8003  -39.4308000 546.1444\n",
       "49.40625       250.6431  59.0660628 442.2202  -42.3487128 543.6350\n",
       "49.41667       251.7301  60.0195886 443.4407  -41.4658393 544.9261\n",
       "49.42708       249.5565  57.7125889 441.4004  -43.8434421 542.9564\n",
       "49.43750       247.7047  55.7275081 439.6819  -45.8990770 541.3085\n",
       "49.44792       250.2216  58.1112692 442.3320  -43.5858211 544.0291\n",
       "49.45833       249.4021  57.1586588 441.6456  -44.6088878 543.4131\n",
       "49.46875       256.2248  63.8483705 448.6013  -37.9895835 550.4393\n",
       "49.47917       258.1405  65.6311069 450.6499  -36.2772061 552.5582\n",
       "49.48958       252.1958  59.5535503 444.8380  -42.4250730 546.8166\n",
       "49.50000       254.6507  61.8757416 447.4256  -40.1731436 549.4745\n",
       "49.51042       255.9354  63.0277972 448.8429  -39.0913015 550.9620\n",
       "49.52083       252.6514  59.6112750 445.6915  -42.5779891 547.8808\n",
       "49.53125       252.5067  59.3341630 445.6793  -42.9252183 547.9387\n",
       "49.54167       254.5798  61.2748885 447.8848  -41.0545620 550.2142\n",
       "49.55208       255.2043  61.7671263 448.6415  -40.6323454 551.0410\n",
       "49.56250       254.9094  61.3399624 448.4787  -41.1294826 550.9482\n",
       "49.57292       252.6359  58.9344120 446.3374  -43.6049586 548.8767\n",
       "49.58333       251.5012  57.6677175 445.3347  -44.9415310 547.9439\n",
       "49.59375       251.8543  57.8889485 445.8197  -44.7901304 548.4988\n",
       "49.60417       251.9979  57.9007200 446.0952  -44.8481418 548.8440\n",
       "49.61458       251.4799  57.2509045 445.7088  -45.5676929 548.5274\n",
       "49.62500       252.6592  58.2986398 447.0198  -44.5896459 549.9081\n",
       "49.63542       252.3690  57.8768468 446.8612  -45.0810801 549.8191\n",
       "49.64583       249.2033  54.5796642 443.8269  -48.4478567 546.8544\n",
       "49.65625       247.4171  52.6621493 442.1721  -50.4349187 545.2692\n",
       "49.66667       251.1380  56.2516995 446.0243  -46.9148687 549.1908\n",
       "49.67708       267.5758  72.5583408 462.5933  -30.6776808 565.8293\n",
       "49.68750       302.6093 107.4606535 497.7579    4.1552253 601.0633\n",
       "49.69792       301.7404 106.4608039 497.0201    3.0860155 600.3948\n",
       "49.70833       299.5264 104.1158553 494.9370    0.6717533 598.3811\n",
       "49.71875       296.6659 101.1244571 492.2073   -2.3889120 595.7206\n",
       "49.72917       295.1294  99.4572239 490.8016   -4.1253661 594.3842\n",
       "49.73958       296.4385 100.6356723 492.2414   -3.0160924 595.8931\n",
       "49.75000       301.0364 105.1029800 496.9698    1.3820867 600.6907\n",
       "49.76042       296.3905 100.3265334 492.4544   -3.4634423 596.2444\n",
       "49.77083       297.6112 101.4168748 493.8056   -2.4421374 597.6646\n",
       "49.78125       295.1847  98.8600508 491.5094   -5.0679521 595.4374\n",
       "49.79167       294.3489  97.8940072 490.8038   -6.1029406 594.8008\n",
       "49.80208       294.2133  97.6282154 490.7983   -6.4376316 594.8642\n",
       "49.81250       292.4671  95.7519188 489.1822   -8.3827818 593.3169\n",
       "49.82292       289.7990  92.9538817 486.6441  -11.2496270 590.8476\n",
       "49.83333       289.6771  92.7021005 486.6521  -11.5701710 590.9244\n",
       "49.84375       287.8401  90.7352490 484.9449  -13.6057398 589.2859\n",
       "49.85417       285.5973  88.3627175 482.8318  -16.0469436 587.2415\n",
       "49.86458       283.6287  86.2644761 480.9928  -18.2138120 585.4711\n",
       "49.87500       273.7834  76.2896748 471.2772  -28.2571953 575.8240\n",
       "49.88542       271.8491  74.2258472 469.4723  -30.3895599 574.0877\n",
       "49.89583       267.4744  69.7218558 465.2270  -34.9620435 569.9109\n",
       "49.90625       268.3647  70.4827792 466.2466  -34.2695675 570.9989\n",
       "49.91667       189.6132  -8.3979284 387.6243 -113.2186778 492.4450\n",
       "49.92708       190.4668  -7.6734344 388.6070 -112.5625418 493.4962\n",
       "49.93750       155.8388 -42.4305369 354.1080 -147.3879579 459.0655\n",
       "49.94792       153.8713 -44.5269672 352.2695 -149.5526573 457.2952\n",
       "49.95833       153.2922 -45.2349367 351.8193 -150.3288516 456.9132\n",
       "49.96875       148.7884 -49.8675005 347.4444 -155.0295960 452.6064\n",
       "49.97917       154.2110 -44.5736482 352.9956 -149.8038800 458.2259\n",
       "49.98958       158.3983 -40.5149474 357.3116 -145.8132714 462.6099\n",
       "50.00000       156.5357 -42.5061295 355.5775 -147.8725018 460.9439\n",
       "50.01042       146.6980 -52.4723212 345.8682 -157.9066978 451.3026\n",
       "50.02083       151.0575 -48.2412074 350.3561 -153.7435445 455.8584\n",
       "50.03125       152.7501 -46.6768691 352.1770 -152.2471229 457.7473\n",
       "50.04167       150.6970 -48.8582029 350.2521 -154.4963298 455.8903\n",
       "50.05208       152.8092 -46.8740882 352.4925 -152.5800446 458.1985\n",
       "50.06250       150.4142 -49.3971185 350.2256 -155.1708610 455.9993\n",
       "50.07292       150.1224 -49.8169027 350.0617 -155.6583877 455.9032\n",
       "50.08333       146.9278 -53.1394212 346.9950 -159.0486054 452.9042\n",
       "50.09375       146.2458 -53.9492202 346.4408 -159.9260605 452.4177\n",
       "50.10417       150.6395 -49.6832662 350.9622 -155.7277194 457.0067\n",
       "50.11458       151.0245 -49.4258864 351.4749 -155.5379093 457.5869\n",
       "50.12500       149.7695 -50.8084405 350.3474 -156.9879902 456.5270\n",
       "50.13542       150.8900 -49.8154646 351.5954 -156.0624981 457.8424\n",
       "50.14583       151.5662 -49.2665944 352.3991 -155.5810689 458.7135\n",
       "50.15625       152.5122 -48.4479554 353.4723 -154.8298281 459.8542\n",
       "50.16667       152.4457 -48.6416359 353.5331 -155.0908642 459.9824\n",
       "50.17708       153.2098 -48.0047311 354.4243 -154.5212724 460.9409\n",
       "50.18750       156.6007 -44.7408663 357.9424 -151.3246781 464.5262\n",
       "50.19792       157.2944 -44.1741725 358.7630 -150.8252124 465.4141\n",
       "50.20833       160.2618 -41.3337275 361.8573 -148.0519530 468.5756\n",
       "50.21875       169.3956 -32.3267291 371.1180 -139.1120981 477.9034\n",
       "50.22917       170.2724 -31.5767426 372.1215 -138.4292129 478.9740\n",
       "50.23958       172.8297 -29.1460597 374.8055 -136.0655890 481.7251\n",
       "50.25000       173.1499 -28.9525363 375.2523 -135.9390828 482.2388\n",
       "50.26042       165.6741 -36.5547671 367.9031 -143.6082887 474.9566\n",
       "50.27083       166.1637 -36.1916871 368.5190 -143.3121420 475.6395\n",
       "50.28125       168.8659 -33.6158211 371.3476 -140.8031674 478.5350\n",
       "50.29167       251.9100  49.3019961 454.5180  -57.9521999 561.7722\n",
       "50.30208       250.7598  48.0255793 453.4940  -59.2954249 560.8150\n",
       "50.31250       246.9411  44.0807234 449.8014  -63.3070474 557.1891\n",
       "50.32292       247.0852  44.0988292 450.0716  -63.3556666 557.5261\n",
       "50.33333       249.9445  46.8321262 453.0568  -60.6890532 560.5780\n",
       "50.34375       246.4682  43.2299849 449.7065  -64.3578368 557.2943\n",
       "50.35417       248.6275  45.2634180 451.9915  -62.3910048 559.6459\n",
       "50.36458       251.1053  47.6155264 454.5951  -60.1054563 562.3161\n",
       "50.37500       246.9434  43.3279161 450.5588  -64.4595854 558.3463\n",
       "50.38542       248.5693  44.8283247 452.3104  -63.0256546 560.1643\n",
       "50.39583       253.3568  49.4902682 457.2233  -58.4301479 565.1437\n",
       "50.40625       250.6431  46.6511905 454.6351  -61.3356215 562.6219\n",
       "50.41667       251.7301  47.6128337 455.8474  -60.4403334 563.9006\n",
       "50.42708       249.5565  45.3139357 453.7991  -62.8055459 561.9185\n",
       "50.43750       247.7047  43.3369405 452.0725  -64.8488148 560.2582\n",
       "50.44792       250.2216  45.7287715 454.7145  -62.5232170 562.9665\n",
       "50.45833       249.4021  44.7842152 454.0200  -63.5339660 562.3382\n",
       "50.46875       256.2248  51.4819654 460.9677  -56.9023681 569.3521\n",
       "50.47917       258.1405  53.2727245 463.0083  -55.1777209 571.4587\n",
       "50.48958       252.1958  47.2031750 457.1883  -61.3133420 565.7049\n",
       "50.50000       254.6507  49.5333579 459.7680  -59.0491906 568.3505\n",
       "50.51042       255.9354  50.6933896 461.1773  -57.9551502 569.8259\n",
       "50.52083       252.6514  47.2848280 458.0180  -61.4296631 566.7324\n",
       "50.53125       252.5067  47.0156611 457.9978  -61.7647412 566.7782\n",
       "50.54167       254.5798  48.9643164 460.1953  -59.8819573 569.0416\n",
       "50.55208       255.2043  49.4644687 460.9442  -59.4476365 569.8563\n",
       "50.56250       254.9094  49.0452040 460.7735  -59.9326929 569.7514\n",
       "50.57292       252.6359  46.6475376 458.6243  -62.3961113 567.6679\n",
       "50.58333       251.5012  45.3887120 457.6137  -63.7206494 566.7231\n",
       "50.59375       251.8543  45.6177967 458.0909  -63.5572375 567.2659\n",
       "50.60417       251.9979  45.6374069 458.3585  -63.6032607 567.5991\n",
       "50.61458       251.4799  44.9954150 457.9643  -64.3108466 567.2706\n",
       "50.62500       252.6592  46.0509590 459.2675  -63.3208573 568.6393\n",
       "50.63542       252.3690  45.6369597 459.1010  -63.8003720 568.5384\n",
       "50.64583       249.2033  42.3475560 456.0590  -67.1552518 565.5618\n",
       "50.65625       247.4171  40.4378051 454.3965  -69.1304397 563.9647\n",
       "50.66667       251.1380  44.0351046 458.2409  -65.5985383 567.8745\n",
       "50.67708       267.5758  60.3494804 474.8022  -49.3495215 584.5012\n",
       "50.68750       302.6093  95.2595129 509.9590  -14.5048090 619.7233\n",
       "50.69792       301.7404  94.2673685 509.2135  -15.5622347 619.0431\n",
       "50.70833       299.5264  91.9301104 507.1227  -17.9647352 617.0176\n",
       "50.71875       296.6659  88.9463884 504.3853  -21.0136610 614.3454\n",
       "50.72917       295.1294  87.2868167 502.9720  -22.7383978 612.9972\n",
       "50.73958       296.4385  88.4729121 504.4041  -21.6174289 614.4945\n",
       "50.75000       301.0364  92.9478524 509.1250  -17.2075767 619.2804\n",
       "50.76042       296.3905  88.1790241 504.6019  -22.0414546 614.8224\n",
       "50.77083       297.6112  89.2769695 505.9455  -21.0085204 616.2310\n",
       "50.78125       295.1847  86.7277352 503.6417  -23.6227276 613.9922\n",
       "50.79167       294.3489  85.7692670 502.9286  -24.6461305 613.3440\n",
       "50.80208       294.2133  85.5110365 502.9155  -24.9692575 613.3958\n",
       "50.81250       292.4671  83.6422870 501.2918  -26.9028655 611.8370\n",
       "50.82292       289.7990  80.8517829 498.7462  -29.7581900 609.3562\n",
       "50.83333       289.6771  80.6075206 498.7467  -30.0672346 609.4215\n",
       "50.84375       287.8401  78.6481741 497.0320  -32.0913257 607.7715\n",
       "50.85417       285.5973  76.2831335 494.9114  -34.5210730 605.7156\n",
       "50.86458       283.6287  74.1923692 493.0650  -36.6765062 603.9338\n",
       "50.87500       273.7834  64.2250311 483.3418  -46.7084756 594.2753\n",
       "50.88542       271.8491  62.1686528 481.5295  -48.8294475 592.5276\n",
       "50.89583       267.4744  57.6720969 477.2768  -53.3905594 588.3395\n",
       "50.90625       268.3647  58.4404421 478.2889  -52.6867328 589.4161\n",
       "50.91667       189.6132 -20.4328574 399.6592 -131.6245134 510.8509\n",
       "50.92708       190.4668 -19.7009691 400.6346 -130.9570688 511.8907\n",
       "50.93750       155.8388 -54.4506909 366.1282 -165.7711970 477.4487\n",
       "50.94792       153.8713 -56.5397540 364.2823 -167.9246293 475.6672\n",
       "50.95833       153.2922 -57.2403699 363.8248 -168.6895772 475.2740\n",
       "50.96875       148.7884 -61.8655936 359.4424 -173.3790958 470.9559\n",
       "50.97917       154.2110 -56.5644146 364.9864 -168.1421747 476.5642\n",
       "50.98958       158.3983 -52.4984005 369.2950 -164.1403814 480.9370\n",
       "51.00000       156.5357 -54.4822828 367.5537 -166.1884476 479.2598\n",
       "51.01042       146.6980 -64.4411880 357.8371 -176.2114999 469.6074\n",
       "51.02083       151.0575 -60.2028010 362.3177 -172.0372232 474.1521\n",
       "51.03125       152.7501 -58.6312027 364.1314 -170.5296985 476.0299\n",
       "51.04167       150.6970 -60.8052897 362.1992 -172.7678224 474.1618\n",
       "51.05208       152.8092 -58.8139415 364.4324 -170.8404744 476.4589\n",
       "51.06250       150.4142 -61.3297514 362.1582 -173.4202481 474.2487\n",
       "51.07292       150.1224 -61.7423283 361.9872 -173.8967522 474.1416\n",
       "51.08333       146.9278 -65.0576524 358.9132 -177.2759672 471.1315\n",
       "51.09375       146.2458 -65.8602702 358.3519 -178.1424395 470.6340\n",
       "51.10417       150.6395 -61.5871480 362.8661 -173.9331354 475.2121\n",
       "51.11458       151.0245 -61.3226128 363.3716 -173.7323823 475.7814\n",
       "51.12500       149.7695 -62.6980245 362.2370 -175.1715397 474.7105\n",
       "51.13542       150.8900 -61.6979191 363.4778 -174.2351440 476.0151\n",
       "51.14583       151.5662 -61.1419320 364.2744 -173.7428306 476.8753\n",
       "51.15625       152.5122 -60.3161891 365.3406 -172.9807253 478.0051\n",
       "51.16667       152.4457 -60.5027784 365.3943 -173.2309163 478.1224\n",
       "51.17708       153.2098 -59.8587951 366.2784 -172.6504989 479.0701\n",
       "51.18750       156.6007 -56.5878645 369.7894 -169.4430983 482.6446\n",
       "51.19792       157.2944 -56.0141175 370.6030 -168.9328457 483.5217\n",
       "51.20833       160.2618 -53.1666319 373.6902 -166.1488187 486.6724\n",
       "51.21875       169.3956 -44.1526054 382.9439 -157.1982152 495.9895\n",
       "51.22917       170.2724 -43.3956035 383.9404 -156.5046007 497.0494\n",
       "51.23958       172.8297 -40.9579175 386.6174 -154.1302667 499.7897\n",
       "51.25000       173.1499 -40.7574035 387.0571 -153.9930692 500.2928\n",
       "51.26042       165.6741 -48.3526562 379.7010 -161.6516030 492.9999\n",
       "51.27083       166.1637 -47.9826104 380.3099 -161.3448030 493.6721\n",
       "51.28125       168.8659 -45.3997909 383.1316 -158.8251940 496.5570\n",
       "51.29167       251.9100  37.5249675 466.2950  -75.9636109 579.7836\n",
       "51.30208       250.7598  36.2554796 465.2641  -77.2962391 578.8158\n",
       "51.31250       246.9411  32.3175403 461.5646  -81.2972834 575.1794\n",
       "51.32292       247.0852  32.3425506 461.8279  -81.3353431 575.5058\n",
       "51.33333       249.9445  35.0827400 464.8062  -78.6581889 578.5471\n",
       "51.34375       246.4682  31.4874789 461.4490  -82.3164501 575.2529\n",
       "51.35417       248.6275  33.5277800 463.7271  -80.3391143 577.5940\n",
       "51.36458       251.1053  35.8867445 466.3239  -78.0430803 580.2537\n",
       "51.37500       246.9434  31.6059782 462.2807  -82.3867423 576.2734\n",
       "51.38542       248.5693  33.1132189 464.0255  -80.9423628 578.0810\n",
       "51.39583       253.3568  37.7819826 468.9316  -76.3364255 583.0500\n",
       "51.40625       250.6431  34.9497130 466.3366  -79.2314869 580.5178\n",
       "51.41667       251.7301  35.9181527 467.5421  -78.3258047 581.7861\n",
       "51.42708       249.5565  33.6260391 465.4870  -80.6806412 579.7936\n",
       "51.43750       247.7047  31.6558167 463.7536  -82.7135521 578.1229\n",
       "51.44792       250.2216  34.0544085 466.3889  -80.3776145 580.8209\n",
       "51.45833       249.4021  33.1166014 465.6877  -81.3780414 580.1823\n",
       "51.46875       256.2248  39.8210891 472.6286  -74.7361394 587.1858\n",
       "51.47917       258.1405  41.6185740 474.6624  -73.0012060 589.2822\n",
       "51.48958       252.1958  35.5557387 468.8358  -79.1265587 583.5181\n",
       "51.50000       254.6507  37.8926241 471.4087  -76.8521566 586.1535\n",
       "51.51042       255.9354  39.0593468 472.8114  -75.7478832 587.6186\n",
       "51.52083       252.6514  35.6574647 469.6453  -79.2121807 584.5150\n",
       "51.53125       252.5067  35.3949658 469.6185  -79.5370610 584.5505\n",
       "51.54167       254.5798  37.3502776 471.8094  -77.6440969 586.8037\n",
       "51.55208       255.2043  37.8570749 472.5516  -77.1996134 587.6083\n",
       "51.56250       254.9094  37.4444439 472.3743  -77.6745244 587.4932\n",
       "51.57292       252.6359  35.0533998 470.2184  -80.1278150 585.3996\n",
       "51.58333       251.5012  33.8011851 469.2012  -81.4422425 584.4446\n",
       "51.59375       251.8543  34.0368695 469.6718  -81.2687374 584.9774\n",
       "51.60417       251.9979  34.0630680 469.9328  -81.3046845 585.3006\n",
       "51.61458       251.4799  33.4276532 469.5321  -82.0022116 584.9619\n",
       "51.62500       252.6592  34.4897631 470.8287  -81.0021806 586.3207\n",
       "51.63542       252.3690  34.0823185 470.6557  -81.4716707 586.2097\n",
       "51.64583       249.2033  30.7994584 467.6071  -84.8165430 583.2231\n",
       "51.65625       247.4171  28.8962400 465.9381  -86.7817404 581.6160\n",
       "51.66667       251.1380  32.5000608 469.7759  -83.2398653 585.5158\n",
       "51.67708       267.5758  48.8209470 486.3307  -66.9808918 602.1325\n",
       "51.68750       302.6093  83.7374788 521.4810  -32.1262395 637.3447\n",
       "51.69792       301.7404  82.7518227 520.7290  -33.1737422 636.6546\n",
       "51.70833       299.5264  80.4210420 518.6318  -35.5663365 634.6192\n",
       "51.71875       296.6659  77.4437863 515.8879  -38.6053727 631.9371\n",
       "51.72917       295.1294  75.7906702 514.4681  -40.3202367 630.5790\n",
       "51.73958       296.4385  76.9832103 515.8938  -39.1894115 632.0664\n",
       "51.75000       301.0364  81.4645844 520.6082  -34.7697195 636.8425\n",
       "51.76042       296.3905  76.7021791 516.0787  -39.5937743 632.3747\n",
       "51.77083       297.6112  77.8065367 517.4159  -38.5510335 633.7735\n",
       "51.78125       295.1847  75.2637039 515.1057  -41.1554504 631.5249\n",
       "51.79167       294.3489  74.3116265 514.3862  -42.1690794 630.8669\n",
       "51.80208       294.2133  74.0597761 514.3668  -42.4824490 630.9090\n",
       "51.81250       292.4671  72.1973961 512.7367  -44.4063157 629.3404\n",
       "51.82292       289.7990  69.4132508 510.1847  -47.2519152 626.8499\n",
       "51.83333       289.6771  69.1753367 510.1789  -47.5512512 626.9055\n",
       "51.84375       287.8401  67.2223279 508.4578  -49.5656496 625.2458\n",
       "51.85417       285.5973  64.8636144 506.3309  -51.9857204 623.1802\n",
       "51.86458       283.6287  62.7791667 504.4782  -54.1314933 621.3888\n",
       "51.87500       273.7834  52.8181347 494.7487  -64.1538183 611.7206\n",
       "51.88542       271.8491  50.7680520 492.9301  -66.2651618 609.9633\n",
       "51.89583       267.4744  46.2777814 488.6711  -70.8166612 605.7656\n",
       "51.90625       268.3647  47.0524014 489.6769  -70.1032381 606.8326\n",
       "51.91667       189.6132 -31.8146336 411.0410 -149.0314380 528.2578\n",
       "51.92708       190.4668 -31.0764911 412.0101 -148.3544285 529.2880\n",
       "51.93750       155.8388 -65.8199691 377.4975 -183.1590075 494.8365"
      ]
     },
     "metadata": {},
     "output_type": "display_data"
    }
   ],
   "source": [
    "stlf(power_ts_train, h = 960)"
   ]
  },
  {
   "cell_type": "code",
   "execution_count": 31,
   "metadata": {},
   "outputs": [
    {
     "data": {
      "image/png": "[encoded data removed]",
      "text/plain": [
       "Plot with title \"Forecasts from STL +  ETS(A,N,N)\""
      ]
     },
     "metadata": {},
     "output_type": "display_data"
    }
   ],
   "source": [
    "plot(stlf(power_ts_train, h = 960))"
   ]
  },
  {
   "cell_type": "markdown",
   "metadata": {},
   "source": [
    "#### The stlf() forecasting function have chosen the model of STL with additive error, non-present seasonality, and non-present trend."
   ]
  },
  {
   "cell_type": "markdown",
   "metadata": {},
   "source": [
    "### Holt-Winters models"
   ]
  },
  {
   "cell_type": "code",
   "execution_count": 32,
   "metadata": {},
   "outputs": [
    {
     "data": {
      "text/plain": [
       "Holt-Winters exponential smoothing with trend and additive seasonal component.\n",
       "\n",
       "Call:\n",
       "HoltWinters(x = power_ts_train)\n",
       "\n",
       "Smoothing parameters:\n",
       " alpha: 0.7089052\n",
       " beta : 0\n",
       " gamma: 0.8056369\n",
       "\n",
       "Coefficients:\n",
       "             [,1]\n",
       "a   221.796653834\n",
       "b    -0.003384519\n",
       "s1  -66.966016717\n",
       "s2  -66.314827518\n",
       "s3  -70.895014536\n",
       "s4  -64.682283717\n",
       "s5  -61.141851544\n",
       "s6  -64.582384499\n",
       "s7  -76.474018566\n",
       "s8  -73.011363496\n",
       "s9  -74.302025181\n",
       "s10 -78.046345314\n",
       "s11 -76.953040121\n",
       "s12 -83.131545534\n",
       "s13 -84.906855573\n",
       "s14 -88.167830395\n",
       "s15 -89.674852682\n",
       "s16 -86.653869637\n",
       "s17 -85.965620600\n",
       "s18 -87.194137719\n",
       "s19 -83.959761338\n",
       "s20 -85.940608833\n",
       "s21 -85.294922926\n",
       "s22 -86.249702640\n",
       "s23 -85.022514623\n",
       "s24 -81.798652630\n",
       "s25 -82.015738644\n",
       "s26 -78.218124802\n",
       "s27 -68.493692860\n",
       "s28 -68.724355555\n",
       "s29 -66.758493261\n",
       "s30 -66.705351483\n",
       "s31 -75.028976911\n",
       "s32 -71.277297275\n",
       "s33 -71.164467724\n",
       "s34  11.113858752\n",
       "s35  13.928589002\n",
       "s36   9.703457157\n",
       "s37  12.110911520\n",
       "s38  15.560242469\n",
       "s39  10.311421034\n",
       "s40  11.866336907\n",
       "s41  14.489083191\n",
       "s42  11.976162020\n",
       "s43  15.822971878\n",
       "s44  22.847254829\n",
       "s45  18.385212856\n",
       "s46  21.458085355\n",
       "s47  22.381409527\n",
       "s48  21.817180283\n",
       "s49  25.084879028\n",
       "s50  25.956082534\n",
       "s51  35.627272735\n",
       "s52  35.591845447\n",
       "s53  23.537893262\n",
       "s54  32.953521321\n",
       "s55  30.684488293\n",
       "s56  29.235620205\n",
       "s57  32.716089367\n",
       "s58  37.149984019\n",
       "s59  38.496873406\n",
       "s60  39.936809172\n",
       "s61  36.495057061\n",
       "s62  37.289342854\n",
       "s63  37.229109279\n",
       "s64  36.874642052\n",
       "s65  37.341640169\n",
       "s66  37.660274905\n",
       "s67  35.473971366\n",
       "s68  34.544619345\n",
       "s69  29.679997271\n",
       "s70  33.723510796\n",
       "s71  48.233785009\n",
       "s72  95.434290681\n",
       "s73  92.606560072\n",
       "s74  89.112192260\n",
       "s75  84.056117738\n",
       "s76  79.901167858\n",
       "s77  79.885014999\n",
       "s78  81.333373416\n",
       "s79  75.525683518\n",
       "s80  75.961747994\n",
       "s81  73.995307401\n",
       "s82  72.574936753\n",
       "s83  73.450126140\n",
       "s84  72.680871438\n",
       "s85  72.589594173\n",
       "s86  73.102414946\n",
       "s87  72.876979649\n",
       "s88  73.569426975\n",
       "s89  73.325382516\n",
       "s90  66.361513036\n",
       "s91  59.727226359\n",
       "s92  52.889813326\n",
       "s93  49.616155573\n",
       "s94 -34.959264439\n",
       "s95 -32.656020580\n",
       "s96 -65.667150678"
      ]
     },
     "metadata": {},
     "output_type": "display_data"
    }
   ],
   "source": [
    "HoltWinters(power_ts_train)"
   ]
  },
  {
   "cell_type": "markdown",
   "metadata": {},
   "source": [
    "#### The function without specifying the smoothing parameter automatically selected the exponential smoothing model with trend and additive seasonal component. Error and seasonal component were rather non-smoothed (coefficients alpha and gamma closer to 1), i.e. the model relied somewhat more on recent data regarding error and seasonality. The trend component was completely smoothed (coefficient beta equals 0), i.e. the model relied on all provided data regarding the trend."
   ]
  },
  {
   "cell_type": "markdown",
   "metadata": {},
   "source": [
    "### Neural networks model"
   ]
  },
  {
   "cell_type": "code",
   "execution_count": 33,
   "metadata": {},
   "outputs": [
    {
     "name": "stdout",
     "output_type": "stream",
     "text": [
      "Series: power_ts_train \n",
      "Model:  NNAR(20,1,11)[96] \n",
      "Call:   nnetar(y = power_ts_train, repeats = 30)\n",
      "\n",
      "Average of 30 networks, each of which is\n",
      "a 21-11-1 network with 254 weights\n",
      "options were - linear output units \n",
      "\n",
      "sigma^2 estimated as 47.46\n"
     ]
    }
   ],
   "source": [
    "set.seed(12)\n",
    "power_nn = nnetar(power_ts_train, repeats = 30)\n",
    "print(power_nn)"
   ]
  },
  {
   "cell_type": "markdown",
   "metadata": {},
   "source": [
    "#### The nnetar() function with 30 repetitions has automatically chosen the model with 20 lagged values and one seasonal lag as input, and 11 nodes in hidden layer."
   ]
  },
  {
   "cell_type": "markdown",
   "metadata": {},
   "source": [
    "### Candidate models:\n",
    "##### - seasonal differencing ARMA (1,0,4)(0,1,0)[96],\n",
    "##### - seasonal and trend decomposition decomposition by Loess with additive error, and\n",
    "##### - Holt-Winters exponential smoothing with trend and additive seasonal component\n",
    "##### - Neural networks model with a seasonal lag"
   ]
  },
  {
   "cell_type": "markdown",
   "metadata": {},
   "source": [
    "#### Before choosing the right model based on lowest error terms, we will plot predictions on the training data set for 02/16/2010 for each model on the same graph, to observe how they differ among each other and from the real data for the same date."
   ]
  },
  {
   "cell_type": "code",
   "execution_count": 34,
   "metadata": {},
   "outputs": [],
   "source": [
    "power_sarma = Arima(power_ts_train, order = c(1,0,4), seasonal = list(order = c(0,1,0), period = 96))\n",
    "power_sarma_list = predict(power_sarma, n.ahead = 960)"
   ]
  },
  {
   "cell_type": "code",
   "execution_count": 35,
   "metadata": {},
   "outputs": [],
   "source": [
    "power_sarma_f = forecast(power_sarma, h = 960)"
   ]
  },
  {
   "cell_type": "code",
   "execution_count": 36,
   "metadata": {},
   "outputs": [],
   "source": [
    "power_stlf = stlf(power_ts_train, h = 960)"
   ]
  },
  {
   "cell_type": "code",
   "execution_count": 37,
   "metadata": {},
   "outputs": [],
   "source": [
    "power_hw = HoltWinters(power_ts_train)\n",
    "power_hw_fp = predict(power_hw, n.ahead = 960)\n",
    "power_hw_f = forecast(power_hw, h = 960)"
   ]
  },
  {
   "cell_type": "code",
   "execution_count": 38,
   "metadata": {},
   "outputs": [],
   "source": [
    "power_nn_f = forecast(power_nn, h = 960)"
   ]
  },
  {
   "cell_type": "code",
   "execution_count": 40,
   "metadata": {
    "scrolled": false
   },
   "outputs": [
    {
     "data": {
      "image/png": "[encoded data removed]",
      "text/plain": [
       "Plot with title \"Plotting different predictions on the training dataset\""
      ]
     },
     "metadata": {},
     "output_type": "display_data"
    }
   ],
   "source": [
    "plot(power_stlf$mean, col = 'dodgerblue1', main = 'Plotting different predictions on the training dataset', xaxt = 'n', ylab = 'Power consumption', xlab = 'Time', ylim = c(100,350))\n",
    "lines(power_ts_test)\n",
    "lines(power_hw_fp, col = 'green2')\n",
    "lines(power_sarma_list$pred, col = 'deeppink')\n",
    "lines(power_nn_f$mean, col = 'orange')\n",
    "legend('topleft', lty=1, col=c('black','green2', 'deeppink', 'dodgerblue1', 'orange'), legend=c('Test data set','Holt-Winters', 'Seasonal ARMA', 'S-T woth Loess', 'Neural networks'))"
   ]
  },
  {
   "cell_type": "markdown",
   "metadata": {},
   "source": [
    "#### We can observe that the three models do not give very different predictions, and probably the closests ones to the test data are seasonal and trend decomposition with Loess, and the neural networks model."
   ]
  },
  {
   "cell_type": "markdown",
   "metadata": {},
   "source": [
    "### Choosing the model"
   ]
  },
  {
   "cell_type": "markdown",
   "metadata": {},
   "source": [
    "#### The best model will be chosen based on lowest error terms."
   ]
  },
  {
   "cell_type": "code",
   "execution_count": 41,
   "metadata": {},
   "outputs": [
    {
     "data": {
      "text/html": [
       "<table>\n",
       "<thead><tr><th></th><th scope=col>ME</th><th scope=col>RMSE</th><th scope=col>MAE</th><th scope=col>MPE</th><th scope=col>MAPE</th><th scope=col>MASE</th><th scope=col>ACF1</th><th scope=col>Theil's U</th></tr></thead>\n",
       "<tbody>\n",
       "\t<tr><th scope=row>Training set</th><td>-0.08360839 </td><td> 9.390565   </td><td>5.808776    </td><td>-0.1195474  </td><td>2.668101    </td><td>0.7280167   </td><td>-0.005148572</td><td>      NA    </td></tr>\n",
       "\t<tr><th scope=row>Test set</th><td> 2.03614927 </td><td>16.133818   </td><td>9.642507    </td><td> 0.7965414  </td><td>4.461296    </td><td>1.2085001   </td><td> 0.643970565</td><td>1.051176    </td></tr>\n",
       "</tbody>\n",
       "</table>\n"
      ],
      "text/latex": [
       "\\begin{tabular}{r|llllllll}\n",
       "  & ME & RMSE & MAE & MPE & MAPE & MASE & ACF1 & Theil's U\\\\\n",
       "\\hline\n",
       "\tTraining set & -0.08360839  &  9.390565    & 5.808776     & -0.1195474   & 2.668101     & 0.7280167    & -0.005148572 &       NA    \\\\\n",
       "\tTest set &  2.03614927  & 16.133818    & 9.642507     &  0.7965414   & 4.461296     & 1.2085001    &  0.643970565 & 1.051176    \\\\\n",
       "\\end{tabular}\n"
      ],
      "text/markdown": [
       "\n",
       "| <!--/--> | ME | RMSE | MAE | MPE | MAPE | MASE | ACF1 | Theil's U |\n",
       "|---|---|---|---|---|---|---|---|---|\n",
       "| Training set | -0.08360839  |  9.390565    | 5.808776     | -0.1195474   | 2.668101     | 0.7280167    | -0.005148572 |       NA     |\n",
       "| Test set |  2.03614927  | 16.133818    | 9.642507     |  0.7965414   | 4.461296     | 1.2085001    |  0.643970565 | 1.051176     |\n",
       "\n"
      ],
      "text/plain": [
       "             ME          RMSE      MAE      MPE        MAPE     MASE     \n",
       "Training set -0.08360839  9.390565 5.808776 -0.1195474 2.668101 0.7280167\n",
       "Test set      2.03614927 16.133818 9.642507  0.7965414 4.461296 1.2085001\n",
       "             ACF1         Theil's U\n",
       "Training set -0.005148572       NA \n",
       "Test set      0.643970565 1.051176 "
      ]
     },
     "metadata": {},
     "output_type": "display_data"
    }
   ],
   "source": [
    "accuracy(power_sarma_f, power_ts_test)"
   ]
  },
  {
   "cell_type": "code",
   "execution_count": 42,
   "metadata": {},
   "outputs": [
    {
     "data": {
      "text/html": [
       "<table>\n",
       "<thead><tr><th></th><th scope=col>ME</th><th scope=col>RMSE</th><th scope=col>MAE</th><th scope=col>MPE</th><th scope=col>MAPE</th><th scope=col>MASE</th><th scope=col>ACF1</th><th scope=col>Theil's U</th></tr></thead>\n",
       "<tbody>\n",
       "\t<tr><th scope=row>Training set</th><td>-0.004893643</td><td> 6.72664    </td><td>4.054505    </td><td>-0.05175693 </td><td>1.885304    </td><td>0.5081531   </td><td>0.002365153 </td><td>      NA    </td></tr>\n",
       "\t<tr><th scope=row>Test set</th><td> 3.559910520</td><td>15.01703    </td><td>8.522011    </td><td> 1.16926382 </td><td>3.795614    </td><td>1.0680678   </td><td>0.665354878 </td><td>0.944347    </td></tr>\n",
       "</tbody>\n",
       "</table>\n"
      ],
      "text/latex": [
       "\\begin{tabular}{r|llllllll}\n",
       "  & ME & RMSE & MAE & MPE & MAPE & MASE & ACF1 & Theil's U\\\\\n",
       "\\hline\n",
       "\tTraining set & -0.004893643 &  6.72664     & 4.054505     & -0.05175693  & 1.885304     & 0.5081531    & 0.002365153  &       NA    \\\\\n",
       "\tTest set &  3.559910520 & 15.01703     & 8.522011     &  1.16926382  & 3.795614     & 1.0680678    & 0.665354878  & 0.944347    \\\\\n",
       "\\end{tabular}\n"
      ],
      "text/markdown": [
       "\n",
       "| <!--/--> | ME | RMSE | MAE | MPE | MAPE | MASE | ACF1 | Theil's U |\n",
       "|---|---|---|---|---|---|---|---|---|\n",
       "| Training set | -0.004893643 |  6.72664     | 4.054505     | -0.05175693  | 1.885304     | 0.5081531    | 0.002365153  |       NA     |\n",
       "| Test set |  3.559910520 | 15.01703     | 8.522011     |  1.16926382  | 3.795614     | 1.0680678    | 0.665354878  | 0.944347     |\n",
       "\n"
      ],
      "text/plain": [
       "             ME           RMSE     MAE      MPE         MAPE     MASE     \n",
       "Training set -0.004893643  6.72664 4.054505 -0.05175693 1.885304 0.5081531\n",
       "Test set      3.559910520 15.01703 8.522011  1.16926382 3.795614 1.0680678\n",
       "             ACF1        Theil's U\n",
       "Training set 0.002365153       NA \n",
       "Test set     0.665354878 0.944347 "
      ]
     },
     "metadata": {},
     "output_type": "display_data"
    }
   ],
   "source": [
    "accuracy(power_stlf, power_ts_test)"
   ]
  },
  {
   "cell_type": "code",
   "execution_count": 43,
   "metadata": {},
   "outputs": [
    {
     "data": {
      "text/html": [
       "<table>\n",
       "<thead><tr><th></th><th scope=col>ME</th><th scope=col>RMSE</th><th scope=col>MAE</th><th scope=col>MPE</th><th scope=col>MAPE</th><th scope=col>MASE</th><th scope=col>ACF1</th><th scope=col>Theil's U</th></tr></thead>\n",
       "<tbody>\n",
       "\t<tr><th scope=row>Training set</th><td>-0.003871904</td><td> 8.466331   </td><td> 5.314248   </td><td>0.02464648  </td><td>2.437608    </td><td>0.6660373   </td><td>0.1124541   </td><td>      NA    </td></tr>\n",
       "\t<tr><th scope=row>Test set</th><td> 8.739645222</td><td>19.078719   </td><td>13.651142   </td><td>4.27854455  </td><td>6.624582    </td><td>1.7109043   </td><td>0.7346250   </td><td>1.309516    </td></tr>\n",
       "</tbody>\n",
       "</table>\n"
      ],
      "text/latex": [
       "\\begin{tabular}{r|llllllll}\n",
       "  & ME & RMSE & MAE & MPE & MAPE & MASE & ACF1 & Theil's U\\\\\n",
       "\\hline\n",
       "\tTraining set & -0.003871904 &  8.466331    &  5.314248    & 0.02464648   & 2.437608     & 0.6660373    & 0.1124541    &       NA    \\\\\n",
       "\tTest set &  8.739645222 & 19.078719    & 13.651142    & 4.27854455   & 6.624582     & 1.7109043    & 0.7346250    & 1.309516    \\\\\n",
       "\\end{tabular}\n"
      ],
      "text/markdown": [
       "\n",
       "| <!--/--> | ME | RMSE | MAE | MPE | MAPE | MASE | ACF1 | Theil's U |\n",
       "|---|---|---|---|---|---|---|---|---|\n",
       "| Training set | -0.003871904 |  8.466331    |  5.314248    | 0.02464648   | 2.437608     | 0.6660373    | 0.1124541    |       NA     |\n",
       "| Test set |  8.739645222 | 19.078719    | 13.651142    | 4.27854455   | 6.624582     | 1.7109043    | 0.7346250    | 1.309516     |\n",
       "\n"
      ],
      "text/plain": [
       "             ME           RMSE      MAE       MPE        MAPE     MASE     \n",
       "Training set -0.003871904  8.466331  5.314248 0.02464648 2.437608 0.6660373\n",
       "Test set      8.739645222 19.078719 13.651142 4.27854455 6.624582 1.7109043\n",
       "             ACF1      Theil's U\n",
       "Training set 0.1124541       NA \n",
       "Test set     0.7346250 1.309516 "
      ]
     },
     "metadata": {},
     "output_type": "display_data"
    }
   ],
   "source": [
    "accuracy(power_hw_f, power_ts_test)"
   ]
  },
  {
   "cell_type": "code",
   "execution_count": 44,
   "metadata": {},
   "outputs": [
    {
     "data": {
      "text/html": [
       "<table>\n",
       "<thead><tr><th></th><th scope=col>ME</th><th scope=col>RMSE</th><th scope=col>MAE</th><th scope=col>MPE</th><th scope=col>MAPE</th><th scope=col>MASE</th><th scope=col>ACF1</th><th scope=col>Theil's U</th></tr></thead>\n",
       "<tbody>\n",
       "\t<tr><th scope=row>Training set</th><td> 0.003001762</td><td> 6.889092   </td><td> 4.345297   </td><td>-0.118966   </td><td> 1.978555   </td><td>0.5445981   </td><td>0.1323332   </td><td>      NA    </td></tr>\n",
       "\t<tr><th scope=row>Test set</th><td>16.107246970</td><td>71.831641   </td><td>52.900984   </td><td> 1.377827   </td><td>24.150656   </td><td>6.6301060   </td><td>0.9643151   </td><td>4.446267    </td></tr>\n",
       "</tbody>\n",
       "</table>\n"
      ],
      "text/latex": [
       "\\begin{tabular}{r|llllllll}\n",
       "  & ME & RMSE & MAE & MPE & MAPE & MASE & ACF1 & Theil's U\\\\\n",
       "\\hline\n",
       "\tTraining set &  0.003001762 &  6.889092    &  4.345297    & -0.118966    &  1.978555    & 0.5445981    & 0.1323332    &       NA    \\\\\n",
       "\tTest set & 16.107246970 & 71.831641    & 52.900984    &  1.377827    & 24.150656    & 6.6301060    & 0.9643151    & 4.446267    \\\\\n",
       "\\end{tabular}\n"
      ],
      "text/markdown": [
       "\n",
       "| <!--/--> | ME | RMSE | MAE | MPE | MAPE | MASE | ACF1 | Theil's U |\n",
       "|---|---|---|---|---|---|---|---|---|\n",
       "| Training set |  0.003001762 |  6.889092    |  4.345297    | -0.118966    |  1.978555    | 0.5445981    | 0.1323332    |       NA     |\n",
       "| Test set | 16.107246970 | 71.831641    | 52.900984    |  1.377827    | 24.150656    | 6.6301060    | 0.9643151    | 4.446267     |\n",
       "\n"
      ],
      "text/plain": [
       "             ME           RMSE      MAE       MPE       MAPE      MASE     \n",
       "Training set  0.003001762  6.889092  4.345297 -0.118966  1.978555 0.5445981\n",
       "Test set     16.107246970 71.831641 52.900984  1.377827 24.150656 6.6301060\n",
       "             ACF1      Theil's U\n",
       "Training set 0.1323332       NA \n",
       "Test set     0.9643151 4.446267 "
      ]
     },
     "metadata": {},
     "output_type": "display_data"
    }
   ],
   "source": [
    "accuracy(power_nn_f, power_ts_test)"
   ]
  },
  {
   "cell_type": "markdown",
   "metadata": {},
   "source": [
    "#### We can see from the above that the lowest values on RMSE (root mean squared error), MAE (mean absolute error), MAPE (mean absolute percentage error) and MASE (mean absolute scaled error) are for seasonal and trend decomposition using Loess."
   ]
  },
  {
   "cell_type": "markdown",
   "metadata": {},
   "source": [
    "### Testing residuals of the seasonal and trend decomposition using Loess and improving the model"
   ]
  },
  {
   "cell_type": "code",
   "execution_count": 45,
   "metadata": {},
   "outputs": [
    {
     "name": "stderr",
     "output_type": "stream",
     "text": [
      "Warning message in checkresiduals(power_stlf):\n",
      "\"The fitted degrees of freedom is based on the model used for the seasonally adjusted data.\""
     ]
    },
    {
     "name": "stdout",
     "output_type": "stream",
     "text": [
      "\n",
      "\tLjung-Box test\n",
      "\n",
      "data:  Residuals from STL +  ETS(A,N,N)\n",
      "Q* = 797.95, df = 190, p-value < 2.2e-16\n",
      "\n",
      "Model df: 2.   Total lags used: 192\n",
      "\n"
     ]
    },
    {
     "data": {
      "image/png": "[encoded data removed]",
      "text/plain": [
       "plot without title"
      ]
     },
     "metadata": {},
     "output_type": "display_data"
    }
   ],
   "source": [
    "checkresiduals(power_stlf)"
   ]
  },
  {
   "cell_type": "markdown",
   "metadata": {},
   "source": [
    "#### Residuals for the model are out of the significance limits, which means that they contain more information than just a white noise. On the ACF plot we can observe around 30 significant autocorrelations of the residuals, and the negative ones follow the seasonality of the time series (96). The Ljung-Box test shows that the residuals have some remaining autocorrelations (p < .05). \n",
    "#### Due to this, we will try to improve this function, adding parameter s.window."
   ]
  },
  {
   "cell_type": "code",
   "execution_count": 46,
   "metadata": {},
   "outputs": [
    {
     "name": "stderr",
     "output_type": "stream",
     "text": [
      "Warning message in checkresiduals(power_stlf_periodic):\n",
      "\"The fitted degrees of freedom is based on the model used for the seasonally adjusted data.\""
     ]
    },
    {
     "name": "stdout",
     "output_type": "stream",
     "text": [
      "\n",
      "\tLjung-Box test\n",
      "\n",
      "data:  Residuals from STL +  ETS(A,N,N)\n",
      "Q* = 514.95, df = 190, p-value < 2.2e-16\n",
      "\n",
      "Model df: 2.   Total lags used: 192\n",
      "\n"
     ]
    },
    {
     "data": {
      "image/png": "[encoded data removed]",
      "text/plain": [
       "plot without title"
      ]
     },
     "metadata": {},
     "output_type": "display_data"
    }
   ],
   "source": [
    "power_stlf_periodic = stlf(power_ts_train, h = 960, s.window = 'periodic')\n",
    "checkresiduals(power_stlf_periodic)"
   ]
  },
  {
   "cell_type": "code",
   "execution_count": 47,
   "metadata": {},
   "outputs": [
    {
     "name": "stderr",
     "output_type": "stream",
     "text": [
      "Warning message in checkresiduals(power_stlf_sw95):\n",
      "\"The fitted degrees of freedom is based on the model used for the seasonally adjusted data.\""
     ]
    },
    {
     "name": "stdout",
     "output_type": "stream",
     "text": [
      "\n",
      "\tLjung-Box test\n",
      "\n",
      "data:  Residuals from STL +  ETS(A,N,N)\n",
      "Q* = 497.1, df = 190, p-value < 2.2e-16\n",
      "\n",
      "Model df: 2.   Total lags used: 192\n",
      "\n"
     ]
    },
    {
     "data": {
      "image/png": "[encoded data removed]",
      "text/plain": [
       "plot without title"
      ]
     },
     "metadata": {},
     "output_type": "display_data"
    }
   ],
   "source": [
    "power_stlf_sw95 = stlf(power_ts_train, h = 960, s.window = 95)\n",
    "checkresiduals(power_stlf_sw95)"
   ]
  },
  {
   "cell_type": "code",
   "execution_count": 48,
   "metadata": {},
   "outputs": [
    {
     "name": "stderr",
     "output_type": "stream",
     "text": [
      "Warning message in checkresiduals(power_stlf_sw61):\n",
      "\"The fitted degrees of freedom is based on the model used for the seasonally adjusted data.\""
     ]
    },
    {
     "name": "stdout",
     "output_type": "stream",
     "text": [
      "\n",
      "\tLjung-Box test\n",
      "\n",
      "data:  Residuals from STL +  ETS(A,N,N)\n",
      "Q* = 483.68, df = 190, p-value < 2.2e-16\n",
      "\n",
      "Model df: 2.   Total lags used: 192\n",
      "\n"
     ]
    },
    {
     "data": {
      "image/png": "[encoded data removed]",
      "text/plain": [
       "plot without title"
      ]
     },
     "metadata": {},
     "output_type": "display_data"
    }
   ],
   "source": [
    "power_stlf_sw61 = stlf(power_ts_train, h = 960, s.window = 61)\n",
    "checkresiduals(power_stlf_sw61)"
   ]
  },
  {
   "cell_type": "markdown",
   "metadata": {},
   "source": [
    "#### According to the residuals testing, the lowest autocorrelation rates are for the model with s.window span of 61. All three variations of s.window parameter removed periods of autocorrelations."
   ]
  },
  {
   "cell_type": "code",
   "execution_count": 49,
   "metadata": {},
   "outputs": [
    {
     "data": {
      "text/html": [
       "<table>\n",
       "<thead><tr><th></th><th scope=col>ME</th><th scope=col>RMSE</th><th scope=col>MAE</th><th scope=col>MPE</th><th scope=col>MAPE</th><th scope=col>MASE</th><th scope=col>ACF1</th><th scope=col>Theil's U</th></tr></thead>\n",
       "<tbody>\n",
       "\t<tr><th scope=row>Training set</th><td>-0.002657935</td><td> 7.561345   </td><td>4.644567    </td><td>-0.06191195 </td><td>2.123146    </td><td>0.5821058   </td><td>0.01287091  </td><td>       NA   </td></tr>\n",
       "\t<tr><th scope=row>Test set</th><td> 1.223906361</td><td>15.242317   </td><td>9.354086    </td><td> 0.24530914 </td><td>4.135359    </td><td>1.1723521   </td><td>0.67620759  </td><td>0.9436595   </td></tr>\n",
       "</tbody>\n",
       "</table>\n"
      ],
      "text/latex": [
       "\\begin{tabular}{r|llllllll}\n",
       "  & ME & RMSE & MAE & MPE & MAPE & MASE & ACF1 & Theil's U\\\\\n",
       "\\hline\n",
       "\tTraining set & -0.002657935 &  7.561345    & 4.644567     & -0.06191195  & 2.123146     & 0.5821058    & 0.01287091   &        NA   \\\\\n",
       "\tTest set &  1.223906361 & 15.242317    & 9.354086     &  0.24530914  & 4.135359     & 1.1723521    & 0.67620759   & 0.9436595   \\\\\n",
       "\\end{tabular}\n"
      ],
      "text/markdown": [
       "\n",
       "| <!--/--> | ME | RMSE | MAE | MPE | MAPE | MASE | ACF1 | Theil's U |\n",
       "|---|---|---|---|---|---|---|---|---|\n",
       "| Training set | -0.002657935 |  7.561345    | 4.644567     | -0.06191195  | 2.123146     | 0.5821058    | 0.01287091   |        NA    |\n",
       "| Test set |  1.223906361 | 15.242317    | 9.354086     |  0.24530914  | 4.135359     | 1.1723521    | 0.67620759   | 0.9436595    |\n",
       "\n"
      ],
      "text/plain": [
       "             ME           RMSE      MAE      MPE         MAPE     MASE     \n",
       "Training set -0.002657935  7.561345 4.644567 -0.06191195 2.123146 0.5821058\n",
       "Test set      1.223906361 15.242317 9.354086  0.24530914 4.135359 1.1723521\n",
       "             ACF1       Theil's U\n",
       "Training set 0.01287091        NA\n",
       "Test set     0.67620759 0.9436595"
      ]
     },
     "metadata": {},
     "output_type": "display_data"
    }
   ],
   "source": [
    "accuracy(power_stlf_periodic, power_ts_test)"
   ]
  },
  {
   "cell_type": "code",
   "execution_count": 50,
   "metadata": {},
   "outputs": [
    {
     "data": {
      "text/html": [
       "<table>\n",
       "<thead><tr><th></th><th scope=col>ME</th><th scope=col>RMSE</th><th scope=col>MAE</th><th scope=col>MPE</th><th scope=col>MAPE</th><th scope=col>MASE</th><th scope=col>ACF1</th><th scope=col>Theil's U</th></tr></thead>\n",
       "<tbody>\n",
       "\t<tr><th scope=row>Training set</th><td>-0.0028212 </td><td> 7.494749  </td><td>4.604747   </td><td>-0.06194821</td><td>2.107243   </td><td>0.5771152  </td><td>0.01145563 </td><td>       NA  </td></tr>\n",
       "\t<tr><th scope=row>Test set</th><td> 1.4903248 </td><td>15.178593  </td><td>9.238244   </td><td> 0.33816261</td><td>4.082177   </td><td>1.1578336  </td><td>0.67436815 </td><td>0.9397374  </td></tr>\n",
       "</tbody>\n",
       "</table>\n"
      ],
      "text/latex": [
       "\\begin{tabular}{r|llllllll}\n",
       "  & ME & RMSE & MAE & MPE & MAPE & MASE & ACF1 & Theil's U\\\\\n",
       "\\hline\n",
       "\tTraining set & -0.0028212  &  7.494749   & 4.604747    & -0.06194821 & 2.107243    & 0.5771152   & 0.01145563  &        NA  \\\\\n",
       "\tTest set &  1.4903248  & 15.178593   & 9.238244    &  0.33816261 & 4.082177    & 1.1578336   & 0.67436815  & 0.9397374  \\\\\n",
       "\\end{tabular}\n"
      ],
      "text/markdown": [
       "\n",
       "| <!--/--> | ME | RMSE | MAE | MPE | MAPE | MASE | ACF1 | Theil's U |\n",
       "|---|---|---|---|---|---|---|---|---|\n",
       "| Training set | -0.0028212  |  7.494749   | 4.604747    | -0.06194821 | 2.107243    | 0.5771152   | 0.01145563  |        NA   |\n",
       "| Test set |  1.4903248  | 15.178593   | 9.238244    |  0.33816261 | 4.082177    | 1.1578336   | 0.67436815  | 0.9397374   |\n",
       "\n"
      ],
      "text/plain": [
       "             ME         RMSE      MAE      MPE         MAPE     MASE     \n",
       "Training set -0.0028212  7.494749 4.604747 -0.06194821 2.107243 0.5771152\n",
       "Test set      1.4903248 15.178593 9.238244  0.33816261 4.082177 1.1578336\n",
       "             ACF1       Theil's U\n",
       "Training set 0.01145563        NA\n",
       "Test set     0.67436815 0.9397374"
      ]
     },
     "metadata": {},
     "output_type": "display_data"
    }
   ],
   "source": [
    "accuracy(power_stlf_sw95, power_ts_test)"
   ]
  },
  {
   "cell_type": "code",
   "execution_count": 51,
   "metadata": {},
   "outputs": [
    {
     "data": {
      "text/html": [
       "<table>\n",
       "<thead><tr><th></th><th scope=col>ME</th><th scope=col>RMSE</th><th scope=col>MAE</th><th scope=col>MPE</th><th scope=col>MAPE</th><th scope=col>MASE</th><th scope=col>ACF1</th><th scope=col>Theil's U</th></tr></thead>\n",
       "<tbody>\n",
       "\t<tr><th scope=row>Training set</th><td>-0.003138367</td><td> 7.392284   </td><td>4.541376    </td><td>-0.06203065 </td><td>2.082138    </td><td>0.5691729   </td><td>0.01018464  </td><td>      NA    </td></tr>\n",
       "\t<tr><th scope=row>Test set</th><td> 1.860798864</td><td>15.115053   </td><td>9.094592    </td><td> 0.46656176 </td><td>4.014706    </td><td>1.1398297   </td><td>0.67199860  </td><td>0.935399    </td></tr>\n",
       "</tbody>\n",
       "</table>\n"
      ],
      "text/latex": [
       "\\begin{tabular}{r|llllllll}\n",
       "  & ME & RMSE & MAE & MPE & MAPE & MASE & ACF1 & Theil's U\\\\\n",
       "\\hline\n",
       "\tTraining set & -0.003138367 &  7.392284    & 4.541376     & -0.06203065  & 2.082138     & 0.5691729    & 0.01018464   &       NA    \\\\\n",
       "\tTest set &  1.860798864 & 15.115053    & 9.094592     &  0.46656176  & 4.014706     & 1.1398297    & 0.67199860   & 0.935399    \\\\\n",
       "\\end{tabular}\n"
      ],
      "text/markdown": [
       "\n",
       "| <!--/--> | ME | RMSE | MAE | MPE | MAPE | MASE | ACF1 | Theil's U |\n",
       "|---|---|---|---|---|---|---|---|---|\n",
       "| Training set | -0.003138367 |  7.392284    | 4.541376     | -0.06203065  | 2.082138     | 0.5691729    | 0.01018464   |       NA     |\n",
       "| Test set |  1.860798864 | 15.115053    | 9.094592     |  0.46656176  | 4.014706     | 1.1398297    | 0.67199860   | 0.935399     |\n",
       "\n"
      ],
      "text/plain": [
       "             ME           RMSE      MAE      MPE         MAPE     MASE     \n",
       "Training set -0.003138367  7.392284 4.541376 -0.06203065 2.082138 0.5691729\n",
       "Test set      1.860798864 15.115053 9.094592  0.46656176 4.014706 1.1398297\n",
       "             ACF1       Theil's U\n",
       "Training set 0.01018464       NA \n",
       "Test set     0.67199860 0.935399 "
      ]
     },
     "metadata": {},
     "output_type": "display_data"
    }
   ],
   "source": [
    "accuracy(power_stlf_sw61, power_ts_test)"
   ]
  },
  {
   "cell_type": "code",
   "execution_count": 52,
   "metadata": {},
   "outputs": [
    {
     "data": {
      "text/html": [
       "<table>\n",
       "<thead><tr><th></th><th scope=col>ME</th><th scope=col>RMSE</th><th scope=col>MAE</th><th scope=col>MPE</th><th scope=col>MAPE</th><th scope=col>MASE</th><th scope=col>ACF1</th><th scope=col>Theil's U</th></tr></thead>\n",
       "<tbody>\n",
       "\t<tr><th scope=row>Training set</th><td>-0.004893643</td><td> 6.72664    </td><td>4.054505    </td><td>-0.05175693 </td><td>1.885304    </td><td>0.5081531   </td><td>0.002365153 </td><td>      NA    </td></tr>\n",
       "\t<tr><th scope=row>Test set</th><td> 3.559910520</td><td>15.01703    </td><td>8.522011    </td><td> 1.16926382 </td><td>3.795614    </td><td>1.0680678   </td><td>0.665354878 </td><td>0.944347    </td></tr>\n",
       "</tbody>\n",
       "</table>\n"
      ],
      "text/latex": [
       "\\begin{tabular}{r|llllllll}\n",
       "  & ME & RMSE & MAE & MPE & MAPE & MASE & ACF1 & Theil's U\\\\\n",
       "\\hline\n",
       "\tTraining set & -0.004893643 &  6.72664     & 4.054505     & -0.05175693  & 1.885304     & 0.5081531    & 0.002365153  &       NA    \\\\\n",
       "\tTest set &  3.559910520 & 15.01703     & 8.522011     &  1.16926382  & 3.795614     & 1.0680678    & 0.665354878  & 0.944347    \\\\\n",
       "\\end{tabular}\n"
      ],
      "text/markdown": [
       "\n",
       "| <!--/--> | ME | RMSE | MAE | MPE | MAPE | MASE | ACF1 | Theil's U |\n",
       "|---|---|---|---|---|---|---|---|---|\n",
       "| Training set | -0.004893643 |  6.72664     | 4.054505     | -0.05175693  | 1.885304     | 0.5081531    | 0.002365153  |       NA     |\n",
       "| Test set |  3.559910520 | 15.01703     | 8.522011     |  1.16926382  | 3.795614     | 1.0680678    | 0.665354878  | 0.944347     |\n",
       "\n"
      ],
      "text/plain": [
       "             ME           RMSE     MAE      MPE         MAPE     MASE     \n",
       "Training set -0.004893643  6.72664 4.054505 -0.05175693 1.885304 0.5081531\n",
       "Test set      3.559910520 15.01703 8.522011  1.16926382 3.795614 1.0680678\n",
       "             ACF1        Theil's U\n",
       "Training set 0.002365153       NA \n",
       "Test set     0.665354878 0.944347 "
      ]
     },
     "metadata": {},
     "output_type": "display_data"
    }
   ],
   "source": [
    "accuracy(power_stlf, power_ts_test)"
   ]
  },
  {
   "cell_type": "markdown",
   "metadata": {},
   "source": [
    "#### All four models have similar gaps between training and test sets, therefore there was some overfitting of these models.\n",
    "#### The lowest error rates are still for the default model, and they are lower for the model with span of 61 than for the other two manually adjusted models.\n",
    "#### The final decision is to use the seasonal and trend decomposition by Loess model with s.window = 61 for forecasting the power consumption for 02/17/2010."
   ]
  },
  {
   "cell_type": "markdown",
   "metadata": {},
   "source": [
    "## 3.2. FORECASTING THE POWER CONSUMPTION"
   ]
  },
  {
   "cell_type": "code",
   "execution_count": 53,
   "metadata": {
    "scrolled": true
   },
   "outputs": [],
   "source": [
    "power_stlf_forecast = stlf(power_ts_daily, h = 96, s.window = 61)"
   ]
  },
  {
   "cell_type": "code",
   "execution_count": 54,
   "metadata": {},
   "outputs": [
    {
     "data": {
      "image/png": "[encoded data removed]",
      "text/plain": [
       "Plot with title \"Forecasts from STL +  ETS(A,N,N)\""
      ]
     },
     "metadata": {},
     "output_type": "display_data"
    }
   ],
   "source": [
    "plot(power_stlf_forecast)"
   ]
  },
  {
   "cell_type": "markdown",
   "metadata": {},
   "source": [
    "# 4. ADDING EXTERNAL REGRESSOR OUTDOOR TEMPERATURE"
   ]
  },
  {
   "cell_type": "markdown",
   "metadata": {},
   "source": [
    "## 4.1. CHOICE OF MODEL"
   ]
  },
  {
   "cell_type": "markdown",
   "metadata": {},
   "source": [
    "## Parameter estimation"
   ]
  },
  {
   "cell_type": "code",
   "execution_count": 55,
   "metadata": {},
   "outputs": [],
   "source": [
    "split_power <- ts_split(ts.obj = temp_ts_daily, sample.out = 96)\n",
    "temp_ts_till_02_17 <- split_power$train\n",
    "temp_ts_02_17 <- split_power$test\n",
    "\n",
    "split_power <- ts_split(ts.obj = temp_ts_till_02_17, sample.out = 960)\n",
    "temp_ts_train <- split_power$train\n",
    "temp_ts_test <- split_power$test"
   ]
  },
  {
   "cell_type": "markdown",
   "metadata": {},
   "source": [
    "### ARIMAX models"
   ]
  },
  {
   "cell_type": "code",
   "execution_count": 56,
   "metadata": {},
   "outputs": [
    {
     "name": "stdout",
     "output_type": "stream",
     "text": [
      "\n",
      " Fitting models using approximations to speed things up...\n",
      "\n",
      " ARIMA(0,0,0)(0,1,0)[96]                    : 28082.94\n",
      " Regression with ARIMA(0,0,0)(0,1,0)[96] errors : 28082.59\n",
      " ARIMA(0,0,0)(0,1,1)[96]                    : Inf\n",
      " Regression with ARIMA(0,0,0)(0,1,1)[96] errors : Inf\n",
      " ARIMA(0,0,0)(0,1,2)[96]                    : Inf\n",
      " Regression with ARIMA(0,0,0)(0,1,2)[96] errors : Inf\n",
      " ARIMA(0,0,0)(1,1,0)[96]                    : Inf\n",
      " Regression with ARIMA(0,0,0)(1,1,0)[96] errors : Inf\n",
      " ARIMA(0,0,0)(1,1,1)[96]                    : Inf\n",
      " Regression with ARIMA(0,0,0)(1,1,1)[96] errors : Inf\n",
      " ARIMA(0,0,0)(1,1,2)[96]                    : Inf\n",
      " Regression with ARIMA(0,0,0)(1,1,2)[96] errors : Inf\n",
      " ARIMA(0,0,0)(2,1,0)[96]                    : Inf\n",
      " Regression with ARIMA(0,0,0)(2,1,0)[96] errors : Inf\n",
      " ARIMA(0,0,0)(2,1,1)[96]                    : Inf\n",
      " Regression with ARIMA(0,0,0)(2,1,1)[96] errors : Inf\n",
      " ARIMA(0,0,0)(2,1,2)[96]                    : Inf\n",
      " Regression with ARIMA(0,0,0)(2,1,2)[96] errors : Inf\n",
      " ARIMA(0,0,1)(0,1,0)[96]                    : 26186.72\n",
      " Regression with ARIMA(0,0,1)(0,1,0)[96] errors : 26187.19\n",
      " ARIMA(0,0,1)(0,1,1)[96]                    : Inf\n",
      " Regression with ARIMA(0,0,1)(0,1,1)[96] errors : Inf\n",
      " ARIMA(0,0,1)(0,1,2)[96]                    : Inf\n",
      " Regression with ARIMA(0,0,1)(0,1,2)[96] errors : Inf\n",
      " ARIMA(0,0,1)(1,1,0)[96]                    : Inf\n",
      " Regression with ARIMA(0,0,1)(1,1,0)[96] errors : Inf\n",
      " ARIMA(0,0,1)(1,1,1)[96]                    : Inf\n",
      " Regression with ARIMA(0,0,1)(1,1,1)[96] errors : Inf\n",
      " ARIMA(0,0,1)(1,1,2)[96]                    : Inf\n",
      " Regression with ARIMA(0,0,1)(1,1,2)[96] errors : Inf\n",
      " ARIMA(0,0,1)(2,1,0)[96]                    : Inf\n",
      " Regression with ARIMA(0,0,1)(2,1,0)[96] errors : Inf\n",
      " ARIMA(0,0,1)(2,1,1)[96]                    : Inf\n",
      " Regression with ARIMA(0,0,1)(2,1,1)[96] errors : Inf\n",
      " ARIMA(0,0,1)(2,1,2)[96]                    : Inf\n",
      " Regression with ARIMA(0,0,1)(2,1,2)[96] errors : Inf\n",
      " ARIMA(0,0,2)(0,1,0)[96]                    : 25667.95\n",
      " Regression with ARIMA(0,0,2)(0,1,0)[96] errors : 25668.73\n",
      " ARIMA(0,0,2)(0,1,1)[96]                    : Inf\n",
      " Regression with ARIMA(0,0,2)(0,1,1)[96] errors : Inf\n",
      " ARIMA(0,0,2)(0,1,2)[96]                    : Inf\n",
      " Regression with ARIMA(0,0,2)(0,1,2)[96] errors : Inf\n",
      " ARIMA(0,0,2)(1,1,0)[96]                    : Inf\n",
      " Regression with ARIMA(0,0,2)(1,1,0)[96] errors : Inf\n",
      " ARIMA(0,0,2)(1,1,1)[96]                    : Inf\n",
      " Regression with ARIMA(0,0,2)(1,1,1)[96] errors : Inf\n",
      " ARIMA(0,0,2)(1,1,2)[96]                    : Inf\n",
      " Regression with ARIMA(0,0,2)(1,1,2)[96] errors : Inf\n",
      " ARIMA(0,0,2)(2,1,0)[96]                    : Inf\n",
      " Regression with ARIMA(0,0,2)(2,1,0)[96] errors : Inf\n",
      " ARIMA(0,0,2)(2,1,1)[96]                    : Inf\n",
      " Regression with ARIMA(0,0,2)(2,1,1)[96] errors : Inf\n",
      " ARIMA(0,0,3)(0,1,0)[96]                    : 24946.7\n",
      " Regression with ARIMA(0,0,3)(0,1,0)[96] errors : 24947.88\n",
      " ARIMA(0,0,3)(0,1,1)[96]                    : Inf\n",
      " Regression with ARIMA(0,0,3)(0,1,1)[96] errors : Inf\n",
      " ARIMA(0,0,3)(0,1,2)[96]                    : Inf\n",
      " Regression with ARIMA(0,0,3)(0,1,2)[96] errors : Inf\n",
      " ARIMA(0,0,3)(1,1,0)[96]                    : Inf\n",
      " Regression with ARIMA(0,0,3)(1,1,0)[96] errors : Inf\n",
      " ARIMA(0,0,3)(1,1,1)[96]                    : Inf\n",
      " Regression with ARIMA(0,0,3)(1,1,1)[96] errors : Inf\n",
      " ARIMA(0,0,3)(2,1,0)[96]                    : Inf\n",
      " Regression with ARIMA(0,0,3)(2,1,0)[96] errors : Inf\n",
      " ARIMA(0,0,4)(0,1,0)[96]                    : 24916.85\n",
      " Regression with ARIMA(0,0,4)(0,1,0)[96] errors : 24918.13\n",
      " ARIMA(0,0,4)(0,1,1)[96]                    : Inf\n",
      " Regression with ARIMA(0,0,4)(0,1,1)[96] errors : Inf\n",
      " ARIMA(0,0,4)(1,1,0)[96]                    : Inf\n",
      " Regression with ARIMA(0,0,4)(1,1,0)[96] errors : Inf\n",
      " ARIMA(0,0,5)(0,1,0)[96]                    : 24869.94\n",
      " Regression with ARIMA(0,0,5)(0,1,0)[96] errors : 24871.32\n",
      " ARIMA(1,0,0)(0,1,0)[96]                    : 25050.6\n",
      " Regression with ARIMA(1,0,0)(0,1,0)[96] errors : 25052.29\n",
      " ARIMA(1,0,0)(0,1,1)[96]                    : Inf\n",
      " Regression with ARIMA(1,0,0)(0,1,1)[96] errors : Inf\n",
      " ARIMA(1,0,0)(0,1,2)[96]                    : Inf\n",
      " Regression with ARIMA(1,0,0)(0,1,2)[96] errors : Inf\n",
      " ARIMA(1,0,0)(1,1,0)[96]                    : Inf\n",
      " Regression with ARIMA(1,0,0)(1,1,0)[96] errors : Inf\n",
      " ARIMA(1,0,0)(1,1,1)[96]                    : Inf\n",
      " Regression with ARIMA(1,0,0)(1,1,1)[96] errors : Inf\n",
      " ARIMA(1,0,0)(1,1,2)[96]                    : Inf\n",
      " Regression with ARIMA(1,0,0)(1,1,2)[96] errors : Inf\n",
      " ARIMA(1,0,0)(2,1,0)[96]                    : Inf\n",
      " Regression with ARIMA(1,0,0)(2,1,0)[96] errors : Inf\n",
      " ARIMA(1,0,0)(2,1,1)[96]                    : Inf\n",
      " Regression with ARIMA(1,0,0)(2,1,1)[96] errors : Inf\n",
      " ARIMA(1,0,0)(2,1,2)[96]                    : Inf\n",
      " Regression with ARIMA(1,0,0)(2,1,2)[96] errors : Inf\n",
      " ARIMA(1,0,1)(0,1,0)[96]                    : 25050.56\n",
      " Regression with ARIMA(1,0,1)(0,1,0)[96] errors : 25052.26\n",
      " ARIMA(1,0,1)(0,1,1)[96]                    : Inf\n",
      " Regression with ARIMA(1,0,1)(0,1,1)[96] errors : Inf\n",
      " ARIMA(1,0,1)(0,1,2)[96]                    : Inf\n",
      " Regression with ARIMA(1,0,1)(0,1,2)[96] errors : Inf\n",
      " ARIMA(1,0,1)(1,1,0)[96]                    : Inf\n",
      " Regression with ARIMA(1,0,1)(1,1,0)[96] errors : Inf\n",
      " ARIMA(1,0,1)(1,1,1)[96]                    : Inf\n",
      " Regression with ARIMA(1,0,1)(1,1,1)[96] errors : Inf\n",
      " ARIMA(1,0,1)(1,1,2)[96]                    : Inf\n",
      " Regression with ARIMA(1,0,1)(1,1,2)[96] errors : Inf\n",
      " ARIMA(1,0,1)(2,1,0)[96]                    : Inf\n",
      " Regression with ARIMA(1,0,1)(2,1,0)[96] errors : Inf\n",
      " ARIMA(1,0,1)(2,1,1)[96]                    : Inf\n",
      " Regression with ARIMA(1,0,1)(2,1,1)[96] errors : Inf\n",
      " ARIMA(1,0,2)(0,1,0)[96]                    : 24991.98\n",
      " Regression with ARIMA(1,0,2)(0,1,0)[96] errors : 24993.63\n",
      " ARIMA(1,0,2)(0,1,1)[96]                    : Inf\n",
      " Regression with ARIMA(1,0,2)(0,1,1)[96] errors : Inf\n",
      " ARIMA(1,0,2)(0,1,2)[96]                    : Inf\n",
      " Regression with ARIMA(1,0,2)(0,1,2)[96] errors : Inf\n",
      " ARIMA(1,0,2)(1,1,0)[96]                    : Inf\n",
      " Regression with ARIMA(1,0,2)(1,1,0)[96] errors : Inf\n",
      " ARIMA(1,0,2)(1,1,1)[96]                    : Inf\n",
      " Regression with ARIMA(1,0,2)(1,1,1)[96] errors : Inf\n",
      " ARIMA(1,0,2)(2,1,0)[96]                    : Inf\n",
      " Regression with ARIMA(1,0,2)(2,1,0)[96] errors : Inf\n",
      " ARIMA(1,0,3)(0,1,0)[96]                    : 24886.9\n",
      " Regression with ARIMA(1,0,3)(0,1,0)[96] errors : 24888.39\n",
      " ARIMA(1,0,3)(0,1,1)[96]                    : Inf\n",
      " Regression with ARIMA(1,0,3)(0,1,1)[96] errors : Inf\n",
      " ARIMA(1,0,3)(1,1,0)[96]                    : Inf\n",
      " Regression with ARIMA(1,0,3)(1,1,0)[96] errors : Inf\n",
      " ARIMA(1,0,4)(0,1,0)[96]                    : 24837.82\n",
      " Regression with ARIMA(1,0,4)(0,1,0)[96] errors : 24839.52\n",
      " ARIMA(2,0,0)(0,1,0)[96]                    : 25050.7\n",
      " Regression with ARIMA(2,0,0)(0,1,0)[96] errors : 25052.39\n",
      " ARIMA(2,0,0)(0,1,1)[96]                    : Inf\n",
      " Regression with ARIMA(2,0,0)(0,1,1)[96] errors : Inf\n",
      " ARIMA(2,0,0)(0,1,2)[96]                    : Inf\n",
      " Regression with ARIMA(2,0,0)(0,1,2)[96] errors : Inf\n",
      " ARIMA(2,0,0)(1,1,0)[96]                    : Inf\n",
      " Regression with ARIMA(2,0,0)(1,1,0)[96] errors : Inf\n",
      " ARIMA(2,0,0)(1,1,1)[96]                    : Inf\n",
      " Regression with ARIMA(2,0,0)(1,1,1)[96] errors : Inf\n",
      " ARIMA(2,0,0)(1,1,2)[96]                    : Inf\n",
      " Regression with ARIMA(2,0,0)(1,1,2)[96] errors : Inf\n",
      " ARIMA(2,0,0)(2,1,0)[96]                    : Inf\n",
      " Regression with ARIMA(2,0,0)(2,1,0)[96] errors : Inf\n",
      " ARIMA(2,0,0)(2,1,1)[96]                    : Inf\n",
      " Regression with ARIMA(2,0,0)(2,1,1)[96] errors : Inf\n",
      " ARIMA(2,0,1)(0,1,0)[96]                    : 25050.27\n",
      " Regression with ARIMA(2,0,1)(0,1,0)[96] errors : 25051.97\n",
      " ARIMA(2,0,1)(0,1,1)[96]                    : Inf\n",
      " Regression with ARIMA(2,0,1)(0,1,1)[96] errors : Inf\n",
      " ARIMA(2,0,1)(0,1,2)[96]                    : Inf\n",
      " Regression with ARIMA(2,0,1)(0,1,2)[96] errors : Inf\n",
      " ARIMA(2,0,1)(1,1,0)[96]                    : Inf\n",
      " Regression with ARIMA(2,0,1)(1,1,0)[96] errors : Inf\n",
      " ARIMA(2,0,1)(1,1,1)[96]                    : Inf\n",
      " Regression with ARIMA(2,0,1)(1,1,1)[96] errors : Inf\n",
      " ARIMA(2,0,1)(2,1,0)[96]                    : Inf\n",
      " Regression with ARIMA(2,0,1)(2,1,0)[96] errors : Inf\n",
      " ARIMA(2,0,2)(0,1,0)[96]                    : 24973.45\n",
      " Regression with ARIMA(2,0,2)(0,1,0)[96] errors : 24975.01\n",
      " ARIMA(2,0,2)(0,1,1)[96]                    : Inf\n",
      " Regression with ARIMA(2,0,2)(0,1,1)[96] errors : Inf\n",
      " ARIMA(2,0,2)(1,1,0)[96]                    : Inf\n",
      " Regression with ARIMA(2,0,2)(1,1,0)[96] errors : Inf\n",
      " ARIMA(2,0,3)(0,1,0)[96]                    : 24849.83\n",
      " Regression with ARIMA(2,0,3)(0,1,0)[96] errors : 24851.43\n",
      " ARIMA(3,0,0)(0,1,0)[96]                    : 25022.14\n",
      " Regression with ARIMA(3,0,0)(0,1,0)[96] errors : 25023.74\n",
      " ARIMA(3,0,0)(0,1,1)[96]                    : Inf\n",
      " Regression with ARIMA(3,0,0)(0,1,1)[96] errors : Inf\n",
      " ARIMA(3,0,0)(0,1,2)[96]                    : Inf\n",
      " Regression with ARIMA(3,0,0)(0,1,2)[96] errors : Inf\n",
      " ARIMA(3,0,0)(1,1,0)[96]                    : Inf\n",
      " Regression with ARIMA(3,0,0)(1,1,0)[96] errors : Inf\n",
      " ARIMA(3,0,0)(1,1,1)[96]                    : Inf\n",
      " Regression with ARIMA(3,0,0)(1,1,1)[96] errors : Inf\n",
      " ARIMA(3,0,0)(2,1,0)[96]                    : Inf\n",
      " Regression with ARIMA(3,0,0)(2,1,0)[96] errors : Inf\n",
      " ARIMA(3,0,1)(0,1,0)[96]                    : 25012.58\n",
      " Regression with ARIMA(3,0,1)(0,1,0)[96] errors : 25014.15\n",
      " ARIMA(3,0,1)(0,1,1)[96]                    : Inf\n",
      " Regression with ARIMA(3,0,1)(0,1,1)[96] errors : Inf\n",
      " ARIMA(3,0,1)(1,1,0)[96]                    : Inf\n",
      " Regression with ARIMA(3,0,1)(1,1,0)[96] errors : Inf\n",
      " ARIMA(3,0,2)(0,1,0)[96]                    : 24919.71\n",
      " Regression with ARIMA(3,0,2)(0,1,0)[96] errors : 24921.34\n",
      " ARIMA(4,0,0)(0,1,0)[96]                    : 24968.85\n",
      " Regression with ARIMA(4,0,0)(0,1,0)[96] errors : 24970.37\n",
      " ARIMA(4,0,0)(0,1,1)[96]                    : Inf\n",
      " Regression with ARIMA(4,0,0)(0,1,1)[96] errors : Inf\n",
      " ARIMA(4,0,0)(1,1,0)[96]                    : Inf\n",
      " Regression with ARIMA(4,0,0)(1,1,0)[96] errors : Inf\n",
      " ARIMA(4,0,1)(0,1,0)[96]                    : 24894.21\n",
      " Regression with ARIMA(4,0,1)(0,1,0)[96] errors : 24895.74\n",
      " ARIMA(5,0,0)(0,1,0)[96]                    : 24847.83\n",
      " Regression with ARIMA(5,0,0)(0,1,0)[96] errors : 24849.5\n",
      "\n",
      " Now re-fitting the best model(s) without approximations...\n",
      "\n",
      "\n",
      "\n",
      "\n",
      " Best model: Regression with ARIMA(1,0,4)(0,1,0)[96] errors \n",
      "\n"
     ]
    },
    {
     "data": {
      "text/plain": [
       "Series: power_ts_train \n",
       "Regression with ARIMA(1,0,4)(0,1,0)[96] errors \n",
       "\n",
       "Coefficients:\n",
       "         ar1      ma1     ma2     ma3      ma4    xreg\n",
       "      0.8319  -0.0656  0.0499  0.0163  -0.2554  0.1747\n",
       "s.e.  0.0364   0.0418  0.0344  0.0316   0.0281  0.2407\n",
       "\n",
       "sigma^2 estimated as 90.78:  log likelihood=-12673.61\n",
       "AIC=25361.22   AICc=25361.25   BIC=25404.24"
      ]
     },
     "metadata": {},
     "output_type": "display_data"
    }
   ],
   "source": [
    "auto.arima(power_ts_train, xreg = temp_ts_train, trace = TRUE, stepwise = FALSE)"
   ]
  },
  {
   "cell_type": "code",
   "execution_count": 57,
   "metadata": {},
   "outputs": [],
   "source": [
    "power_sarma_xreg = Arima(power_ts_train, order = c(1,0,4), seasonal = list(order = c(0,1,0), period = 96), xreg = temp_ts_train)\n",
    "power_sarma_xreg_f = forecast(power_sarma_xreg, h = 960, xreg = temp_ts_test)"
   ]
  },
  {
   "cell_type": "markdown",
   "metadata": {},
   "source": [
    "### Neural networks model with an external regressor"
   ]
  },
  {
   "cell_type": "code",
   "execution_count": 58,
   "metadata": {},
   "outputs": [
    {
     "name": "stdout",
     "output_type": "stream",
     "text": [
      "Series: power_ts_train \n",
      "Model:  NNAR(20,1,12)[96] \n",
      "Call:   nnetar(y = power_ts_train, repeats = 30, xreg = temp_ts_train)\n",
      "\n",
      "Average of 30 networks, each of which is\n",
      "a 22-12-1 network with 289 weights\n",
      "options were - linear output units \n",
      "\n",
      "sigma^2 estimated as 47.9\n"
     ]
    }
   ],
   "source": [
    "set.seed(5)\n",
    "power_nn_xreg = nnetar(power_ts_train, xreg = temp_ts_train, repeats = 30)\n",
    "print(power_nn_xreg)"
   ]
  },
  {
   "cell_type": "markdown",
   "metadata": {},
   "source": [
    "#### The nnetar() function with 30 repetitions has automatically chosen the model with 11 lagged values and one seasonal lag as input, and 7 nodes in hidden layer."
   ]
  },
  {
   "cell_type": "code",
   "execution_count": 59,
   "metadata": {},
   "outputs": [],
   "source": [
    "power_nn_xreg_f = forecast(power_nn_xreg, h = 960, xreg = temp_ts_test)"
   ]
  },
  {
   "cell_type": "markdown",
   "metadata": {},
   "source": [
    "#### Plotting predictions of the different models:\n",
    "##### - seasonal ARMAX\n",
    "##### - NN model with an external regressor"
   ]
  },
  {
   "cell_type": "code",
   "execution_count": 61,
   "metadata": {},
   "outputs": [
    {
     "data": {
      "image/png": "[encoded data removed]",
      "text/plain": [
       "Plot with title \"Predictions with temperature on the training dataset\""
      ]
     },
     "metadata": {},
     "output_type": "display_data"
    }
   ],
   "source": [
    "plot(temp_ts_test, col = 'blue', lwd = 2, main = 'Predictions with temperature on the training dataset', xaxt = 'n', ylab = 'Daily power consumption', xlab = 'Time', ylim = c(0,350))\n",
    "lines(power_ts_test, lwd = 2)\n",
    "lines(power_sarma_xreg_f$mean, col = 'deeppink', lwd = 2)\n",
    "lines(power_nn_xreg_f$mean, col = 'green3', lwd = 2)\n",
    "legend('bottomleft', lty=1, col=c('black', 'blue', 'deeppink', 'green3'), legend=c('Test data set', 'Temperature', 'Seasonal ARMAX', 'Neural networks with xreg'))"
   ]
  },
  {
   "cell_type": "markdown",
   "metadata": {},
   "source": [
    "#### Seasonal ARMAX seems to correspond to the test data set slightly better than the neural networks model."
   ]
  },
  {
   "cell_type": "markdown",
   "metadata": {},
   "source": [
    "### Choosing the model"
   ]
  },
  {
   "cell_type": "code",
   "execution_count": 62,
   "metadata": {},
   "outputs": [
    {
     "data": {
      "text/html": [
       "<table>\n",
       "<thead><tr><th></th><th scope=col>ME</th><th scope=col>RMSE</th><th scope=col>MAE</th><th scope=col>MPE</th><th scope=col>MAPE</th><th scope=col>MASE</th><th scope=col>ACF1</th><th scope=col>Theil's U</th></tr></thead>\n",
       "<tbody>\n",
       "\t<tr><th scope=row>Training set</th><td>-0.08400564 </td><td> 9.389831   </td><td>5.806149    </td><td>-0.1201290  </td><td>2.666319    </td><td>0.7276875   </td><td>-0.005472531</td><td>      NA    </td></tr>\n",
       "\t<tr><th scope=row>Test set</th><td> 2.01271322 </td><td>16.080110   </td><td>9.618255    </td><td> 0.8124432  </td><td>4.463167    </td><td>1.2054606   </td><td> 0.641458747</td><td>1.050971    </td></tr>\n",
       "</tbody>\n",
       "</table>\n"
      ],
      "text/latex": [
       "\\begin{tabular}{r|llllllll}\n",
       "  & ME & RMSE & MAE & MPE & MAPE & MASE & ACF1 & Theil's U\\\\\n",
       "\\hline\n",
       "\tTraining set & -0.08400564  &  9.389831    & 5.806149     & -0.1201290   & 2.666319     & 0.7276875    & -0.005472531 &       NA    \\\\\n",
       "\tTest set &  2.01271322  & 16.080110    & 9.618255     &  0.8124432   & 4.463167     & 1.2054606    &  0.641458747 & 1.050971    \\\\\n",
       "\\end{tabular}\n"
      ],
      "text/markdown": [
       "\n",
       "| <!--/--> | ME | RMSE | MAE | MPE | MAPE | MASE | ACF1 | Theil's U |\n",
       "|---|---|---|---|---|---|---|---|---|\n",
       "| Training set | -0.08400564  |  9.389831    | 5.806149     | -0.1201290   | 2.666319     | 0.7276875    | -0.005472531 |       NA     |\n",
       "| Test set |  2.01271322  | 16.080110    | 9.618255     |  0.8124432   | 4.463167     | 1.2054606    |  0.641458747 | 1.050971     |\n",
       "\n"
      ],
      "text/plain": [
       "             ME          RMSE      MAE      MPE        MAPE     MASE     \n",
       "Training set -0.08400564  9.389831 5.806149 -0.1201290 2.666319 0.7276875\n",
       "Test set      2.01271322 16.080110 9.618255  0.8124432 4.463167 1.2054606\n",
       "             ACF1         Theil's U\n",
       "Training set -0.005472531       NA \n",
       "Test set      0.641458747 1.050971 "
      ]
     },
     "metadata": {},
     "output_type": "display_data"
    }
   ],
   "source": [
    "accuracy(power_sarma_xreg_f, power_ts_test)"
   ]
  },
  {
   "cell_type": "code",
   "execution_count": 63,
   "metadata": {},
   "outputs": [
    {
     "data": {
      "text/html": [
       "<table>\n",
       "<thead><tr><th></th><th scope=col>ME</th><th scope=col>RMSE</th><th scope=col>MAE</th><th scope=col>MPE</th><th scope=col>MAPE</th><th scope=col>MASE</th><th scope=col>ACF1</th><th scope=col>Theil's U</th></tr></thead>\n",
       "<tbody>\n",
       "\t<tr><th scope=row>Training set</th><td>-0.00208728</td><td> 6.921312  </td><td> 4.366629  </td><td>-0.1176867 </td><td> 1.987075  </td><td>0.5472717  </td><td>0.1258850  </td><td>      NA   </td></tr>\n",
       "\t<tr><th scope=row>Test set</th><td>18.48353059</td><td>70.512607  </td><td>48.758856  </td><td> 2.8646054 </td><td>21.711105  </td><td>6.1109711  </td><td>0.9638244  </td><td>4.159398   </td></tr>\n",
       "</tbody>\n",
       "</table>\n"
      ],
      "text/latex": [
       "\\begin{tabular}{r|llllllll}\n",
       "  & ME & RMSE & MAE & MPE & MAPE & MASE & ACF1 & Theil's U\\\\\n",
       "\\hline\n",
       "\tTraining set & -0.00208728 &  6.921312   &  4.366629   & -0.1176867  &  1.987075   & 0.5472717   & 0.1258850   &       NA   \\\\\n",
       "\tTest set & 18.48353059 & 70.512607   & 48.758856   &  2.8646054  & 21.711105   & 6.1109711   & 0.9638244   & 4.159398   \\\\\n",
       "\\end{tabular}\n"
      ],
      "text/markdown": [
       "\n",
       "| <!--/--> | ME | RMSE | MAE | MPE | MAPE | MASE | ACF1 | Theil's U |\n",
       "|---|---|---|---|---|---|---|---|---|\n",
       "| Training set | -0.00208728 |  6.921312   |  4.366629   | -0.1176867  |  1.987075   | 0.5472717   | 0.1258850   |       NA    |\n",
       "| Test set | 18.48353059 | 70.512607   | 48.758856   |  2.8646054  | 21.711105   | 6.1109711   | 0.9638244   | 4.159398    |\n",
       "\n"
      ],
      "text/plain": [
       "             ME          RMSE      MAE       MPE        MAPE      MASE     \n",
       "Training set -0.00208728  6.921312  4.366629 -0.1176867  1.987075 0.5472717\n",
       "Test set     18.48353059 70.512607 48.758856  2.8646054 21.711105 6.1109711\n",
       "             ACF1      Theil's U\n",
       "Training set 0.1258850       NA \n",
       "Test set     0.9638244 4.159398 "
      ]
     },
     "metadata": {},
     "output_type": "display_data"
    }
   ],
   "source": [
    "accuracy(power_nn_xreg_f, power_ts_test)"
   ]
  },
  {
   "cell_type": "markdown",
   "metadata": {},
   "source": [
    "#### Due to lower error rates, the neural networks model was chosen for prediction of power with temperature as an external regressor."
   ]
  },
  {
   "cell_type": "markdown",
   "metadata": {},
   "source": [
    "### Testing residuals of the neural networks model with an external regressor"
   ]
  },
  {
   "cell_type": "code",
   "execution_count": 64,
   "metadata": {},
   "outputs": [
    {
     "name": "stderr",
     "output_type": "stream",
     "text": [
      "Warning message in modeldf.default(object):\n",
      "\"Could not find appropriate degrees of freedom for this model.\""
     ]
    },
    {
     "data": {
      "image/png": "[encoded data removed]",
      "text/plain": [
       "plot without title"
      ]
     },
     "metadata": {},
     "output_type": "display_data"
    }
   ],
   "source": [
    "checkresiduals(power_nn_xreg_f)"
   ]
  },
  {
   "cell_type": "markdown",
   "metadata": {},
   "source": [
    "#### Due to the autocorrelated residuals, this is not an ideal model, however, it is the best possible after choosing the most suitable models with auto.arima and neural networks. Distribution of residuals is symmetric, but thinner and higher and normal, and the largest autocorrelations are at the periods of 96, which means that residuals do not include only randomness."
   ]
  },
  {
   "cell_type": "markdown",
   "metadata": {},
   "source": [
    "### 4.2 FORECASTING THE POWER CONSUMPTION WITH TEMPERATURE AS AN EXTERNAL REGRESSOR"
   ]
  },
  {
   "cell_type": "code",
   "execution_count": 65,
   "metadata": {},
   "outputs": [
    {
     "name": "stdout",
     "output_type": "stream",
     "text": [
      "Series: power_ts_daily \n",
      "Model:  NNAR(11,1,7)[96] \n",
      "Call:   nnetar(y = power_ts_daily, repeats = 30, xreg = temp_ts_till_02_17)\n",
      "\n",
      "Average of 30 networks, each of which is\n",
      "a 13-7-1 network with 106 weights\n",
      "options were - linear output units \n",
      "\n",
      "sigma^2 estimated as 76.86\n"
     ]
    }
   ],
   "source": [
    "set.seed(5)\n",
    "power_nn_xreg_model = nnetar(power_ts_daily, xreg = temp_ts_till_02_17, repeats = 30)\n",
    "print(power_nn_xreg_model)"
   ]
  },
  {
   "cell_type": "code",
   "execution_count": 66,
   "metadata": {},
   "outputs": [],
   "source": [
    "power_nn_xreg_forecast = forecast(power_nn_xreg_model, h = 96, xreg = temp_ts_02_17)"
   ]
  },
  {
   "cell_type": "code",
   "execution_count": 67,
   "metadata": {},
   "outputs": [
    {
     "data": {
      "image/png": "[encoded data removed]",
      "text/plain": [
       "Plot with title \"Forecasts from NNAR(11,1,7)[96]\""
      ]
     },
     "metadata": {},
     "output_type": "display_data"
    }
   ],
   "source": [
    "plot(power_nn_xreg_forecast)"
   ]
  },
  {
   "cell_type": "markdown",
   "metadata": {},
   "source": [
    "# Comparing univariate forecast and forecast with external regressor outdoor temperature"
   ]
  },
  {
   "cell_type": "code",
   "execution_count": 68,
   "metadata": {},
   "outputs": [
    {
     "data": {
      "text/html": [
       "<table>\n",
       "<thead><tr><th></th><th scope=col>ME</th><th scope=col>RMSE</th><th scope=col>MAE</th><th scope=col>MPE</th><th scope=col>MAPE</th><th scope=col>MASE</th><th scope=col>ACF1</th><th scope=col>Theil's U</th></tr></thead>\n",
       "<tbody>\n",
       "\t<tr><th scope=row>Training set</th><td>-0.004893643</td><td> 6.72664    </td><td>4.054505    </td><td>-0.05175693 </td><td>1.885304    </td><td>0.5081531   </td><td>0.002365153 </td><td>      NA    </td></tr>\n",
       "\t<tr><th scope=row>Test set</th><td> 3.559910520</td><td>15.01703    </td><td>8.522011    </td><td> 1.16926382 </td><td>3.795614    </td><td>1.0680678   </td><td>0.665354878 </td><td>0.944347    </td></tr>\n",
       "</tbody>\n",
       "</table>\n"
      ],
      "text/latex": [
       "\\begin{tabular}{r|llllllll}\n",
       "  & ME & RMSE & MAE & MPE & MAPE & MASE & ACF1 & Theil's U\\\\\n",
       "\\hline\n",
       "\tTraining set & -0.004893643 &  6.72664     & 4.054505     & -0.05175693  & 1.885304     & 0.5081531    & 0.002365153  &       NA    \\\\\n",
       "\tTest set &  3.559910520 & 15.01703     & 8.522011     &  1.16926382  & 3.795614     & 1.0680678    & 0.665354878  & 0.944347    \\\\\n",
       "\\end{tabular}\n"
      ],
      "text/markdown": [
       "\n",
       "| <!--/--> | ME | RMSE | MAE | MPE | MAPE | MASE | ACF1 | Theil's U |\n",
       "|---|---|---|---|---|---|---|---|---|\n",
       "| Training set | -0.004893643 |  6.72664     | 4.054505     | -0.05175693  | 1.885304     | 0.5081531    | 0.002365153  |       NA     |\n",
       "| Test set |  3.559910520 | 15.01703     | 8.522011     |  1.16926382  | 3.795614     | 1.0680678    | 0.665354878  | 0.944347     |\n",
       "\n"
      ],
      "text/plain": [
       "             ME           RMSE     MAE      MPE         MAPE     MASE     \n",
       "Training set -0.004893643  6.72664 4.054505 -0.05175693 1.885304 0.5081531\n",
       "Test set      3.559910520 15.01703 8.522011  1.16926382 3.795614 1.0680678\n",
       "             ACF1        Theil's U\n",
       "Training set 0.002365153       NA \n",
       "Test set     0.665354878 0.944347 "
      ]
     },
     "metadata": {},
     "output_type": "display_data"
    }
   ],
   "source": [
    "accuracy(power_stlf, power_ts_test)"
   ]
  },
  {
   "cell_type": "code",
   "execution_count": 69,
   "metadata": {},
   "outputs": [
    {
     "data": {
      "text/html": [
       "<table>\n",
       "<thead><tr><th></th><th scope=col>ME</th><th scope=col>RMSE</th><th scope=col>MAE</th><th scope=col>MPE</th><th scope=col>MAPE</th><th scope=col>MASE</th><th scope=col>ACF1</th><th scope=col>Theil's U</th></tr></thead>\n",
       "<tbody>\n",
       "\t<tr><th scope=row>Training set</th><td>-0.00208728</td><td> 6.921312  </td><td> 4.366629  </td><td>-0.1176867 </td><td> 1.987075  </td><td>0.5472717  </td><td>0.1258850  </td><td>      NA   </td></tr>\n",
       "\t<tr><th scope=row>Test set</th><td>18.48353059</td><td>70.512607  </td><td>48.758856  </td><td> 2.8646054 </td><td>21.711105  </td><td>6.1109711  </td><td>0.9638244  </td><td>4.159398   </td></tr>\n",
       "</tbody>\n",
       "</table>\n"
      ],
      "text/latex": [
       "\\begin{tabular}{r|llllllll}\n",
       "  & ME & RMSE & MAE & MPE & MAPE & MASE & ACF1 & Theil's U\\\\\n",
       "\\hline\n",
       "\tTraining set & -0.00208728 &  6.921312   &  4.366629   & -0.1176867  &  1.987075   & 0.5472717   & 0.1258850   &       NA   \\\\\n",
       "\tTest set & 18.48353059 & 70.512607   & 48.758856   &  2.8646054  & 21.711105   & 6.1109711   & 0.9638244   & 4.159398   \\\\\n",
       "\\end{tabular}\n"
      ],
      "text/markdown": [
       "\n",
       "| <!--/--> | ME | RMSE | MAE | MPE | MAPE | MASE | ACF1 | Theil's U |\n",
       "|---|---|---|---|---|---|---|---|---|\n",
       "| Training set | -0.00208728 |  6.921312   |  4.366629   | -0.1176867  |  1.987075   | 0.5472717   | 0.1258850   |       NA    |\n",
       "| Test set | 18.48353059 | 70.512607   | 48.758856   |  2.8646054  | 21.711105   | 6.1109711   | 0.9638244   | 4.159398    |\n",
       "\n"
      ],
      "text/plain": [
       "             ME          RMSE      MAE       MPE        MAPE      MASE     \n",
       "Training set -0.00208728  6.921312  4.366629 -0.1176867  1.987075 0.5472717\n",
       "Test set     18.48353059 70.512607 48.758856  2.8646054 21.711105 6.1109711\n",
       "             ACF1      Theil's U\n",
       "Training set 0.1258850       NA \n",
       "Test set     0.9638244 4.159398 "
      ]
     },
     "metadata": {},
     "output_type": "display_data"
    }
   ],
   "source": [
    "accuracy(power_nn_xreg_f, power_ts_test)"
   ]
  },
  {
   "cell_type": "markdown",
   "metadata": {},
   "source": [
    "#### The error rate is lower with the best model we have obtained for univariate prediction, than with including external regressor outdoor temperature."
   ]
  },
  {
   "cell_type": "code",
   "execution_count": 70,
   "metadata": {},
   "outputs": [
    {
     "data": {
      "image/png": "[encoded data removed]",
      "text/plain": [
       "Plot with title \"Comparing forecasts for 02/17/2010\""
      ]
     },
     "metadata": {},
     "output_type": "display_data"
    }
   ],
   "source": [
    "plot(power_stlf_forecast$mean, col = 'black', lwd = 2, main = 'Comparing forecasts for 02/17/2010', xaxt = 'n', ylab = 'Daily power consumption', xlab = 'Time from 00:00 to 23.45', ylim = c(0,350))\n",
    "lines(power_nn_xreg_forecast$mean, col = 'red', lwd = 2)\n",
    "lines(temp_ts_02_17, col = 'blue', lwd = 2)\n",
    "legend('topleft', lty=1, col=c('black', 'red', 'blue'), legend=c('Univariate STL' ,'Neural networks with xreg', 'Temperature'))"
   ]
  },
  {
   "cell_type": "markdown",
   "metadata": {},
   "source": [
    "#### The forecast model of neural networks with external regressor seems to follow the temperature values on the graph above, than the univariate STL model, as expected. "
   ]
  },
  {
   "cell_type": "code",
   "execution_count": 71,
   "metadata": {},
   "outputs": [
    {
     "data": {
      "text/plain": [
       "   Min. 1st Qu.  Median    Mean 3rd Qu.    Max. \n",
       "  142.6   152.2   247.3   221.9   255.0   297.3 "
      ]
     },
     "metadata": {},
     "output_type": "display_data"
    },
    {
     "data": {
      "text/plain": [
       "   Min. 1st Qu.  Median    Mean 3rd Qu.    Max. \n",
       "  150.3   158.7   265.9   236.4   286.2   307.1 "
      ]
     },
     "metadata": {},
     "output_type": "display_data"
    }
   ],
   "source": [
    "summary(power_stlf_forecast$mean)\n",
    "summary(power_nn_xreg_forecast$mean)"
   ]
  },
  {
   "cell_type": "code",
   "execution_count": 72,
   "metadata": {},
   "outputs": [
    {
     "data": {
      "text/plain": [
       "\n",
       "\tPaired t-test\n",
       "\n",
       "data:  power_stlf_forecast$mean and power_nn_xreg_forecast$mean\n",
       "t = -10.082, df = 95, p-value < 2.2e-16\n",
       "alternative hypothesis: true difference in means is not equal to 0\n",
       "95 percent confidence interval:\n",
       " -17.40106 -11.67539\n",
       "sample estimates:\n",
       "mean of the differences \n",
       "              -14.53823 \n"
      ]
     },
     "metadata": {},
     "output_type": "display_data"
    }
   ],
   "source": [
    "t.test(power_stlf_forecast$mean, power_nn_xreg_forecast$mean, paired = TRUE, alternative = 'two.sided')"
   ]
  },
  {
   "cell_type": "markdown",
   "metadata": {},
   "source": [
    "#### According to the paired-samples t-test, the forecast of neural networks with external regressor was, on average, predicting higher power consumption, than the univariate STL forecast."
   ]
  },
  {
   "cell_type": "code",
   "execution_count": 81,
   "metadata": {},
   "outputs": [
    {
     "data": {
      "text/plain": [
       "\n",
       "\tPearson's product-moment correlation\n",
       "\n",
       "data:  power_stlf_forecast$mean and power_nn_xreg_forecast$mean\n",
       "t = 41.537, df = 94, p-value < 2.2e-16\n",
       "alternative hypothesis: true correlation is not equal to 0\n",
       "95 percent confidence interval:\n",
       " 0.9609522 0.9824903\n",
       "sample estimates:\n",
       "      cor \n",
       "0.9738238 \n"
      ]
     },
     "metadata": {},
     "output_type": "display_data"
    }
   ],
   "source": [
    "cor.test(power_stlf_forecast$mean, power_nn_xreg_forecast$mean)"
   ]
  },
  {
   "cell_type": "markdown",
   "metadata": {},
   "source": [
    "#### Correlation between the two predictions was almost 1. "
   ]
  },
  {
   "cell_type": "markdown",
   "metadata": {},
   "source": [
    "### **** Writing forecasts in .xlsx ****"
   ]
  },
  {
   "cell_type": "code",
   "execution_count": 82,
   "metadata": {},
   "outputs": [],
   "source": [
    "forecast_df = data.frame(Univariate = as.matrix(power_stlf_forecast$mean), With_temperature = as.matrix(power_nn_xreg_forecast$mean))"
   ]
  },
  {
   "cell_type": "code",
   "execution_count": 83,
   "metadata": {},
   "outputs": [
    {
     "data": {
      "text/html": [
       "<table>\n",
       "<thead><tr><th scope=col>Univariate</th><th scope=col>With_temperature</th></tr></thead>\n",
       "<tbody>\n",
       "\t<tr><td>149.5075</td><td>151.5130</td></tr>\n",
       "\t<tr><td>148.6357</td><td>154.6141</td></tr>\n",
       "\t<tr><td>143.9241</td><td>152.5232</td></tr>\n",
       "\t<tr><td>148.9184</td><td>156.7648</td></tr>\n",
       "\t<tr><td>152.4286</td><td>156.9105</td></tr>\n",
       "\t<tr><td>151.8631</td><td>156.3698</td></tr>\n",
       "</tbody>\n",
       "</table>\n"
      ],
      "text/latex": [
       "\\begin{tabular}{r|ll}\n",
       " Univariate & With\\_temperature\\\\\n",
       "\\hline\n",
       "\t 149.5075 & 151.5130\\\\\n",
       "\t 148.6357 & 154.6141\\\\\n",
       "\t 143.9241 & 152.5232\\\\\n",
       "\t 148.9184 & 156.7648\\\\\n",
       "\t 152.4286 & 156.9105\\\\\n",
       "\t 151.8631 & 156.3698\\\\\n",
       "\\end{tabular}\n"
      ],
      "text/markdown": [
       "\n",
       "| Univariate | With_temperature |\n",
       "|---|---|\n",
       "| 149.5075 | 151.5130 |\n",
       "| 148.6357 | 154.6141 |\n",
       "| 143.9241 | 152.5232 |\n",
       "| 148.9184 | 156.7648 |\n",
       "| 152.4286 | 156.9105 |\n",
       "| 151.8631 | 156.3698 |\n",
       "\n"
      ],
      "text/plain": [
       "  Univariate With_temperature\n",
       "1 149.5075   151.5130        \n",
       "2 148.6357   154.6141        \n",
       "3 143.9241   152.5232        \n",
       "4 148.9184   156.7648        \n",
       "5 152.4286   156.9105        \n",
       "6 151.8631   156.3698        "
      ]
     },
     "metadata": {},
     "output_type": "display_data"
    },
    {
     "name": "stdout",
     "output_type": "stream",
     "text": [
      "'data.frame':\t96 obs. of  2 variables:\n",
      " $ Univariate      : num  150 149 144 149 152 ...\n",
      " $ With_temperature: num  152 155 153 157 157 ...\n"
     ]
    }
   ],
   "source": [
    "head(forecast_df)\n",
    "str(forecast_df)"
   ]
  },
  {
   "cell_type": "code",
   "execution_count": 85,
   "metadata": {},
   "outputs": [],
   "source": [
    "# writing the second prediction in the workbook\n",
    "write.xlsx(forecast_df, file = \"Power consumption forecast.xlsx\", sheetName = \"Sheet 1\", row.names = FALSE, col.names = TRUE, append = FALSE)"
   ]
  }
 ],
 "metadata": {
  "kernelspec": {
   "display_name": "R",
   "language": "R",
   "name": "ir"
  },
  "language_info": {
   "codemirror_mode": "r",
   "file_extension": ".r",
   "mimetype": "text/x-r-source",
   "name": "R",
   "pygments_lexer": "r",
   "version": "3.6.1"
  }
 },
 "nbformat": 4,
 "nbformat_minor": 4
}
